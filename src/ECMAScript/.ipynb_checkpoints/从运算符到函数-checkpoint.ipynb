{
 "cells": [
  {
   "cell_type": "markdown",
   "metadata": {},
   "source": [
    "# 从表达式到函数\n",
    "\n",
    "\n",
    "编程编的是什么呢?编的是执行操作的过程,而表达式是编程语言中执行过程的最小单位.\n",
    "\n",
    "表达式是由值,运算符,计算分组符号(括号),自由变量和约束变量等以能求得数值的有意义排列方法所得的组合.约束变量在表达式中已被指定数值,而自由变量则可以在表达式之外另行指定数值.\n",
    "\n",
    "而对表达式进行组合描述更加复杂的操作过程就是控制流,迭代语法和错误处理.这些语句可以用于描述表达式间的关联,从而在不同的情况下执行不同的表达式,再进一步就是函数.函数将一段由表达式描述的操作过程封装到一起,从而实现复用.\n",
    "\n",
    "\n",
    "函数作为现代编程语言中最基础的工具之一,在不同的语言中其地位是不同的,js中的函数也是一等对象,但相比python的可以说更加好用一些,\n",
    "主要体现在它的匿名函数定义更加方便."
   ]
  },
  {
   "cell_type": "markdown",
   "metadata": {},
   "source": [
    "\n",
    "\n",
    "## 表达式\n",
    "\n",
    "表达式是一组代码的集合,它会返回一个值,通常表达式由若干运算符和数据对象组合而成.\n",
    "\n",
    "### 运算符\n",
    "\n",
    "运算符用于执行程序代码运算,会针对一个以上操作数项目来进行运算,从操作数据的个数来看通常有一元运算符,二元运算符,三元运算符三种.\n",
    "js中运算符按功能来看包括如下几种:\n",
    "\n",
    "\n",
    "+ 赋值运算符(Assignment operators)\n",
    "\n",
    "凡是让运算符左边的变量获得右边代码运算结果操作就是赋值运算,js中支持的赋值运算符包括\n",
    "\n",
    "名字|简写的操作符|含义\n",
    "---|---|---\n",
    "赋值(Assignment)|`x = y``|x = y`\n",
    "加法赋值(Addition assignment)|`x += y`|`x = x + y`\n",
    "减法赋值(Subtraction assignment)|`x -= y`|`x = x - y`\n",
    "乘法赋值(Multiplication assignment)|`x *= y`|`x = x * y`\n",
    "除法赋值(Division assignment)|`x /= y`|`x = x / y`\n",
    "求余赋值(Remainder assignment)|`x %= y`|`x = x % y`\n",
    "求幂赋值(Exponentiation assignment)|`x **= y`|`x = x ** y`\n",
    "左移位赋值(Left shift assignment)|`x <<= y`|`x = x << y`\n",
    "右移位赋值(Right shift assignment)|`x >>= y`|`x = x >> y`\n",
    "无符号右移位赋值(Unsigned right shift assignment)|`x >>>= y`|`x = x >>> y`\n",
    "按位与赋值(Bitwise AND assignment)|`x &= y`|`x = x & y`\n",
    "按位异或赋值(Bitwise XOR assignment)|\t`x ^= y`|`x = x ^ y`\n",
    "按位或赋值(Bitwise OR assignment)|`xI=y`|`x = x | y`\n",
    "\n",
    "另一个特殊的赋值操作是解构赋值,这个可以看[基本容器]()中的介绍.\n",
    "\n",
    "\n",
    "+ 比较运算符(Comparison operators)\n",
    "\n",
    "比较运算符比较它的操作数并返回一个基于表达式是否为真的逻辑值.操作数可以是数字,字符串,逻辑,对象值.字符串比较是基于标准的字典顺序,使用Unicode值.在多数情况下,如果两个操作数不是相同的类型,JavaScript会尝试转换它们为恰当的类型来比较.这种行为通常发生在数字作为操作数的比较.类型转换的例外是使用 === 和 !== 操作符,它们会执行严格的相等和不相等比较.这些运算符不会在检查相等之前转换操作数的类型.下面的表格描述了该示例代码中的各比较运算符\n",
    "\n",
    "名字|运算符|描述\n",
    "---|---|---\n",
    "等于Equal| `==`|二元运算符,如果两边操作数相等时返回true\n",
    "不等于Not equal| `!=`|二元运算符,如果两边操作数不相等时返回true\n",
    "全等Strict equal |`===`|二元运算符,两边操作数相等且类型相同时返回true\n",
    "不全等 Strict not equal|`!==`|二元运算符,两边操作数不相等或类型不同时返回true\n",
    "大于 Greater than|`>`|二元运算符,左边的操作数大于右边的操作数返回true\n",
    "大于等于 Greater than or equal|`>=`|二元运算符,左边的操作数大于或等于右边的操作数返回true\n",
    "小于 Less than |`<`|二元运算符,左边的操作数小于右边的操作数返回true\t\n",
    "小于等于 Less than or equal|`<=`|二元运算符,左边的操作数小于或等于右边的操作数返回true\t\n",
    "\n",
    "+ 算数运算符(Arithmetic operators)\n",
    "\n",
    "算术运算符使用数值(字面量或者变量)作为操作数并返回一个数值.标准的算术运算符就是加减乘除(+ - * /).当操作数是浮点数时,这些运算符表现得跟它们在大多数编程语言中一样.特殊要注意的是,除零会产生Infinity\n",
    "\n",
    "\n",
    "名字|运算符|描述\n",
    "---|---|---\n",
    "自增|`++`|一元运算符. 将操作数的值加一. 如果放在操作数前面(++x), 则返回加一后的值; 如果放在操作数后面(x++), 则返回操作数原值,然后再将操作数加一.\n",
    "自减|`--`|一元运算符. 将操作数的值减一. 前后缀两种用法的返回值类似自增运算符.\t\n",
    "一元负值符|`-`|一元运算符,返回操作数的负值.\t\n",
    "一元正值符|`+`|一元运算符,如果操作数在之前不是number,试图将其转换为number\n",
    "求和|`+`|二元运算符,返回相加后的结果\n",
    "求和|`-`|二元运算符,返回相减后的结果\n",
    "求和|`*`|二元运算符,返回相乘后的结果\n",
    "求和|`/`|二元运算符,返回相除后的结果\n",
    "求余|`%`|\t二元运算符. 返回相除之后的余数.\n",
    "指数运算符|`**`|计算 base(底数) 的 exponent(指数)次方, 表示为baseexponent[ES7]\n",
    "\n",
    "\n",
    "+ 位运算符(Bitwise operators)\n",
    "\n",
    "位运算符将它的操作数视为32位元的二进制串(0和1组成)而非十进制八进制或十六进制数.例如:十进制数字9用二进制表示为1001,位运算符就是在这个二进制表示上执行运算,但是返回结果是标准的JavaScript数值\n",
    "\n",
    "名字|运算符|描述\n",
    "---|---|---\n",
    "按位非 NOT|`~`|一元运算符,反转被操作数的位\n",
    "按位与 AND|`&`|二元运算符,每一个对应的位都为1则返回1,否则返回0.\n",
    "按位或 OR\t|`I` |二元运算符,每一个对应的位,只要有一个为1则返回1,否则返回0.\n",
    "按位异或 XOR|`^`|二元运算符,每一个对应的位,两个不相同则返回1,相同则返回0.\n",
    "左移 shift|`a<<b`|二元运算符,将a的二进制串向左移动b位,右边移入0.\n",
    "算术右移|`a>>b`|二元运算符,把a的二进制表示向右移动b位,丢弃被移出的所有位.(注:算术右移左边空出的位是根据最高位是0和1来进行填充的)\n",
    "无符号右移(左边空出位用0填充)|`a>>>b`|把a的二进制表示向右移动b位,丢弃被移出的所有位,并把左边空出的位都填充为0\n",
    "\n",
    "+ 逻辑运算符(Logical operators)\n",
    "\n",
    "逻辑运算符常用于布尔(逻辑)值之间:当操作数都是布尔值时,返回值也是布尔值.不过实际上&&和||返回的是一个特定的操作数的值,所以当它用于非布尔值的时候,返回值就可能是非布尔值.逻辑运算符的描述如下\n",
    "\n",
    "名字|运算符|描述\n",
    "---|---|---\n",
    "逻辑与|`&&`|`expr1 && expr2`如果expr1能被转换为false,那么返回expr1;否则，返回expr2.因此,`&&`用于布尔值时,当操作数都为true时返回true;否则返回false.\n",
    "逻辑或|`II`|`expr1 II expr2` 如果expr1能被转换为true,那么返回expr1;否则，返回expr2.因此,`II`用于布尔值时,当任何一个操作数为true则返回true;如果操作数都是false则返回false\n",
    "逻辑非|`!`|`!expr`如果操作数能够转换为true则返回false;否则返回true\n",
    "\n",
    "\n",
    "作为逻辑表达式进行求值是从左到右,它们是为可能的\"短路\"的出现而使用以下规则进行测试:\n",
    "\n",
    "```\n",
    "false && anything    // 被短路求值为false\n",
    "true II anything       // 被短路求值为true\n",
    "```\n",
    "逻辑的规则,保证这些评估是总是正确的.请注意上述表达式的anything部分不会被求值,所以这样做不会产生任何副作用.\n",
    "\n",
    "+ 字符串运算符(String operators)\n",
    "\n",
    "比较运算符可以直接用于字符串的比较,另一个字符串可以使用的运算符是求和运算符,在字符串运算符中,其意思是字符串的连接\n",
    "\n",
    "+ 条件(三元)运算符(Conditional operator)\n",
    "\n",
    "\n",
    "条件运算符是JavaScript中唯一需要三个操作数的运算符,运算的结果根据给定条件在两个值中取其一.语法为：\n",
    "\n",
    "```js\n",
    "条件 ? 值1 : 值2\n",
    "```\n",
    "如果条件为真,则结果取值1;否则为值2.你能够在任何允许使用标准运算符的地方使用条件运算符\n",
    "\n"
   ]
  },
  {
   "cell_type": "markdown",
   "metadata": {},
   "source": [
    "+ 逗号运算符(Comma operator)\n",
    "\n",
    "逗号操作符对两个操作数进行求值并返回最终操作数的值.它常常用在 for 循环中,在每次循环时对多个变量进行更新.\n",
    "\n",
    "例如假如 a 是一个二维数组,每个维度各有10个元素，以下代码利用逗号操作符来同时改变两个变量的值.这段代码的功能是打印出该二维数组的对角线元素的值:"
   ]
  },
  {
   "cell_type": "code",
   "execution_count": 1,
   "metadata": {},
   "outputs": [
    {
     "name": "stdout",
     "output_type": "stream",
     "text": [
      "a[0][9]= 9\n",
      "a[1][8]= 8\n",
      "a[2][7]= 7\n",
      "a[3][6]= 6\n",
      "a[4][5]= 5\n"
     ]
    }
   ],
   "source": [
    "const x = [0,1,2,3,4,5,6,7,8,9]\n",
    "const a = [x, x, x, x, x]\n",
    "\n",
    "for (let i = 0, j = 9;i <= j;i++, j--){\n",
    "    console.log('a[' + i + '][' + j + ']= ' + a[i][j]);\n",
    "}"
   ]
  },
  {
   "cell_type": "markdown",
   "metadata": {},
   "source": [
    "+ 一元运算符(Unary operators)\n",
    "\n",
    "除了自增自减外,还有一些js自定义的一元运算符用于操作数据.这些运算符的使用方式是\n",
    "\n",
    "```js\n",
    "运算符 数据\n",
    "```\n",
    "\n",
    "有如下这些\n",
    "\n",
    "名字|运算符|描述\n",
    "---|---|---\n",
    "删除|`delete`|删除一个对象或一个对象的属性或者一个数组中某一个键值\n",
    "类型反射|`typeof`|typeof 操作符返回一个表示 operand 类型的字符串值。operand 可为字符串,变量,关键词或对象,其类型将被返回.operand 两侧的括号为可选\n",
    "空返回|`void`|表明一个运算没有返回值,这通常在浏览器环境用"
   ]
  },
  {
   "cell_type": "markdown",
   "metadata": {},
   "source": [
    "+ 关系运算符(Relational operator)\n",
    "\n",
    "关系运算符用于判断两个对象间的关系,包含两种:\n",
    "\n",
    "名字|运算符|描述\n",
    "---|---|---\n",
    "包含|`in`|运算符前的对象包含于后一对象\n",
    "是实例|`instanceof`|`objectName instanceof objectType`\n",
    "\n",
    "### 运算符优先级\n",
    "\n",
    "运算符可以连立,因此运算符是有优先级的,顺序可以查看[这张表](https://developer.mozilla.org/zh-CN/docs/Web/JavaScript/Reference/Operators/Operator_Precedence#Table)\n",
    "\n",
    "\n",
    "### 表达式类型\n",
    "\n",
    "JavaScript有以下表达式类型：\n",
    "\n",
    "+ 算数: 得出一个数字, 例如`3.14159`. (通常使用 arithmetic operators.)\n",
    "+ 字符串: 得出一个字符串, 例如, `\"Fred\"` 或 `\"234\"`. (通常使用 string operators.)\n",
    "+ 逻辑值: 得出`true`或者`false`. (经常涉及到 logical operators.)\n",
    "+ 基本表达式: javascript中基本的关键字和一般表达式,这包括`this`和`()`操作\n",
    "+ 左值表达式: 分配给左值,包括`new`和`扩展语句`操作\n",
    "\n",
    "### 谓词\n",
    "\n",
    "所有返回bool值的表达式称做谓词,谓词是过程的基础,没有谓词也就没有控制流.\n"
   ]
  },
  {
   "cell_type": "markdown",
   "metadata": {},
   "source": [
    "## Function对象\n",
    "\n",
    "函数是对象,因此它也有属性和方法\n",
    "\n",
    "属性|说明\n",
    "---|---\n",
    "this|指使用时所在的对象(注意)\n",
    "arguments|函数的参数存放处,一个类数组对象\n",
    "length|希望接收参数的个数\n",
    "prototype|保存实例方法的对象\n",
    "name|函数的名字\n",
    "\n",
    "\n",
    "方法|说明\n",
    "---|---\n",
    "toString()|返回字面量\n",
    "valueOf()|返回functin的值\n",
    "\n"
   ]
  },
  {
   "cell_type": "code",
   "execution_count": 2,
   "metadata": {},
   "outputs": [],
   "source": [
    "function f1(x,y){\n",
    "    \n",
    "    return x+y\n",
    "    \n",
    "}"
   ]
  },
  {
   "cell_type": "code",
   "execution_count": 3,
   "metadata": {},
   "outputs": [
    {
     "data": {
      "text/plain": [
       "''"
      ]
     },
     "execution_count": 3,
     "metadata": {},
     "output_type": "execute_result"
    }
   ],
   "source": [
    "(()=>{return 1}).name"
   ]
  },
  {
   "cell_type": "markdown",
   "metadata": {},
   "source": [
    "### 定义一个函数\n",
    "\n",
    "像python中一样,fucntion是对象,定义一个function可以有4种方式:\n",
    "\n",
    "+ 使用`function`关键字\n",
    "\n",
    "    这种方式类似python中的define"
   ]
  },
  {
   "cell_type": "code",
   "execution_count": 4,
   "metadata": {},
   "outputs": [],
   "source": [
    "function f2(...args){\n",
    "    return true\n",
    "}"
   ]
  },
  {
   "cell_type": "markdown",
   "metadata": {},
   "source": [
    "最标准的fucntion写法,没啥花头~"
   ]
  },
  {
   "cell_type": "markdown",
   "metadata": {},
   "source": [
    "+ 通过new关键字开辟一个新的Function对象\n",
    "\n",
    "```javascript\n",
    "var func =new Function(\"param1\",\"param2\",...\"function body\")\n",
    "```"
   ]
  },
  {
   "cell_type": "code",
   "execution_count": 5,
   "metadata": {},
   "outputs": [],
   "source": [
    "let aa = new Function(\"x\",\"y\",\"var a = 10 ;return a+x+y\")"
   ]
  },
  {
   "cell_type": "code",
   "execution_count": 6,
   "metadata": {},
   "outputs": [
    {
     "data": {
      "text/plain": [
       "13"
      ]
     },
     "execution_count": 6,
     "metadata": {},
     "output_type": "execute_result"
    }
   ],
   "source": [
    "aa(1,2)"
   ]
  },
  {
   "cell_type": "markdown",
   "metadata": {},
   "source": [
    "这个就有花头了,function既然是一个对象,那当然可以用new关键字构建了,但不建议这样写,因为你也看到了,代码段成了字符串不好维护,而且显而易见的一定会有二次解析影响性能"
   ]
  },
  {
   "cell_type": "markdown",
   "metadata": {},
   "source": [
    "+ 匿名函数\n",
    "\n",
    "function不定义函数名就是匿名函数了"
   ]
  },
  {
   "cell_type": "code",
   "execution_count": 7,
   "metadata": {},
   "outputs": [],
   "source": [
    "let n = function(x,y){\n",
    "    return x+y\n",
    "}"
   ]
  },
  {
   "cell_type": "code",
   "execution_count": 8,
   "metadata": {},
   "outputs": [
    {
     "data": {
      "text/plain": [
       "3"
      ]
     },
     "execution_count": 8,
     "metadata": {},
     "output_type": "execute_result"
    }
   ],
   "source": [
    "n(1,2)"
   ]
  },
  {
   "cell_type": "markdown",
   "metadata": {},
   "source": [
    "+ 箭头函数\n",
    "\n",
    "```javascript\n",
    "let s = (x,y)=>{\n",
    "    return x+y\n",
    "}\n",
    "```"
   ]
  },
  {
   "cell_type": "code",
   "execution_count": 9,
   "metadata": {},
   "outputs": [],
   "source": [
    "let s = (x,y)=>{\n",
    "    return x+y\n",
    "}"
   ]
  },
  {
   "cell_type": "code",
   "execution_count": 10,
   "metadata": {},
   "outputs": [
    {
     "data": {
      "text/plain": [
       "3"
      ]
     },
     "execution_count": 10,
     "metadata": {},
     "output_type": "execute_result"
    }
   ],
   "source": [
    "s(1,2)"
   ]
  },
  {
   "cell_type": "markdown",
   "metadata": {},
   "source": [
    "箭头函数是ES6中新增的方式,主要好处在于简化函数的使用,不过需要注意的是:\n",
    "\n",
    "1. 函数体内的this对象,就是定义时所在的对象,而不是使用时所在的对象.\n",
    "\n",
    "2. 不可以当作构造函数,也就是说,不可以使用new命令,否则会抛出一个错误.\n",
    "\n",
    "3. 不可以使用arguments对象,该对象在函数体内不存在.如果要用,可以用Rest参数代替.\n",
    "\n",
    "4. 不可以使用yield命令,因此箭头函数不能用作Generator函数.\n",
    "\n",
    "上面四点中,第一点尤其值得注意.`this`对象在非箭头函数中一般是绑定的所在位置的外层,因此非箭头函数一般会用于定义类或者对象的方法,其中的this就会是函数所绑定的对象;但是在箭头函数中它不会构造自己的`this`变量,如果其中有this,那么实际上`this`相当于它外层的`this`."
   ]
  },
  {
   "cell_type": "markdown",
   "metadata": {},
   "source": [
    "## 函数的参数\n",
    "\n",
    "js函数的参数全部都是位置参数,没有关键字参数,这也就意味着我们调用函数时不能像python中一样全部使用关键字来避免出错\n",
    "\n",
    "### arguments\n",
    "\n",
    "定义function后,Js实际上会默认将所有参数传入一个内部变量`arguments`,它类似一个`array`,因此即便你定义的参数数目和实际使用给的参数数目不同也没关系,用`arguments`就可以了,有点类似python中的`*args`."
   ]
  },
  {
   "cell_type": "code",
   "execution_count": 11,
   "metadata": {},
   "outputs": [],
   "source": [
    "function sum() {\n",
    "    var args = Array.prototype.slice.apply(arguments)\n",
    "    var sum = args.reduce(function(x,y){\n",
    "        return x+y\n",
    "    }) \n",
    "    return sum\n",
    "}"
   ]
  },
  {
   "cell_type": "code",
   "execution_count": 12,
   "metadata": {},
   "outputs": [
    {
     "data": {
      "text/plain": [
       "6"
      ]
     },
     "execution_count": 12,
     "metadata": {},
     "output_type": "execute_result"
    }
   ],
   "source": [
    "sum(1,2,3)"
   ]
  },
  {
   "cell_type": "markdown",
   "metadata": {},
   "source": [
    "使用arguments也可以实现参数默认值的设定"
   ]
  },
  {
   "cell_type": "code",
   "execution_count": 13,
   "metadata": {},
   "outputs": [],
   "source": [
    "function defaultArgs(){\n",
    "    var a = arguments[0] ? arguments[0] : 1//设置参数a的默认值为1\n",
    "    var b = arguments[1] ? arguments[1] : 9//设置参数b的默认值为9\n",
    "    return [a,b,Array.prototype.slice.apply(arguments)]\n",
    "}"
   ]
  },
  {
   "cell_type": "code",
   "execution_count": 14,
   "metadata": {},
   "outputs": [
    {
     "data": {
      "text/plain": [
       "[ 1, 2, [ 1, 2, 3 ] ]"
      ]
     },
     "execution_count": 14,
     "metadata": {},
     "output_type": "execute_result"
    }
   ],
   "source": [
    "defaultArgs(1,2,3)"
   ]
  },
  {
   "cell_type": "markdown",
   "metadata": {},
   "source": [
    "### 变长参数\n",
    "\n",
    "我们可以使用扩展运算符来实现边长参数的使用,这个就真的有点像python中的`*args`了\n"
   ]
  },
  {
   "cell_type": "code",
   "execution_count": 15,
   "metadata": {},
   "outputs": [],
   "source": [
    "function foo(a, b, ...rest) {\n",
    "    console.log('a = ' + a);\n",
    "    console.log('b = ' + b);\n",
    "    console.log(rest);\n",
    "}"
   ]
  },
  {
   "cell_type": "code",
   "execution_count": 16,
   "metadata": {},
   "outputs": [
    {
     "name": "stdout",
     "output_type": "stream",
     "text": [
      "a = 1\n",
      "b = 2\n",
      "[ 3, 3, 4, 5 ]\n"
     ]
    }
   ],
   "source": [
    "foo(1,2,3,3,4,5)"
   ]
  },
  {
   "cell_type": "markdown",
   "metadata": {},
   "source": [
    "### 默认参数\n",
    "\n",
    "需要注意的是js中的默认参数依然是位置参数而非关键字参数"
   ]
  },
  {
   "cell_type": "code",
   "execution_count": 17,
   "metadata": {},
   "outputs": [],
   "source": [
    "function bar(a = 1,b = 2){\n",
    "    return a+b\n",
    "}"
   ]
  },
  {
   "cell_type": "code",
   "execution_count": 18,
   "metadata": {},
   "outputs": [
    {
     "data": {
      "text/plain": [
       "3"
      ]
     },
     "execution_count": 18,
     "metadata": {},
     "output_type": "execute_result"
    }
   ],
   "source": [
    "bar()"
   ]
  },
  {
   "cell_type": "markdown",
   "metadata": {},
   "source": [
    "### 闭包 \n",
    "\n",
    "js支持高阶函数,当然也就支持闭包了\n",
    "\n",
    "所谓闭包就是返回值是一个函数\n",
    "\n",
    "> 例 一个自加器"
   ]
  },
  {
   "cell_type": "code",
   "execution_count": 19,
   "metadata": {},
   "outputs": [],
   "source": [
    "let counter = () => {\n",
    "    let flag = 0\n",
    "    let count = () =>{\n",
    "        flag += 1\n",
    "        return flag\n",
    "    }\n",
    "    return count\n",
    "}"
   ]
  },
  {
   "cell_type": "code",
   "execution_count": 20,
   "metadata": {},
   "outputs": [
    {
     "name": "stdout",
     "output_type": "stream",
     "text": [
      "1\n",
      "2\n",
      "3\n",
      "4\n"
     ]
    }
   ],
   "source": [
    "let c1 = counter()\n",
    "console.log(c1())\n",
    "console.log(c1())\n",
    "console.log(c1())\n",
    "console.log(c1())"
   ]
  }
 ],
 "metadata": {
  "kernelspec": {
   "display_name": "jp-Babel (Node.js)",
   "language": "babel",
   "name": "babel"
  },
  "language_info": {
   "file_extension": ".js",
   "mimetype": "application/javascript",
   "name": "javascript",
   "version": "13.8.0"
  }
 },
 "nbformat": 4,
 "nbformat_minor": 1
}
