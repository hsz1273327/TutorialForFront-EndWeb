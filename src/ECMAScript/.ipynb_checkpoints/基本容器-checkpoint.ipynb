{
 "cells": [
  {
   "cell_type": "markdown",
   "metadata": {},
   "source": [
    "# 基本容器\n",
    "\n",
    "Javascript自带的数据结构其实并不好使,他们都是通用的Object,你是无法使用typeOf直接反射出来类型的.而Object本身也是一种容器.\n",
    "自带的数据结构有:\n",
    "\n",
    "+ `Array`数组,异构有序序列,支持迭代器\n",
    "+ `Set`集合,异构非重复无序序列,支持迭代器\n",
    "+ `Map`映射,hashmap.支持迭代器,key可以是任意类型\n",
    "+ `Object`对象,hashmap.不支持迭代器,key是字符串或Symbol\n"
   ]
  },
  {
   "cell_type": "markdown",
   "metadata": {},
   "source": [
    "## Array\n",
    "\n",
    "说是数组,其实只是数组的样子,本质上和python的list一样,不要指望效率\n",
    "\n",
    "### 数组对象的方法\n",
    "\n",
    "\n",
    "+ `indexOf(element)`|搜索指定元素出现位置(从左到右第一次出现)\n",
    "+ `includes(element)`|判断元素是否包含在数组中.[ES7]\n",
    "+ `lastIndexOf(element)`|索指定元素出现位置(从右到左第一次出现)\n",
    "+ `slice(numbers)`|返回指定索引区的子串(切片),和python相同的规则\n",
    "+ `length`|返回长度\n",
    "+ `pop()/push(element)`|出栈/入栈操作,即在数组末位做添加删除操作,相当于python的pop/append\n",
    "+ `unshift(element)/shift()`|在数组首位做添加删除操作,和push/pop类似\n",
    "+ `sort()`|排序\n",
    "+ `reverse()`|转向,即把元素全部颠倒顺序\n",
    "+ `splice(start,number,replace)`|从start位开始向后number位,先删除,再插入replace的内容\n",
    "+ `concat(otherArray)`|数组连接\n",
    "+ `join(str)`|类似python中的join,用某个字符串作为连接符把数组变成字符串\n",
    "+ `toString()`|转换为字符串\n",
    "+ `copyWithin(target[, start = 0, end = this.length])`|copyWithin方法，在当前数组内部，将指定位置的成员复制到其他位置（会覆盖原有成员），然后返回当前数组。也就是说，使用这个方法，会修改当前数组。\n",
    "+ `fill(object)`|使用给定值，填充一个数组\n",
    "\n",
    "### 遍历器\n",
    "\n",
    "遍历器|效果\n",
    "---|---\n",
    "keys()|返回一个键名的遍历器\n",
    "values()|返回一个键值的遍历器\n",
    "entries()|返回一个键值对的遍历器\n",
    "forEach(func)|和scala中的一样,就是每个都进行操作\n",
    "\n",
    "\n",
    "### 独有高阶函数方法\n",
    "\n",
    "+ `filter(func)`|返回值是true的元素\n",
    "+ `map(func)`|返回每次运行后的结果构成的数组\n",
    "+ `every(func)`|如果每一项都返回true则返回true\n",
    "+ `some(func)`|有一个返回true就返回true\n",
    "+ `reduce(func)`|从起始位置开始遍历的缩小\n",
    "+ `reduceRight(func)`|从末尾开始遍历缩小\n",
    "+ `find(func)`|用于找出第一个符合条件的数组成员.它的参数是一个回调函数,所有数组成员依次执行该回调函数.直到找出第一个返回值为true的成员,然后返回该成员.如果没有符合条件的成员,则返回undefined.\n",
    "+ `findIndex(func)`|与find方法非常类似，返回第一个符合条件的数组成员的位置，如果所有成员都不符合条件，则返回-1\n",
    "\n",
    "\n",
    "### Array对象的方法\n",
    "\n",
    "\n",
    "+ `from(array-like/iterable)`|方法用于将两类对象转为真正的数组：类似数组的对象（array-like object）和可遍历（iterable）的对象（包括ES6新增的数据结构Set和Map）。\n",
    "+ `of(...args)`|将一组值，转换为数组\n"
   ]
  },
  {
   "cell_type": "markdown",
   "metadata": {},
   "source": [
    "### 数组中的空值\n",
    "\n",
    "神奇的是js是允许数字中有空值的"
   ]
  },
  {
   "cell_type": "code",
   "execution_count": 1,
   "metadata": {},
   "outputs": [],
   "source": [
    "let array1 = [1,2,,4]"
   ]
  },
  {
   "cell_type": "code",
   "execution_count": 2,
   "metadata": {},
   "outputs": [
    {
     "data": {
      "text/plain": [
       "[ 1, 2, <1 empty item>, 4 ]"
      ]
     },
     "execution_count": 2,
     "metadata": {},
     "output_type": "execute_result"
    }
   ],
   "source": [
    "array1"
   ]
  },
  {
   "cell_type": "code",
   "execution_count": 3,
   "metadata": {},
   "outputs": [],
   "source": [
    "array1[2]"
   ]
  },
  {
   "cell_type": "markdown",
   "metadata": {},
   "source": [
    "如你所见,空值内容不是null而是undefined,这点需要注意"
   ]
  },
  {
   "cell_type": "markdown",
   "metadata": {},
   "source": [
    "### 扩展运算符(ES9)\n",
    "\n",
    "我们可以通过扩展运算符`...`将数组中的内容拆解出来,一个常见的应用就是利用原有数组构造新数组,这也是最简单的数组复制写法."
   ]
  },
  {
   "cell_type": "code",
   "execution_count": 1,
   "metadata": {},
   "outputs": [],
   "source": [
    "let arr_o = [1,2,3,4]\n",
    "let arr_e = [0,...arr_o,5,6]"
   ]
  },
  {
   "cell_type": "code",
   "execution_count": 2,
   "metadata": {},
   "outputs": [
    {
     "data": {
      "text/plain": [
       "[ 0, 1, 2, 3, 4, 5, 6 ]"
      ]
     },
     "execution_count": 2,
     "metadata": {},
     "output_type": "execute_result"
    }
   ],
   "source": [
    "arr_e"
   ]
  },
  {
   "cell_type": "markdown",
   "metadata": {},
   "source": [
    "### 数组解构\n",
    "\n",
    "我们可以通过数组结构为复数的变量赋值."
   ]
  },
  {
   "cell_type": "code",
   "execution_count": 3,
   "metadata": {},
   "outputs": [],
   "source": [
    "let arrex = [1,2]"
   ]
  },
  {
   "cell_type": "code",
   "execution_count": 4,
   "metadata": {},
   "outputs": [
    {
     "data": {
      "text/plain": [
       "[ 1, 2 ]"
      ]
     },
     "execution_count": 4,
     "metadata": {},
     "output_type": "execute_result"
    }
   ],
   "source": [
    "arrex"
   ]
  },
  {
   "cell_type": "code",
   "execution_count": 5,
   "metadata": {},
   "outputs": [],
   "source": [
    "let [x,y]=arrex"
   ]
  },
  {
   "cell_type": "code",
   "execution_count": 6,
   "metadata": {},
   "outputs": [
    {
     "data": {
      "text/plain": [
       "1"
      ]
     },
     "execution_count": 6,
     "metadata": {},
     "output_type": "execute_result"
    }
   ],
   "source": [
    "x"
   ]
  },
  {
   "cell_type": "code",
   "execution_count": 7,
   "metadata": {},
   "outputs": [
    {
     "data": {
      "text/plain": [
       "2"
      ]
     },
     "execution_count": 7,
     "metadata": {},
     "output_type": "execute_result"
    }
   ],
   "source": [
    "y"
   ]
  },
  {
   "cell_type": "markdown",
   "metadata": {},
   "source": [
    "另一个用法是和扩展运算符结合解构出特定位置的元素,需要注意扩展运算符的元素必须在最后一位"
   ]
  },
  {
   "cell_type": "code",
   "execution_count": 8,
   "metadata": {},
   "outputs": [],
   "source": [
    "let [first, ...rest]=arr_e"
   ]
  },
  {
   "cell_type": "code",
   "execution_count": 9,
   "metadata": {},
   "outputs": [
    {
     "data": {
      "text/plain": [
       "0"
      ]
     },
     "execution_count": 9,
     "metadata": {},
     "output_type": "execute_result"
    }
   ],
   "source": [
    "first"
   ]
  },
  {
   "cell_type": "code",
   "execution_count": 10,
   "metadata": {},
   "outputs": [
    {
     "data": {
      "text/plain": [
       "[ 1, 2, 3, 4, 5, 6 ]"
      ]
     },
     "execution_count": 10,
     "metadata": {},
     "output_type": "execute_result"
    }
   ],
   "source": [
    "rest"
   ]
  },
  {
   "cell_type": "markdown",
   "metadata": {},
   "source": [
    "## Set \n",
    "\n",
    "和python中的set一样,set就是集合,也就是只能存储唯一值的无序数据结构\n",
    "\n",
    "**注意**:在set里面,NaN是相同的值,而两个空对象却是不相等的\n",
    "\n",
    "\n",
    "### 属性和方法\n",
    "\n",
    "属性|说明\n",
    "---|---\n",
    "`size`|成员数量\n",
    "\n",
    "\n",
    "方法|说明\n",
    "---|---\n",
    "`add(value)`|添加值\n",
    "`delete(value)`|删除某个值\n",
    "`has(value)`|返回一个布尔值，表示该值是否为Set的成员。\n",
    "`clear()`|清除所有成员，没有返回值。\n",
    "\n",
    "遍历器|说明\n",
    "---|---\n",
    "`keys()`|返回一个键名的遍历器\n",
    "`values()`|返回一个键值的遍历器\n",
    "`entries()`|返回一个键值对的遍历器\n",
    "`forEach()`|使用回调函数遍历每个成员\n",
    "`filter(func)`|返回值是true的元素\n",
    "`map(func)`|返回每次运行后的结果构成的数组\n"
   ]
  },
  {
   "cell_type": "code",
   "execution_count": 4,
   "metadata": {},
   "outputs": [],
   "source": [
    "let set1 = new Set()"
   ]
  },
  {
   "cell_type": "code",
   "execution_count": 5,
   "metadata": {},
   "outputs": [
    {
     "data": {
      "text/plain": [
       "Set { 1 }"
      ]
     },
     "execution_count": 5,
     "metadata": {},
     "output_type": "execute_result"
    }
   ],
   "source": [
    "set1.add(1)"
   ]
  },
  {
   "cell_type": "code",
   "execution_count": 6,
   "metadata": {},
   "outputs": [
    {
     "data": {
      "text/plain": [
       "Set { 1, '1' }"
      ]
     },
     "execution_count": 6,
     "metadata": {},
     "output_type": "execute_result"
    }
   ],
   "source": [
    "set1.add(\"1\")"
   ]
  },
  {
   "cell_type": "code",
   "execution_count": 7,
   "metadata": {},
   "outputs": [
    {
     "data": {
      "text/plain": [
       "2"
      ]
     },
     "execution_count": 7,
     "metadata": {},
     "output_type": "execute_result"
    }
   ],
   "source": [
    "set1.size"
   ]
  },
  {
   "cell_type": "markdown",
   "metadata": {},
   "source": [
    "### WeakSet\n",
    "\n",
    "WeakSet结构与Set类似,也是不重复的值的集合.但是它与Set有两个区别\n",
    "\n",
    "+ WeakSet的成员只能是对象而不能是其他类型的值.\n",
    "\n",
    "+ WeakSet中的对象都是弱引用,即垃圾回收机制不考虑WeakSet对该对象的引用,也就是说如果其他对象都不再引用该对象,那么垃圾回收机制会自动回收该对象所占用的内存,不考虑该对象还存在于WeakSet之中.这个特点意味着无法引用WeakSet的成员,因此WeakSet是不可遍历的.\n",
    "\n",
    "WeakSet是一个构造函数,可以使用new命令,创建WeakSet数据结构.\n",
    "\n",
    "作为构造函数,WeakSet可以接受一个数组或类似数组的对象作为参数.(实际上任何具有iterable接口的对象都可以作为WeakSet的参数.)该数组的所有成员,都会自动成为WeakSet实例对象的成员."
   ]
  },
  {
   "cell_type": "code",
   "execution_count": 1,
   "metadata": {},
   "outputs": [],
   "source": [
    "let a = [[1,2], [3,4]]\n",
    "let ws = new WeakSet(a)"
   ]
  },
  {
   "cell_type": "markdown",
   "metadata": {},
   "source": [
    "上面代码中,a是一个数组,它有两个成员,也都是数组.将a作为WeakSet构造函数的参数,a的成员会自动成为WeakSet的成员."
   ]
  },
  {
   "cell_type": "markdown",
   "metadata": {},
   "source": [
    "WeakSet结构有以下三个方法。\n",
    "\n",
    "+ `WeakSet.prototype.add(value)`:向WeakSet实例添加一个新成员.\n",
    "+ `WeakSet.prototype.delete(value)`:清除WeakSet实例的指定成员.\n",
    "+ `WeakSet.prototype.has(value)`:返回一个布尔值,表示某个值是否在WeakSet实例之中."
   ]
  },
  {
   "cell_type": "markdown",
   "metadata": {},
   "source": [
    "## Map\n",
    "\n",
    "类似python中的dictionary,字典结构,主要是用于描述键值对结构,Map是Set的扩展,只是唯一值可以带上一个映射值而已"
   ]
  },
  {
   "cell_type": "code",
   "execution_count": 2,
   "metadata": {},
   "outputs": [],
   "source": [
    "let map1 = new Map([[\"name\",\"牛顿\"],[\"age\",18]])"
   ]
  },
  {
   "cell_type": "code",
   "execution_count": 3,
   "metadata": {},
   "outputs": [
    {
     "data": {
      "text/plain": [
       "Map(2) { 'name' => '牛顿', 'age' => 18 }"
      ]
     },
     "execution_count": 3,
     "metadata": {},
     "output_type": "execute_result"
    }
   ],
   "source": [
    "map1"
   ]
  },
  {
   "cell_type": "markdown",
   "metadata": {},
   "source": [
    "### 属性和方法\n",
    "\n",
    "\n",
    "\n",
    "属性|说明\n",
    "---|---\n",
    "size|成员数量\n",
    "\n",
    "\n",
    "方法|说明\n",
    "---|---\n",
    "set(key,value)|添加键值对\n",
    "get(key)|获取键对应的值\n",
    "delete(key)|删除某个键对应的键值对\n",
    "has(key)|返回一个布尔值，表示该键是否为Map的成员。\n",
    "clear()|清除所有成员，没有返回值。\n",
    "\n",
    "遍历器|说明\n",
    "---|---\n",
    "keys()|返回一个键名的遍历器\n",
    "values()|返回一个键值的遍历器\n",
    "entries()|返回一个键值对的遍历器\n",
    "forEach()|使用回调函数遍历每个成员"
   ]
  },
  {
   "cell_type": "markdown",
   "metadata": {},
   "source": [
    "WeakMap结构与Map结构基本类似,唯一的区别是它只接受对象作为键名(null除外),不接受其他类型的值作为键名,而且键名所指向的对象不计入垃圾回收机制.\n",
    "\n",
    "WeakMap与Map在API上的区别主要是两个:\n",
    "\n",
    "+ 没有遍历操作(即没有`key()`,`values()`和`entries()`方法),也没有`size`属性\n",
    "+ 无法清空,即不支持`clear()`方法.\n",
    "\n",
    "这与WeakMap的键不被计入引用,被垃圾回收机制忽略有关.因此.WeakMap只有四个方法可用:`get()`,`set()`,`has()`,`delete()`"
   ]
  },
  {
   "cell_type": "markdown",
   "metadata": {},
   "source": [
    "# 相互转化\n",
    "\n",
    "\n",
    "+ Map转数组:\n"
   ]
  },
  {
   "cell_type": "code",
   "execution_count": 10,
   "metadata": {},
   "outputs": [],
   "source": [
    "let maptoarray = [...map1]"
   ]
  },
  {
   "cell_type": "code",
   "execution_count": 11,
   "metadata": {},
   "outputs": [
    {
     "data": {
      "text/plain": [
       "[ [ 'name', '牛顿' ], [ 'age', 18 ] ]"
      ]
     },
     "execution_count": 11,
     "metadata": {},
     "output_type": "execute_result"
    }
   ],
   "source": [
    "maptoarray"
   ]
  },
  {
   "cell_type": "markdown",
   "metadata": {},
   "source": [
    "+ 数组转map"
   ]
  },
  {
   "cell_type": "code",
   "execution_count": 12,
   "metadata": {},
   "outputs": [
    {
     "data": {
      "text/plain": [
       "'use strict'"
      ]
     },
     "execution_count": 12,
     "metadata": {},
     "output_type": "execute_result"
    }
   ],
   "source": [
    "let arraytomap = new Map([[true, 7], [{foo: 3}, ['abc']]])"
   ]
  },
  {
   "cell_type": "code",
   "execution_count": 13,
   "metadata": {},
   "outputs": [
    {
     "data": {
      "text/plain": [
       "Map { true => 7, { foo: 3 } => [ 'abc' ] }"
      ]
     },
     "execution_count": 13,
     "metadata": {},
     "output_type": "execute_result"
    }
   ],
   "source": [
    "arraytomap"
   ]
  },
  {
   "cell_type": "markdown",
   "metadata": {},
   "source": [
    "+ set转array"
   ]
  },
  {
   "cell_type": "code",
   "execution_count": 14,
   "metadata": {},
   "outputs": [],
   "source": [
    "let settoarray = [...set1]"
   ]
  },
  {
   "cell_type": "code",
   "execution_count": 15,
   "metadata": {},
   "outputs": [
    {
     "data": {
      "text/plain": [
       "[ 1, '1' ]"
      ]
     },
     "execution_count": 15,
     "metadata": {},
     "output_type": "execute_result"
    }
   ],
   "source": [
    "settoarray"
   ]
  },
  {
   "cell_type": "markdown",
   "metadata": {},
   "source": [
    "+ array转set"
   ]
  },
  {
   "cell_type": "code",
   "execution_count": 16,
   "metadata": {},
   "outputs": [],
   "source": [
    "let arraytoset = new Set([1,2,3,4,5])"
   ]
  },
  {
   "cell_type": "code",
   "execution_count": 17,
   "metadata": {},
   "outputs": [
    {
     "data": {
      "text/plain": [
       "Set { 1, 2, 3, 4, 5 }"
      ]
     },
     "execution_count": 17,
     "metadata": {},
     "output_type": "execute_result"
    }
   ],
   "source": [
    "arraytoset "
   ]
  },
  {
   "cell_type": "markdown",
   "metadata": {},
   "source": [
    "## 特殊容器Object\n",
    "\n",
    "js中最特殊的就是Object,它既是所有对象的原型,又是一种数据格式,其实现就是hashmap,可以直接定义方法.然而他并没有默认的迭代器."
   ]
  },
  {
   "cell_type": "code",
   "execution_count": 18,
   "metadata": {},
   "outputs": [],
   "source": [
    "let hao = {\n",
    "    name: \"郝老师\",\n",
    "    age: 18,\n",
    "    eat(){\n",
    "        console.log(this.name+\"在吃cuscus\")\n",
    "    }\n",
    "}"
   ]
  },
  {
   "cell_type": "code",
   "execution_count": 19,
   "metadata": {},
   "outputs": [
    {
     "name": "stdout",
     "output_type": "stream",
     "text": [
      "郝老师在吃cuscus\n"
     ]
    }
   ],
   "source": [
    "hao.eat()"
   ]
  },
  {
   "cell_type": "markdown",
   "metadata": {},
   "source": [
    "### Object的字段\n",
    "\n",
    "javascript与其他语言相比不同之处在于对象的字段可以是:\n",
    "\n",
    "+ 字符串,这种方式是最常规的,为了方便用可以做这样一个简写:比如一个对象`字段名为a`,我们要将`a变量`的值放入对象`字段a`,就可以简写成`{a}`\n",
    "+ Symbol,需要注意Symbol需要使用`[]`表示\n",
    "+ 表达式,使用`[]`表示"
   ]
  },
  {
   "cell_type": "code",
   "execution_count": 1,
   "metadata": {},
   "outputs": [],
   "source": [
    "let name = \"郝老师\"\n",
    "let type = Symbol()\n",
    "let 郝老师 = {\n",
    "    name,\n",
    "    [\"type\"]:\"human\",\n",
    "    [type === \"human\"?\"age\":\"year\"]:18,\n",
    "    eat(){\n",
    "        console.log(this.name+\"在吃cuscus\")\n",
    "    }    \n",
    "}"
   ]
  },
  {
   "cell_type": "code",
   "execution_count": 2,
   "metadata": {},
   "outputs": [
    {
     "data": {
      "text/plain": [
       "{ name: '郝老师', type: 'human', year: 18, eat: [Function: eat] }"
      ]
     },
     "execution_count": 2,
     "metadata": {},
     "output_type": "execute_result"
    }
   ],
   "source": [
    "郝老师"
   ]
  },
  {
   "cell_type": "markdown",
   "metadata": {},
   "source": [
    "对象的每个属性都有一个描述对象（Descriptor），用来控制该属性的行为。Object.getOwnPropertyDescriptor方法可以获取该属性的描述对象."
   ]
  },
  {
   "cell_type": "code",
   "execution_count": 23,
   "metadata": {},
   "outputs": [
    {
     "data": {
      "text/plain": [
       "{ value: 123,\n",
       "  writable: true,\n",
       "  enumerable: true,\n",
       "  configurable: true }"
      ]
     },
     "execution_count": 23,
     "metadata": {},
     "output_type": "execute_result"
    }
   ],
   "source": [
    "let obj = { foo: 123 }\n",
    "Object.getOwnPropertyDescriptor(obj, 'foo')"
   ]
  },
  {
   "cell_type": "markdown",
   "metadata": {},
   "source": [
    "enumerable就是他的可枚举性,如果该属性为false，就表示某些操作会忽略当前属性。其中有:\n",
    "\n",
    "+ for...in 循环：只遍历对象自身的和继承的可枚举的属性\n",
    "+ Object.keys()：返回对象自身的所有可枚举的属性的键名\n",
    "+ JSON.stringify()：只串行化对象自身的可枚举的属性\n",
    "+ Object.assign()：只拷贝对象自身的可枚举的属性\n",
    "+ Reflect.enumerate()：返回所有for...in循环会遍历的属性"
   ]
  },
  {
   "cell_type": "markdown",
   "metadata": {},
   "source": [
    "### 扩展运算符[ES9]\n",
    "\n",
    "在ES9中我们可以通过扩展运算符`...`将对象中的内容拆解出来,一个常见的应用就是利用原有对象构造新对象,这也是最简单的复制写法."
   ]
  },
  {
   "cell_type": "code",
   "execution_count": 4,
   "metadata": {},
   "outputs": [],
   "source": [
    "let obo = {a:1}\n",
    "let obc = {...obo,b:2}"
   ]
  },
  {
   "cell_type": "code",
   "execution_count": 5,
   "metadata": {},
   "outputs": [
    {
     "data": {
      "text/plain": [
       "{ a: 1, b: 2 }"
      ]
     },
     "execution_count": 5,
     "metadata": {},
     "output_type": "execute_result"
    }
   ],
   "source": [
    "obc"
   ]
  },
  {
   "cell_type": "markdown",
   "metadata": {},
   "source": [
    "### Object对象的方法:\n",
    "\n",
    "+  `Object.is(x,y)`\n",
    "\n",
    "    该方法用来代替`==`和`===`,来判断两个对象严格相等,其中主要与`===`不同之处在于:\n",
    "\n",
    "    + +0不等于-o\n",
    "    + NaN等于NaN\n",
    "\n",
    "+ `Object.assign(target,...source)`\n",
    "\n",
    "    `Object.assign`方法用于对象的合并,将源对象(source)的所有可枚举属性复制到目标对象(target).如果目标对象与源对象有同名属性或多个源对象有同名属性,则后面的属性会覆盖前面的属性.Object.assign只拷贝自身属性,不可枚举的属性(enumerable为false)和继承的属性不会被拷贝.`Object.assign`方法实行的是浅拷贝而不是深拷贝.也就是说如果source对象某个属性的值是对象,那么目标对象拷贝得到的是这个对象的引用.我们基本上可以把它当成python中dict的update方法.\n",
    "\n",
    "    用处:\n",
    "\n",
    "    + 为对象添加属性和方法\n",
    "    + 克隆对象\n",
    "    + 合并多个对象\n",
    "    + 为属性指定默认值\n",
    "\n",
    "+ `Object.values(target)`[ES8]\n",
    "    `Object.values`,类似python中dict的`values()`方法,会将所有的值放入一个array\n",
    "    \n",
    "+ `Object.entries(target)`[ES8]\n",
    "    `Object.entries(target)`类似python中dict的`items()`方法,会生成键值对构成的的一个array\n",
    "\n",
    "+ `Object.getOwnPropertyDescriptors(target)`[ES8]\n",
    "    用来获取一个对象的所有自身属性的描述符\n"
   ]
  },
  {
   "cell_type": "markdown",
   "metadata": {},
   "source": [
    "### 对象属性遍历\n",
    "\n",
    "有6种方式可以用来遍历对象的属性:\n",
    "\n",
    "方法|是否遍历父原型|是否遍历symbol|是否遍历不可枚举\n",
    "---|---|---|---\n",
    "for...in|是|否|否\n",
    "Object.keys(obj)|否|否|否\n",
    "Object.getOwnPropertyNames(obj)|否|否|是\n",
    "Object.getOwnPropertySymbols(obj)|否|是|否\n",
    "Reflect.ownKeys(obj)|否|是|是\n",
    "Reflect.enumerate(obj)|是|否|否"
   ]
  },
  {
   "cell_type": "markdown",
   "metadata": {},
   "source": [
    "### 定义 getters 与 setters\n",
    "\n",
    "js支持在对象定义时指名其属性的可访问性,这有点类似python中的装饰器`@property`\n",
    "一个getter 是一个获取某个特定属性的值的方法,一个  setter 是一个设定某个属性的值的方法.你可以为预定义的或用户定义的对象定义 getter 和 setter 以支持新增的属性.定义 getter 和 setter 的语法采用对象字面量语法.\n",
    "\n",
    "需要注意的是为"
   ]
  },
  {
   "cell_type": "code",
   "execution_count": 1,
   "metadata": {},
   "outputs": [],
   "source": [
    "let o = {\n",
    "  a: 7,\n",
    "  get b() { \n",
    "    return this.a + 1;\n",
    "  },\n",
    "  set c(x) {\n",
    "    this.a = x / 2\n",
    "  }\n",
    "}"
   ]
  },
  {
   "cell_type": "code",
   "execution_count": 2,
   "metadata": {},
   "outputs": [
    {
     "name": "stdout",
     "output_type": "stream",
     "text": [
      "7\n",
      "8\n",
      "25\n"
     ]
    }
   ],
   "source": [
    "console.log(o.a); // 7\n",
    "console.log(o.b); // 8\n",
    "o.c = 50;\n",
    "console.log(o.a); // 25"
   ]
  },
  {
   "cell_type": "code",
   "execution_count": 3,
   "metadata": {},
   "outputs": [
    {
     "data": {
      "text/plain": [
       "6"
      ]
     },
     "execution_count": 3,
     "metadata": {},
     "output_type": "execute_result"
    }
   ],
   "source": [
    "o.b = 6"
   ]
  }
 ],
 "metadata": {
  "kernelspec": {
   "display_name": "jp-Babel (Node.js)",
   "language": "babel",
   "name": "babel"
  },
  "language_info": {
   "file_extension": ".js",
   "mimetype": "application/javascript",
   "name": "javascript",
   "version": "13.8.0"
  }
 },
 "nbformat": 4,
 "nbformat_minor": 1
}
