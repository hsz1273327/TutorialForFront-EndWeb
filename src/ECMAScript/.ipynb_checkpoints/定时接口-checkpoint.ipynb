{
 "cells": [
  {
   "cell_type": "markdown",
   "metadata": {},
   "source": [
    "# 定时操作\n",
    "\n",
    "js默认就支持定时任务,主要有3个接口\n",
    "\n",
    "+ `setTimeout(func:Function,time:Number):Timeout`方法是定时程序,也就是在什么时间以后干什么,干完了就结束.\n",
    "\n",
    "+ `setInterval(func:Function,time:Number):Timeout`方法则是周期性执行程序,也就是过一定时间后执行什么,执行完后再过一样的时间再执行一直执行下去\n",
    "\n",
    "+ `clearInterval(timeout_object:Timeout)`用于将设置的Timeout对象对应的定时任务取消.\n",
    "\n",
    "需要注意的是time都是毫秒为单位"
   ]
  },
  {
   "cell_type": "code",
   "execution_count": 1,
   "metadata": {},
   "outputs": [],
   "source": [
    "let a = setTimeout(()=>{\n",
    "    console.log(\"延迟a\")\n",
    "},10000)\n",
    "let b = setTimeout(()=>{\n",
    "    console.log(\"延迟b\")\n",
    "},2000) "
   ]
  },
  {
   "cell_type": "code",
   "execution_count": 2,
   "metadata": {},
   "outputs": [
    {
     "name": "stdout",
     "output_type": "stream",
     "text": [
      "延迟b\n"
     ]
    }
   ],
   "source": [
    "clearInterval(a)"
   ]
  },
  {
   "cell_type": "code",
   "execution_count": 3,
   "metadata": {},
   "outputs": [
    {
     "data": {
      "text/plain": [
       "Timeout {\n",
       "  _idleTimeout: 8000,\n",
       "  _idlePrev: [TimersList],\n",
       "  _idleNext: [TimersList],\n",
       "  _idleStart: 6232,\n",
       "  _onTimeout: [Function (anonymous)],\n",
       "  _timerArgs: undefined,\n",
       "  _repeat: null,\n",
       "  _destroyed: false,\n",
       "  [Symbol(refed)]: true,\n",
       "  [Symbol(asyncId)]: 30,\n",
       "  [Symbol(triggerId)]: 26\n",
       "}"
      ]
     },
     "execution_count": 3,
     "metadata": {},
     "output_type": "execute_result"
    },
    {
     "name": "stdout",
     "output_type": "stream",
     "text": [
      "人类本质\n",
      "人类本质\n",
      "人类本质\n"
     ]
    }
   ],
   "source": [
    "let c = setInterval(()=>{\n",
    "    console.log(\"人类本质\")\n",
    "},2000)\n",
    "\n",
    "setTimeout(()=>{\n",
    "    clearInterval(c)\n",
    "},8000) "
   ]
  }
 ],
 "metadata": {
  "kernelspec": {
   "display_name": "jp-Babel (Node.js)",
   "language": "babel",
   "name": "babel"
  },
  "language_info": {
   "file_extension": ".js",
   "mimetype": "application/javascript",
   "name": "javascript",
   "version": "13.8.0"
  }
 },
 "nbformat": 4,
 "nbformat_minor": 2
}
