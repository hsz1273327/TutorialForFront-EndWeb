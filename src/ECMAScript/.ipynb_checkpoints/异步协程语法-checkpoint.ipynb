{
 "cells": [
  {
   "cell_type": "markdown",
   "metadata": {},
   "source": [
    "# 异步协程语法\n",
    "\n",
    "从ES8开始ECMAScript正式支持异步协程语法,使用关键字`async/await`来声明异步,其语义和用法与python中的一致.Promise作用相当于python中的Future.\n",
    "\n",
    "本质来说`async/await`是一种用于处理JS异步操作的语法糖,可以帮助我们利用同步语法使用Promise,从而编写更加优雅的代码.\n",
    "\n",
    "不过js的协程语法不用配合显式的声明事件循环.js的事件循环是隐式的.以异步访问为例:"
   ]
  },
  {
   "cell_type": "code",
   "execution_count": 1,
   "metadata": {},
   "outputs": [
    {
     "name": "stdout",
     "output_type": "stream",
     "text": [
      "<!DOCTYPE html><!--STATUS OK--><html><head><meta http-equiv=\"Content-Type\" content=\"text/html;charse\n"
     ]
    }
   ],
   "source": [
    "import fetch from 'node-fetch'\n",
    "async function testAsync(){\n",
    "    try{\n",
    "        let response = await fetch(\n",
    "            'http://www.baidu.com',\n",
    "            {\n",
    "                method: 'GET', \n",
    "            }\n",
    "        )\n",
    "        if (response.ok){\n",
    "            let content = await response.text()\n",
    "            console.log(content.slice(0,100))\n",
    "        }else{\n",
    "            console.error(\"http code error\")\n",
    "        }\n",
    "    }catch(e){\n",
    "       console.error(error)\n",
    "    }\n",
    "}\n",
    "testAsync()"
   ]
  },
  {
   "cell_type": "markdown",
   "metadata": {},
   "source": [
    "## 构造Promise用于异步协程语法\n",
    "\n",
    "更多的时候遗留代码是回调的形式,这自然无法用于协程语法,下面我们来介绍常用的构造Promise的方法.我们使用文件阅读的接口作为例子.这个接口非常典型."
   ]
  },
  {
   "cell_type": "code",
   "execution_count": 2,
   "metadata": {},
   "outputs": [],
   "source": [
    "import fs from \"fs\""
   ]
  },
  {
   "cell_type": "markdown",
   "metadata": {},
   "source": [
    "### 从callback构造Promise\n",
    "\n",
    "fs的`readFile`接口就是一个典型的基于回调的非阻塞接口.我们来将其改造为Promise.\n",
    "\n",
    "这种改造的基本思路是将使用回调的接口调用步骤放在Promise的构造函数中执行,在回调函数里将正确的数据使用`resolve`函数提交到Promise对象的值中."
   ]
  },
  {
   "cell_type": "code",
   "execution_count": 3,
   "metadata": {},
   "outputs": [],
   "source": [
    "function readFileFromCallback(path,encoding='utf-8'){\n",
    "    return new Promise((resolve, reject)=>{\n",
    "        fs.readFile(\n",
    "            path, \n",
    "            encoding,\n",
    "            function (err, data) {\n",
    "              if (err) {\n",
    "                  reject(err)\n",
    "              }\n",
    "              resolve(data)\n",
    "            }\n",
    "        )\n",
    "    })\n",
    "}"
   ]
  },
  {
   "cell_type": "code",
   "execution_count": 4,
   "metadata": {},
   "outputs": [
    {
     "name": "stdout",
     "output_type": "stream",
     "text": [
      "get msg: # Javascript基础语法\n",
      "\n",
      "ES\n"
     ]
    },
    {
     "name": "stderr",
     "output_type": "stream",
     "text": [
      "get error: Error: ENOENT: no such file or directory, open './README5.md'\n"
     ]
    }
   ],
   "source": [
    "async function readREADMEFromCallback(){\n",
    "    try{\n",
    "        let data = await readFileFromCallback('./README.md')\n",
    "        let msg = data.slice(0,20)\n",
    "        console.log(`get msg: ${msg}`)\n",
    "    }catch(e){\n",
    "       console.error(`get error: ${e}`)\n",
    "    }\n",
    "    try{\n",
    "        let data = await readFileFromCallback('./README5.md')\n",
    "        let msg = data.slice(0,20)\n",
    "        console.log(`get msg: ${msg}`)\n",
    "    }catch(e){\n",
    "       console.error(`get error: ${e}`)\n",
    "    }\n",
    "}\n",
    "readREADMEFromCallback()"
   ]
  },
  {
   "cell_type": "markdown",
   "metadata": {},
   "source": [
    "### 从EventEmitter构造Promise\n",
    "\n",
    "要从`EventEmitter`中构造Promise只能使用`once`方法.一种通用的方式是在结束事件的回调函数中使用`once`包裹`resolve`"
   ]
  },
  {
   "cell_type": "code",
   "execution_count": 5,
   "metadata": {},
   "outputs": [],
   "source": [
    "function readFileFromEmitter(path,encoding='utf-8'){\n",
    "    return new Promise((resolve, reject)=>{\n",
    "        let res = \"\"\n",
    "        let file = fs.createReadStream(path, encoding)\n",
    "        file.on(\"data\",(data)=>{\n",
    "            res += data\n",
    "        }).once(\"end\",()=>resolve(res))\n",
    "        .once(\"error\",(err)=>{\n",
    "            file.destroy(err)\n",
    "            reject(err)\n",
    "        })\n",
    "    })\n",
    "}"
   ]
  },
  {
   "cell_type": "code",
   "execution_count": 6,
   "metadata": {},
   "outputs": [
    {
     "name": "stdout",
     "output_type": "stream",
     "text": [
      "get msg: # Javascript基础语法\n",
      "\n",
      "ES\n"
     ]
    },
    {
     "name": "stderr",
     "output_type": "stream",
     "text": [
      "Error: ENOENT: no such file or directory, open './README.md5'get error: Error: ENOENT: no such file or directory, open './README.md5'\n"
     ]
    }
   ],
   "source": [
    "async function readREADMEFromEmitter(){\n",
    "    try{\n",
    "        let data = await readFileFromEmitter('./README.md')\n",
    "        let msg = data.slice(0,20)\n",
    "        console.log(`get msg: ${msg}`)\n",
    "    }catch(e){\n",
    "       console.error(`get error: ${e}`)\n",
    "    }\n",
    "    try{\n",
    "        let data = await readFileFromEmitter('./README.md5')\n",
    "        let msg = data.slice(0,20)\n",
    "        console.log(`get msg: ${msg}`)\n",
    "    }catch(e){\n",
    "       console.error(`get error: ${e}`)\n",
    "    }\n",
    "}\n",
    "readREADMEFromEmitter()"
   ]
  },
  {
   "cell_type": "markdown",
   "metadata": {},
   "source": [
    "如果你使用的是node而且刚好node版本高于11.13.0,那么我们可以使用`events.once`来构造,这个方法会自动检测`error`事件,"
   ]
  },
  {
   "cell_type": "code",
   "execution_count": 7,
   "metadata": {},
   "outputs": [
    {
     "name": "stdout",
     "output_type": "stream",
     "text": [
      "get msg: # Javascript基础语法\n",
      "\n",
      "ES\n"
     ]
    },
    {
     "name": "stderr",
     "output_type": "stream",
     "text": [
      "get error: Error: ENOENT: no such file or directory, open './README.md5'\n"
     ]
    }
   ],
   "source": [
    "import {once} from 'events'\n",
    "async function readREADMEFromEmitter2(){\n",
    "    try{\n",
    "        let [data] = await once(fs.createReadStream('./README.md', 'utf-8'),\"data\")\n",
    "        let msg = data.slice(0,20)\n",
    "        console.log(`get msg: ${msg}`)\n",
    "    }catch(e){\n",
    "       console.error(`get error: ${e}`)\n",
    "    }\n",
    "    \n",
    "    try{\n",
    "        let [data] = await once(fs.createReadStream('./README.md5', 'utf-8'),\"data\")\n",
    "        let msg = data.slice(0,20)\n",
    "        console.log(`get msg: ${msg}`)\n",
    "    }catch(e){\n",
    "       console.error(`get error: ${e}`)\n",
    "    }\n",
    "}\n",
    "readREADMEFromEmitter2()"
   ]
  },
  {
   "cell_type": "markdown",
   "metadata": {},
   "source": [
    "## 异步迭代器\n",
    "\n",
    "从ES9开始ECMAScript正式支持异步迭代器语法,功能上讲和python的异步迭代器一致,但语法不同,js中使用语法\n",
    "\n",
    "```js\n",
    "for await( let x of AsyncIterator) {\n",
    "      ...\n",
    "}\n",
    "```\n",
    "\n",
    "其中`AsyncIterator`就是异步迭代器,只要迭代器的next方法返回的是一个Promise实例就是异步迭代器."
   ]
  },
  {
   "cell_type": "code",
   "execution_count": 1,
   "metadata": {},
   "outputs": [],
   "source": [
    "let promises = [1,2,3,4,5].map(i=>Promise.resolve(i))"
   ]
  },
  {
   "cell_type": "code",
   "execution_count": 4,
   "metadata": {},
   "outputs": [
    {
     "name": "stdout",
     "output_type": "stream",
     "text": [
      "1\n",
      "2\n",
      "3\n",
      "4\n",
      "5\n"
     ]
    }
   ],
   "source": [
    "(async ()=>{\n",
    "    for await (let p of promises){\n",
    "        console.log(p)\n",
    "    }\n",
    "})()"
   ]
  },
  {
   "cell_type": "code",
   "execution_count": 1,
   "metadata": {},
   "outputs": [],
   "source": [
    "import { Readable } from 'stream'\n",
    "class Timer extends Readable {\n",
    "    constructor(options) {\n",
    "        super(options)\n",
    "    }\n",
    "    _read() {\n",
    "        setInterval(()=>{\n",
    "            let time  = new Date()\n",
    "            this.push(time.toString(),\"utf-8\")\n",
    "        },1000)\n",
    "    }\n",
    "}\n",
    "\n",
    "\n",
    "async function a(){\n",
    "    let timer = new Timer({encoding:\"utf-8\"})\n",
    "    for await (let d of timer){\n",
    "        console.log(d)\n",
    "    }\n",
    "}"
   ]
  },
  {
   "cell_type": "code",
   "execution_count": null,
   "metadata": {},
   "outputs": [
    {
     "name": "stdout",
     "output_type": "stream",
     "text": [
      "Wed Feb 26 2020 21:43:18 GMT+0800 (中国标准时间)\n",
      "Wed Feb 26 2020 21:43:18 GMT+0800 (中国标准时间)\n",
      "Wed Feb 26 2020 21:43:19 GMT+0800 (中国标准时间)\n",
      "Wed Feb 26 2020 21:43:19 GMT+0800 (中国标准时间)\n",
      "Wed Feb 26 2020 21:43:19 GMT+0800 (中国标准时间)\n",
      "Wed Feb 26 2020 21:43:19 GMT+0800 (中国标准时间)\n",
      "Wed Feb 26 2020 21:43:20 GMT+0800 (中国标准时间)\n",
      "Wed Feb 26 2020 21:43:20 GMT+0800 (中国标准时间)\n",
      "Wed Feb 26 2020 21:43:20 GMT+0800 (中国标准时间)\n",
      "Wed Feb 26 2020 21:43:20 GMT+0800 (中国标准时间)\n",
      "Wed Feb 26 2020 21:43:20 GMT+0800 (中国标准时间)\n",
      "Wed Feb 26 2020 21:43:20 GMT+0800 (中国标准时间)\n",
      "Wed Feb 26 2020 21:43:20 GMT+0800 (中国标准时间)\n",
      "Wed Feb 26 2020 21:43:20 GMT+0800 (中国标准时间)\n",
      "Wed Feb 26 2020 21:43:21 GMT+0800 (中国标准时间)\n",
      "Wed Feb 26 2020 21:43:21 GMT+0800 (中国标准时间)\n",
      "Wed Feb 26 2020 21:43:21 GMT+0800 (中国标准时间)\n",
      "Wed Feb 26 2020 21:43:21 GMT+0800 (中国标准时间)\n",
      "Wed Feb 26 2020 21:43:21 GMT+0800 (中国标准时间)\n",
      "Wed Feb 26 2020 21:43:21 GMT+0800 (中国标准时间)\n",
      "Wed Feb 26 2020 21:43:21 GMT+0800 (中国标准时间)\n",
      "Wed Feb 26 2020 21:43:21 GMT+0800 (中国标准时间)\n",
      "Wed Feb 26 2020 21:43:21 GMT+0800 (中国标准时间)\n",
      "Wed Feb 26 2020 21:43:21 GMT+0800 (中国标准时间)\n",
      "Wed Feb 26 2020 21:43:21 GMT+0800 (中国标准时间)\n",
      "Wed Feb 26 2020 21:43:21 GMT+0800 (中国标准时间)\n",
      "Wed Feb 26 2020 21:43:21 GMT+0800 (中国标准时间)\n",
      "Wed Feb 26 2020 21:43:21 GMT+0800 (中国标准时间)\n",
      "Wed Feb 26 2020 21:43:21 GMT+0800 (中国标准时间)\n",
      "Wed Feb 26 2020 21:43:21 GMT+0800 (中国标准时间)\n",
      "Wed Feb 26 2020 21:43:22 GMT+0800 (中国标准时间)\n",
      "Wed Feb 26 2020 21:43:22 GMT+0800 (中国标准时间)\n",
      "Wed Feb 26 2020 21:43:22 GMT+0800 (中国标准时间)\n",
      "Wed Feb 26 2020 21:43:22 GMT+0800 (中国标准时间)\n",
      "Wed Feb 26 2020 21:43:22 GMT+0800 (中国标准时间)\n",
      "Wed Feb 26 2020 21:43:22 GMT+0800 (中国标准时间)\n",
      "Wed Feb 26 2020 21:43:22 GMT+0800 (中国标准时间)\n",
      "Wed Feb 26 2020 21:43:22 GMT+0800 (中国标准时间)\n",
      "Wed Feb 26 2020 21:43:22 GMT+0800 (中国标准时间)\n",
      "Wed Feb 26 2020 21:43:22 GMT+0800 (中国标准时间)\n",
      "Wed Feb 26 2020 21:43:22 GMT+0800 (中国标准时间)\n",
      "Wed Feb 26 2020 21:43:22 GMT+0800 (中国标准时间)\n",
      "Wed Feb 26 2020 21:43:22 GMT+0800 (中国标准时间)\n",
      "Wed Feb 26 2020 21:43:22 GMT+0800 (中国标准时间)\n",
      "Wed Feb 26 2020 21:43:22 GMT+0800 (中国标准时间)\n",
      "Wed Feb 26 2020 21:43:22 GMT+0800 (中国标准时间)\n",
      "Wed Feb 26 2020 21:43:22 GMT+0800 (中国标准时间)\n",
      "Wed Feb 26 2020 21:43:22 GMT+0800 (中国标准时间)\n",
      "Wed Feb 26 2020 21:43:22 GMT+0800 (中国标准时间)\n",
      "Wed Feb 26 2020 21:43:22 GMT+0800 (中国标准时间)\n",
      "Wed Feb 26 2020 21:43:22 GMT+0800 (中国标准时间)\n",
      "Wed Feb 26 2020 21:43:22 GMT+0800 (中国标准时间)\n",
      "Wed Feb 26 2020 21:43:22 GMT+0800 (中国标准时间)\n",
      "Wed Feb 26 2020 21:43:22 GMT+0800 (中国标准时间)\n",
      "Wed Feb 26 2020 21:43:22 GMT+0800 (中国标准时间)\n",
      "Wed Feb 26 2020 21:43:22 GMT+0800 (中国标准时间)\n",
      "Wed Feb 26 2020 21:43:22 GMT+0800 (中国标准时间)\n",
      "Wed Feb 26 2020 21:43:22 GMT+0800 (中国标准时间)\n",
      "Wed Feb 26 2020 21:43:22 GMT+0800 (中国标准时间)\n",
      "Wed Feb 26 2020 21:43:22 GMT+0800 (中国标准时间)\n",
      "Wed Feb 26 2020 21:43:22 GMT+0800 (中国标准时间)\n",
      "Wed Feb 26 2020 21:43:22 GMT+0800 (中国标准时间)\n"
     ]
    }
   ],
   "source": [
    "a()"
   ]
  },
  {
   "cell_type": "code",
   "execution_count": null,
   "metadata": {},
   "outputs": [],
   "source": []
  }
 ],
 "metadata": {
  "kernelspec": {
   "display_name": "jp-Babel (Node.js)",
   "language": "babel",
   "name": "babel"
  },
  "language_info": {
   "file_extension": ".js",
   "mimetype": "application/javascript",
   "name": "javascript",
   "version": "13.8.0"
  }
 },
 "nbformat": 4,
 "nbformat_minor": 2
}
