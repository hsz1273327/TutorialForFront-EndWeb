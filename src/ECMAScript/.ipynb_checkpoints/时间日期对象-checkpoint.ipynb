{
 "cells": [
  {
   "cell_type": "markdown",
   "metadata": {},
   "source": [
    "# 时间日期对象\n",
    "\n",
    "`Date`对象用于处理日期和时间,默认就在js各个运行环境的命名空间中.使用new构造实例.\n",
    "\n",
    "其构造函数的参数可以有3种:\n",
    "\n",
    "+ `Number` 代表从1970 年 1 月 1 日至今的毫秒数(utc时间戳)\n",
    "+ `String` 比如`October 13, 1975 11:13:00`\n",
    "+ `year, month, day, hours, minutes, seconds, milliseconds` 按位填充指定日期\n",
    "\n",
    "如果构造函数不包含参数,则表示构造时候的时间,相当于python里的`datetime.now()`\n"
   ]
  },
  {
   "cell_type": "code",
   "execution_count": 1,
   "metadata": {},
   "outputs": [
    {
     "name": "stdout",
     "output_type": "stream",
     "text": [
      "2020-02-15T14:46:03.861Z\n"
     ]
    }
   ],
   "source": [
    "let myDate=new Date()\n",
    "\n",
    "console.log(myDate)"
   ]
  },
  {
   "cell_type": "markdown",
   "metadata": {},
   "source": [
    "## Date对象方法\n",
    "\n",
    "方法|描述\n",
    "---|---\n",
    "`Date()`|返回当日的日期和时间。\n",
    "`getDate()`|从 Date 对象返回一个月中的某一天 (1 ~ 31)。\n",
    "`getDay()`|从 Date 对象返回一周中的某一天 (0 ~ 6)。\n",
    "`getMonth()`|从 Date 对象返回月份 (0 ~ 11)。\n",
    "`getFullYear()`|从 Date 对象以四位数字返回年份。\n",
    "`getYear()`|请使用 getFullYear() 方法代替。\n",
    "`getHours()`|返回 Date 对象的小时 (0 ~ 23)。\n",
    "`getMinutes()`|返回 Date 对象的分钟 (0 ~ 59)。\n",
    "`getSeconds()`|返回 Date 对象的秒数 (0 ~ 59)。\n",
    "`getMilliseconds()`|返回 Date 对象的毫秒(0 ~ 999)。\n",
    "`getTime()`|返回 1970 年 1 月 1 日至今的毫秒数。\n",
    "`getTimezoneOffset()`|返回本地时间与格林威治标准时间 (GMT) 的分钟差。\n",
    "`getUTCDate()`|根据世界时从 Date 对象返回月中的一天 (1 ~ 31)。\n",
    "`getUTCDay()`|根据世界时从 Date 对象返回周中的一天 (0 ~ 6)。\n",
    "`getUTCMonth()`|根据世界时从 Date 对象返回月份 (0 ~ 11)。\n",
    "`getUTCFullYear()`|根据世界时从 Date 对象返回四位数的年份。\n",
    "`getUTCHours()`|根据世界时返回 Date 对象的小时 (0 ~ 23)。\n",
    "`getUTCMinutes()`|根据世界时返回 Date 对象的分钟 (0 ~ 59)。\n",
    "`getUTCSeconds()`|根据世界时返回 Date 对象的秒钟 (0 ~ 59)。\n",
    "`getUTCMilliseconds()`|根据世界时返回 Date 对象的毫秒(0 ~ 999)。\n",
    "`parse()`|返回1970年1月1日午夜到指定日期（字符串）的毫秒数。\n",
    "`setDate()`|设置 Date 对象中月的某一天 (1 ~ 31)。\n",
    "`setMonth()`|设置 Date 对象中月份 (0 ~ 11)。\n",
    "`setFullYear()`|设置 Date 对象中的年份（四位数字）。\n",
    "`setYear()`|请使用 setFullYear() 方法代替。\n",
    "`setHours()`|设置 Date 对象中的小时 (0 ~ 23)。\n",
    "`setMinutes()`|设置 Date 对象中的分钟 (0 ~ 59)。\n",
    "`setSeconds()`|设置 Date 对象中的秒钟 (0 ~ 59)。\n",
    "`setMilliseconds()`|设置 Date 对象中的毫秒 (0 ~ 999)。\n",
    "`setTime()`|以毫秒设置 Date 对象。\n",
    "`setUTCDate()`|根据世界时设置 Date 对象中月份的一天 (1 ~ 31)。\n",
    "`setUTCMonth()`|根据世界时设置 Date 对象中的月份 (0 ~ 11)。\n",
    "`setUTCFullYear()`|根据世界时设置 Date 对象中的年份（四位数字）。\n",
    "`setUTCHours()`|根据世界时设置 Date 对象中的小时 (0 ~ 23)。\n",
    "`setUTCMinutes()`|根据世界时设置 Date 对象中的分钟 (0 ~ 59)。\n",
    "`setUTCSeconds()`|根据世界时设置 Date 对象中的秒钟 (0 ~ 59)。\n",
    "`setUTCMilliseconds()`|根据世界时设置 Date 对象中的毫秒 (0 ~ 999)。\n",
    "`toSource()`|返回该对象的源代码。\n",
    "`toString()`|把 Date 对象转换为字符串。\n",
    "`toTimeString()`|把 Date 对象的时间部分转换为字符串。\n",
    "`toDateString()`|把 Date 对象的日期部分转换为字符串。\n",
    "`toGMTString()`|请使用 toUTCString() 方法代替。\n",
    "`toUTCString()`|根据世界时，把 Date 对象转换为字符串。\n",
    "`toLocaleString()`|根据本地时间格式，把 Date 对象转换为字符串。\n",
    "`toLocaleTimeString()`|根据本地时间格式，把 Date 对象的时间部分转换为字符串。\n",
    "`toLocaleDateString()`|根据本地时间格式，把 Date 对象的日期部分转换为字符串。\n",
    "`UTC()`|根据世界时返回 1970 年 1 月 1 日 到指定日期的毫秒数。\n",
    "`valueOf()`|返回 Date 对象的原始值。"
   ]
  }
 ],
 "metadata": {
  "kernelspec": {
   "display_name": "jp-Babel (Node.js)",
   "language": "babel",
   "name": "babel"
  },
  "language_info": {
   "file_extension": ".js",
   "mimetype": "application/javascript",
   "name": "javascript",
   "version": "13.8.0"
  }
 },
 "nbformat": 4,
 "nbformat_minor": 2
}
