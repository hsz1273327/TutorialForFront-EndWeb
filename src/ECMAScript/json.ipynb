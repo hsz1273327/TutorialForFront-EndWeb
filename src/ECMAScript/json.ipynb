{
 "cells": [
  {
   "cell_type": "markdown",
   "metadata": {},
   "source": [
    "# Json\n",
    "\n",
    "js默认对json有支持使用对象`JSON`. 使用接口`JSON.parse()`可以将json字符串转化为js对象;使用`JSON.stringify()`将js对象转化为json字符串."
   ]
  },
  {
   "cell_type": "code",
   "execution_count": 1,
   "metadata": {},
   "outputs": [
    {
     "data": {
      "text/plain": [
       "'{\"a\":1,\"b\":2}'"
      ]
     },
     "execution_count": 1,
     "metadata": {},
     "output_type": "execute_result"
    }
   ],
   "source": [
    "let json_str = JSON.stringify({a:1,b:2})\n",
    "json_str"
   ]
  },
  {
   "cell_type": "code",
   "execution_count": 2,
   "metadata": {},
   "outputs": [
    {
     "data": {
      "text/plain": [
       "{ a: 1, b: 2 }"
      ]
     },
     "execution_count": 2,
     "metadata": {},
     "output_type": "execute_result"
    }
   ],
   "source": [
    "JSON.parse(json_str)"
   ]
  },
  {
   "cell_type": "markdown",
   "metadata": {},
   "source": [
    "## json样式检验\n",
    "\n",
    "比较常见的样式检验协议是[json schema](https://json-schema.org/),在js中最常用的实现工具是[ajv](https://github.com/epoberezkin/ajv).针对typescript,ajv提供了自己的TypeScript声明,因此不需要安装额外的模块."
   ]
  },
  {
   "cell_type": "code",
   "execution_count": 3,
   "metadata": {},
   "outputs": [
    {
     "data": {
      "text/plain": [
       "{\n",
       "  '$id': 'https://example.com/address.schema.json',\n",
       "  '$schema': 'http://json-schema.org/draft-07/schema#',\n",
       "  description: 'An address similar to http://microformats.org/wiki/h-card',\n",
       "  type: 'object',\n",
       "  properties: {\n",
       "    'post-office-box': { type: 'string' },\n",
       "    'extended-address': { type: 'string' },\n",
       "    'street-address': { type: 'string' },\n",
       "    locality: { type: 'string' },\n",
       "    region: { type: 'string' },\n",
       "    'postal-code': { type: 'string' },\n",
       "    'country-name': { type: 'string' }\n",
       "  },\n",
       "  required: [ 'locality', 'region', 'country-name' ],\n",
       "  dependencies: {\n",
       "    'post-office-box': [ 'street-address' ],\n",
       "    'extended-address': [ 'street-address' ]\n",
       "  }\n",
       "}"
      ]
     },
     "execution_count": 3,
     "metadata": {},
     "output_type": "execute_result"
    }
   ],
   "source": [
    "import Ajv from 'ajv';\n",
    "var ajv = new Ajv()\n",
    "\n",
    "schema = {\n",
    "  \"$id\": \"https://example.com/address.schema.json\",\n",
    "  \"$schema\": \"http://json-schema.org/draft-07/schema#\",\n",
    "  \"description\": \"An address similar to http://microformats.org/wiki/h-card\",\n",
    "  \"type\": \"object\",\n",
    "  \"properties\": {\n",
    "    \"post-office-box\": {\n",
    "      \"type\": \"string\"\n",
    "    },\n",
    "    \"extended-address\": {\n",
    "      \"type\": \"string\"\n",
    "    },\n",
    "    \"street-address\": {\n",
    "      \"type\": \"string\"\n",
    "    },\n",
    "    \"locality\": {\n",
    "      \"type\": \"string\"\n",
    "    },\n",
    "    \"region\": {\n",
    "      \"type\": \"string\"\n",
    "    },\n",
    "    \"postal-code\": {\n",
    "      \"type\": \"string\"\n",
    "    },\n",
    "    \"country-name\": {\n",
    "      \"type\": \"string\"\n",
    "    }\n",
    "  },\n",
    "  \"required\": [ \"locality\", \"region\", \"country-name\" ],\n",
    "  \"dependencies\": {\n",
    "    \"post-office-box\": [ \"street-address\" ],\n",
    "    \"extended-address\": [ \"street-address\" ]\n",
    "  }\n",
    "}\n",
    "const validate = ajv.compile(schema)"
   ]
  },
  {
   "cell_type": "code",
   "execution_count": 5,
   "metadata": {},
   "outputs": [],
   "source": [
    "let data_ok = {\n",
    "    \"locality\":\"南海大道01号\",\n",
    "    \"region\":\"南山区\",\n",
    "    \"country-name\":\"中国\"\n",
    "}\n",
    "let data_err = {\n",
    "    \"city\":\"深圳\",\n",
    "    \"region\":\"南山区\",\n",
    "    \"country-name\":\"中国\"\n",
    "}\n"
   ]
  },
  {
   "cell_type": "code",
   "execution_count": 6,
   "metadata": {},
   "outputs": [],
   "source": [
    "let valid_ok = validate(data_ok)\n",
    "// 符合格式要求的验证会返回true\n",
    "if (!valid_ok) {\n",
    "    console.log(validate.errors)\n",
    "}"
   ]
  },
  {
   "cell_type": "code",
   "execution_count": 7,
   "metadata": {},
   "outputs": [
    {
     "name": "stdout",
     "output_type": "stream",
     "text": [
      "[\n",
      "  {\n",
      "    keyword: 'required',\n",
      "    dataPath: '',\n",
      "    schemaPath: '#/required',\n",
      "    params: { missingProperty: 'locality' },\n",
      "    message: \"should have required property 'locality'\"\n",
      "  }\n",
      "]\n"
     ]
    }
   ],
   "source": [
    "let valid_err = validate(data_err)\n",
    "// 不符合格式要求的验证会返回false,并且在validate.errors中保存错误信息\n",
    "if (!valid_err) {\n",
    "    console.log(validate.errors)\n",
    "}"
   ]
  }
 ],
 "metadata": {
  "kernelspec": {
   "display_name": "jp-Babel (Node.js)",
   "language": "babel",
   "name": "babel"
  },
  "language_info": {
   "file_extension": ".js",
   "mimetype": "application/javascript",
   "name": "javascript",
   "version": "13.8.0"
  }
 },
 "nbformat": 4,
 "nbformat_minor": 2
}
