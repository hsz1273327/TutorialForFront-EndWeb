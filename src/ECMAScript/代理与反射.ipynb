{
 "cells": [
  {
   "cell_type": "markdown",
   "metadata": {},
   "source": [
    "# 代理Proxy\n",
    "\n",
    "\n",
    "Proxy用于修改某些操作的默认行为，等同于在语言层面做出修改，所以属于一种“元编程”（meta programming），即对编程语言进行编程。\n",
    "\n",
    "Proxy可以理解成，在目标对象之前架设一层“拦截”，外界对该对象的访问，都必须先通过这层拦截，因此提供了一种机制，可以对外界的访问进行过滤和改写。Proxy这个词的原意是代理，用在这里表示由它来“代理”某些操作，可以译为“代理器”"
   ]
  },
  {
   "cell_type": "markdown",
   "metadata": {},
   "source": [
    "```\n",
    "var obj = new Proxy({}, {\n",
    "  get: function (target, key, receiver) {\n",
    "    console.log(`getting ${key}!`)\n",
    "    return Reflect.get(target, key, receiver)\n",
    "  },\n",
    "  set: function (target, key, value, receiver) {\n",
    "    console.log(`setting ${key}!`)\n",
    "    return Reflect.set(target, key, value, receiver)\n",
    "  }\n",
    "})\n",
    "```"
   ]
  },
  {
   "cell_type": "code",
   "execution_count": 1,
   "metadata": {},
   "outputs": [],
   "source": [
    "var obj = new Proxy({}, {\n",
    "  get: function (target, key, receiver) {\n",
    "    console.log(`getting ${key}!`)\n",
    "    return Reflect.get(target, key, receiver)\n",
    "  },\n",
    "  set: function (target, key, value, receiver) {\n",
    "    console.log(`setting ${key}!`)\n",
    "    return Reflect.set(target, key, value, receiver)\n",
    "  }\n",
    "})"
   ]
  },
  {
   "cell_type": "code",
   "execution_count": 2,
   "metadata": {},
   "outputs": [
    {
     "name": "stdout",
     "output_type": "stream",
     "text": [
      "getting _toMime!\n",
      "getting _toHtml!\n",
      "getting _toSvg!\n",
      "getting _toPng!\n",
      "getting _toJpeg!\n"
     ]
    },
    {
     "data": {},
     "execution_count": 2,
     "metadata": {},
     "output_type": "execute_result"
    }
   ],
   "source": [
    "obj"
   ]
  },
  {
   "cell_type": "markdown",
   "metadata": {},
   "source": [
    "# 反射(Reflect)\n",
    "\n",
    "Reflect对象与Proxy对象一样，也是ES6为了操作对象而提供的新API。Reflect对象的设计目的有这样几个。\n",
    "\n",
    "+ 将Object对象的一些明显属于语言内部的方法（比如Object.defineProperty），放到Reflect对象上。现阶段，某些方法同时在Object和Reflect对象上部署，未来的新方法将只部署在Reflect对象上。\n",
    "\n",
    "+ 修改某些Object方法的返回结果，让其变得更合理。比如，Object.defineProperty(obj, name, desc)在无法定义属性时，会抛出一个错误，而Reflect.defineProperty(obj, name, desc)则会返回false。\n",
    "\n",
    "+ 让Object操作都变成函数行为。某些Object操作是命令式，比如name in obj和delete obj[name]，而Reflect.has(obj, name)和Reflect.deleteProperty(obj, name)让它们变成了函数行为。\n",
    "\n",
    "+ Reflect对象的方法与Proxy对象的方法一一对应，只要是Proxy对象的方法，就能在Reflect对象上找到对应的方法。这就让Proxy对象可以方便地调用对应的Reflect方法，完成默认行为，作为修改行为的基础。也就是说，不管Proxy怎么修改默认行为，你总可以在Reflect上获取默认行为。\n",
    "\n",
    "## Reflect对象的方法\n",
    "\n",
    "Reflect对象的方法清单如下，共14个。\n",
    "\n",
    "+ Reflect.apply(target,thisArg,args)\n",
    "+ Reflect.construct(target,args)\n",
    "+ Reflect.get(target,name,receiver)\n",
    "+ Reflect.set(target,name,value,receiver)\n",
    "+ Reflect.defineProperty(target,name,desc)\n",
    "+ Reflect.deleteProperty(target,name)\n",
    "+ Reflect.has(target,name)\n",
    "+ Reflect.ownKeys(target)\n",
    "+ Reflect.enumerate(target)\n",
    "+ Reflect.isExtensible(target)\n",
    "+ Reflect.preventExtensions(target)\n",
    "+ Reflect.getOwnPropertyDescriptor(target, name)\n",
    "+ Reflect.getPrototypeOf(target)\n",
    "+ Reflect.setPrototypeOf(target, prototype)\n",
    "\n",
    "上面这些方法的作用，大部分与Object对象的同名方法的作用都是相同的，而且它与Proxy对象的方法是一一对应的。"
   ]
  },
  {
   "cell_type": "code",
   "execution_count": 3,
   "metadata": {},
   "outputs": [
    {
     "data": {
      "text/plain": [
       "3"
      ]
     },
     "execution_count": 3,
     "metadata": {},
     "output_type": "execute_result"
    }
   ],
   "source": [
    "var myObject = {\n",
    "  foo: 1,\n",
    "  bar: 2,\n",
    "  get baz() {\n",
    "    return this.foo + this.bar;\n",
    "  },\n",
    "}\n",
    "\n",
    "Reflect.get(myObject, 'foo') // 1\n",
    "Reflect.get(myObject, 'bar') // 2\n",
    "Reflect.get(myObject, 'baz') // 3"
   ]
  },
  {
   "cell_type": "code",
   "execution_count": null,
   "metadata": {},
   "outputs": [],
   "source": []
  }
 ],
 "metadata": {
  "kernelspec": {
   "display_name": "jp-Babel (Node.js)",
   "language": "babel",
   "name": "babel"
  },
  "language_info": {
   "file_extension": ".js",
   "mimetype": "application/javascript",
   "name": "javascript",
   "version": "8.10.0"
  }
 },
 "nbformat": 4,
 "nbformat_minor": 1
}
