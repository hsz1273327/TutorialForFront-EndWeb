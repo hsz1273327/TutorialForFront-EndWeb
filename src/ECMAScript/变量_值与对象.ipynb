{
 "cells": [
  {
   "cell_type": "markdown",
   "metadata": {},
   "source": [
    "# 变量,值与标准数据类型\n",
    "\n",
    "Js这门语言虽然是弱类型,但其语法设计师大量借鉴了java,变量是要申明的.这可能是python用户上来第一个不适应的地方.\n",
    "\n",
    "python中第一次为某个变量赋值相当于顺道就申明了这个变量.这种语法很简练,但其表达能力并不优秀,因为变量也是可以有类型的,像C/C++中可以定义常量,scala中可以定义可变量不可变量.python语法中自动忽略了这些,当然这种简化让可读性和易用性上升了,但也让性能优化变得更加困难了."
   ]
  },
  {
   "cell_type": "markdown",
   "metadata": {},
   "source": [
    "## 变量的作用域\n",
    "\n",
    "js中作用域分为\n",
    "\n",
    "+ 块作用域--`{}`包裹,或者是逻辑表达式中定义的变量就属于这个\n",
    "+ 函数作用域\n",
    "+ 上层函数作用域(闭包)\n",
    "+ 全局作用域\n",
    "\n",
    "类似python,js的变量查找规则也是由里到外一层一层查找的\n",
    "\n",
    "> 例子:"
   ]
  },
  {
   "cell_type": "code",
   "execution_count": 1,
   "metadata": {},
   "outputs": [],
   "source": [
    "let aa = \"a\"\n",
    "\n",
    "function func(){\n",
    "    let b = \"b\"\n",
    "    return function(){\n",
    "        let c = \"c\" \n",
    "        {\n",
    "          let d = \"d\"  \n",
    "          \n",
    "        }\n",
    "        let d = \"e\"\n",
    "        return aa+b+c+d\n",
    "    }\n",
    "    \n",
    "}"
   ]
  },
  {
   "cell_type": "code",
   "execution_count": 2,
   "metadata": {},
   "outputs": [
    {
     "data": {
      "text/plain": [
       "'abce'"
      ]
     },
     "execution_count": 2,
     "metadata": {},
     "output_type": "execute_result"
    }
   ],
   "source": [
    "func()()"
   ]
  },
  {
   "cell_type": "markdown",
   "metadata": {},
   "source": [
    "## 变量声明\n",
    "\n",
    "js中有3种声明关键字\n",
    "\n",
    "+ var\n",
    "\n",
    "    这是以前js的遗留,它没有块级概念,在全局定义就是全局变量,在function中定义就是局部变量,但在块内它并不会在快运行完后消失,因此**最好别用**\n",
    "\n",
    "+ let\n",
    "\n",
    "    取代var的声明关键字,有块概念,建议都用它,你必须在用到它之前先声明,这也是和var不同的地方\n",
    "\n",
    "+ const\n",
    "\n",
    "    常量和代表这个变量指向的地址/指针/引用不会改变,其和let的作用域特点相同.需要注意的是js中的容器本身就是一个引用,const只能保证它保存的这个引用地址不变,并不能保证这个引用地址中保存的容器中各位内容不变,因此可以说常量是针对标准值类型的常量,对容器只能说部分有效,这点和python中的函数参数传递行为差不多."
   ]
  },
  {
   "cell_type": "markdown",
   "metadata": {},
   "source": [
    "## 变量的特殊操作\n",
    "\n",
    "### 解构赋值\n",
    "\n",
    "解构赋值是指将数据结构中的内容提取出来的一个操作,目前可以结构的有数组(Array)和对象(Object),解构时可以使用`...rest`符号代表剩余的部分,而这样的话`rest`变量就会获得剩下的内容组成的数组"
   ]
  },
  {
   "cell_type": "code",
   "execution_count": 3,
   "metadata": {},
   "outputs": [],
   "source": [
    "let [a,b,c] = [1,2,4]"
   ]
  },
  {
   "cell_type": "code",
   "execution_count": 4,
   "metadata": {},
   "outputs": [
    {
     "name": "stdout",
     "output_type": "stream",
     "text": [
      "1,2,4\n"
     ]
    }
   ],
   "source": [
    "console.log(`${a},${b},${c}`)"
   ]
  },
  {
   "cell_type": "code",
   "execution_count": 5,
   "metadata": {},
   "outputs": [],
   "source": [
    "let [x,...y]=[1,2,3,4]"
   ]
  },
  {
   "cell_type": "code",
   "execution_count": 6,
   "metadata": {},
   "outputs": [
    {
     "name": "stdout",
     "output_type": "stream",
     "text": [
      "1,2,3,4\n"
     ]
    }
   ],
   "source": [
    "console.log(`${x},${y}`)"
   ]
  },
  {
   "cell_type": "markdown",
   "metadata": {},
   "source": [
    "对象的解构与数组有一个重要的不同.数组的元素是按次序排列的,变量的取值由它的位置决定;\n",
    "而对象的属性没有次序,变量必须与属性同名,才能取到正确的值.如果等号左边的变量的次序与等号右边同名属性的次序不一致,这对取值完全没有影响;但如果左边的属性和右边的不一致,那么取出来就是`undefined`.也就是说对象的解构赋值的内部机制是先找到同名属性,然后再赋给对应的变量.其标准形式为:"
   ]
  },
  {
   "cell_type": "code",
   "execution_count": 7,
   "metadata": {},
   "outputs": [],
   "source": [
    "let {aa:x_1,bb:y_1,cc:z_1}={aa:1,bb:2,cc:3}"
   ]
  },
  {
   "cell_type": "code",
   "execution_count": 8,
   "metadata": {},
   "outputs": [
    {
     "name": "stdout",
     "output_type": "stream",
     "text": [
      "1,2,3\n"
     ]
    }
   ],
   "source": [
    "console.log(`${x_1},${y_1},${z_1}`)"
   ]
  },
  {
   "cell_type": "markdown",
   "metadata": {},
   "source": [
    "其中`aa,bb,cc`这种属性叫做模式匹配,也可以使用以下简略写法:"
   ]
  },
  {
   "cell_type": "code",
   "execution_count": 9,
   "metadata": {},
   "outputs": [],
   "source": [
    "let {aaa,bbb,ccc}={aaa:1,bbb:2,ccc:3}"
   ]
  },
  {
   "cell_type": "code",
   "execution_count": 10,
   "metadata": {},
   "outputs": [
    {
     "name": "stdout",
     "output_type": "stream",
     "text": [
      "1,2,3\n"
     ]
    }
   ],
   "source": [
    "console.log(`${aaa},${bbb},${ccc}`)"
   ]
  },
  {
   "cell_type": "markdown",
   "metadata": {},
   "source": [
    "## 值类型\n",
    "\n",
    "Js内置类型大概就这么7种:\n",
    "\n",
    "+ Number    数值型\n",
    "+ String    字符串型\n",
    "+ Bool      布尔型\n",
    "+ null      空值类型\n",
    "+ undefined 未定义类型\n",
    "+ object    对象类型\n",
    "+ Symbol    标志位类型\n",
    "\n",
    "我们可以用typeof函数来辨识一个值的类型,其返回值的取值范围就是上面7种.`function`也是typeof的一种可能的返回值.然而function是object.\n"
   ]
  },
  {
   "cell_type": "code",
   "execution_count": 11,
   "metadata": {},
   "outputs": [
    {
     "data": {
      "text/plain": [
       "'function'"
      ]
     },
     "execution_count": 11,
     "metadata": {},
     "output_type": "execute_result"
    }
   ],
   "source": [
    "typeof(()=>{\n",
    "    return 1\n",
    "})"
   ]
  },
  {
   "cell_type": "code",
   "execution_count": 12,
   "metadata": {},
   "outputs": [
    {
     "data": {
      "text/plain": [
       "true"
      ]
     },
     "execution_count": 12,
     "metadata": {},
     "output_type": "execute_result"
    }
   ],
   "source": [
    "()=>{return 1} instanceof Object"
   ]
  },
  {
   "cell_type": "markdown",
   "metadata": {},
   "source": [
    "### Number"
   ]
  },
  {
   "cell_type": "code",
   "execution_count": 13,
   "metadata": {},
   "outputs": [
    {
     "data": {
      "text/plain": [
       "1024547"
      ]
     },
     "execution_count": 13,
     "metadata": {},
     "output_type": "execute_result"
    }
   ],
   "source": [
    "123 // 整数123\n",
    "0.456 // 浮点数0.456\n",
    "1.2345e3// 科学计数法表示1.2345x1000，等同于1234.5\n",
    "-99// 负数\n",
    "NaN // NaN表示Not a Number，当无法计算结果时用NaN表示,NaN这个特殊的Number与所有其他值都不相等，包括它自己\n",
    "Infinity // Infinity表示无限大，当数值超过了JavaScript的Number所能表示的最大值时，就表示为Infinity\n",
    "0b111110111 //二进制数\n",
    "0o767     //八进制数\n",
    "0xfa223   //16进制数"
   ]
  },
  {
   "cell_type": "markdown",
   "metadata": {},
   "source": [
    "#### Number类型的特殊处理:\n",
    "\n",
    "+ ** 计算精度**"
   ]
  },
  {
   "cell_type": "code",
   "execution_count": 14,
   "metadata": {},
   "outputs": [
    {
     "data": {
      "text/plain": [
       "false"
      ]
     },
     "execution_count": 14,
     "metadata": {},
     "output_type": "execute_result"
    }
   ],
   "source": [
    "0.1+0.2 == 0.3"
   ]
  },
  {
   "cell_type": "markdown",
   "metadata": {},
   "source": [
    "注意,这是因为我们的浮点数并没有设定精度,大家肯定都觉得本该是true呀,其实本来就该是错的(IEEE 754),浮点数必须有精度.一个解决方案是全部化成整数在算,另一个就是使用极小常量`Number.EPSILON`确定精度.\n",
    "\n",
    "引入一个这么小的量的目的,在于为浮点数计算,设置一个误差范围.我们知道浮点数计算是不精确的.但是如果这个误差能够小于Number.EPSILON,我们就可以认为得到了正确结果.因此,`Number.EPSILON`的实质是一个可以接受的误差范围.\n",
    "    "
   ]
  },
  {
   "cell_type": "code",
   "execution_count": 15,
   "metadata": {},
   "outputs": [
    {
     "data": {
      "text/plain": [
       "'0.00000000000000005551'"
      ]
     },
     "execution_count": 15,
     "metadata": {},
     "output_type": "execute_result"
    }
   ],
   "source": [
    "(0.1 + 0.2 - 0.3).toFixed(20)"
   ]
  },
  {
   "cell_type": "code",
   "execution_count": 16,
   "metadata": {},
   "outputs": [
    {
     "data": {
      "text/plain": [
       "true"
      ]
     },
     "execution_count": 16,
     "metadata": {},
     "output_type": "execute_result"
    }
   ],
   "source": [
    "(0.1 + 0.2 - 0.3) < Number.EPSILON"
   ]
  },
  {
   "cell_type": "markdown",
   "metadata": {},
   "source": [
    "+ **整形数**\n",
    "\n",
    "用来判断一个值是否为整数.需要注意的是,在JavaScript内部,整数和浮点数是同样的储存方法,所以3和3.0被视为同一个值.要判断一个数是整数还是浮点数,那就得使用`Number.isInteger()`这个接口"
   ]
  },
  {
   "cell_type": "code",
   "execution_count": 17,
   "metadata": {},
   "outputs": [
    {
     "data": {
      "text/plain": [
       "true"
      ]
     },
     "execution_count": 17,
     "metadata": {},
     "output_type": "execute_result"
    }
   ],
   "source": [
    "Number.isInteger(1)"
   ]
  },
  {
   "cell_type": "code",
   "execution_count": 18,
   "metadata": {},
   "outputs": [
    {
     "data": {
      "text/plain": [
       "true"
      ]
     },
     "execution_count": 18,
     "metadata": {},
     "output_type": "execute_result"
    }
   ],
   "source": [
    "Number.isInteger(1.0)"
   ]
  },
  {
   "cell_type": "code",
   "execution_count": 19,
   "metadata": {},
   "outputs": [
    {
     "data": {
      "text/plain": [
       "false"
      ]
     },
     "execution_count": 19,
     "metadata": {},
     "output_type": "execute_result"
    }
   ],
   "source": [
    "Number.isInteger(1.1)"
   ]
  },
  {
   "cell_type": "markdown",
   "metadata": {},
   "source": [
    "整形数的另一个问题是大数精度,JavaScript能够准确表示的整数范围在-2^53到2^53之间(不含两个端点),超过这个范围就无法精确表示这个值,我们称这个范围内的书为`安全数`.\n",
    "要判断一个整数是不是安全数可以使用接口`Number.isSafeInteger()`"
   ]
  },
  {
   "cell_type": "code",
   "execution_count": 20,
   "metadata": {
    "scrolled": true
   },
   "outputs": [
    {
     "data": {
      "text/plain": [
       "9007199254740991"
      ]
     },
     "execution_count": 20,
     "metadata": {},
     "output_type": "execute_result"
    }
   ],
   "source": [
    "Number.MAX_SAFE_INTEGER"
   ]
  },
  {
   "cell_type": "code",
   "execution_count": 21,
   "metadata": {},
   "outputs": [
    {
     "data": {
      "text/plain": [
       "-9007199254740991"
      ]
     },
     "execution_count": 21,
     "metadata": {},
     "output_type": "execute_result"
    }
   ],
   "source": [
    "Number.MIN_SAFE_INTEGER"
   ]
  },
  {
   "cell_type": "code",
   "execution_count": 22,
   "metadata": {},
   "outputs": [
    {
     "data": {
      "text/plain": [
       "false"
      ]
     },
     "execution_count": 22,
     "metadata": {},
     "output_type": "execute_result"
    }
   ],
   "source": [
    "Number.isSafeInteger(2**53)"
   ]
  },
  {
   "cell_type": "markdown",
   "metadata": {},
   "source": [
    "+ **NaN**\n",
    "\n",
    "它表示不是一个数...但他自己确是数值类型,而且NaN不等于NaN...很矛盾哇"
   ]
  },
  {
   "cell_type": "code",
   "execution_count": 23,
   "metadata": {},
   "outputs": [
    {
     "data": {
      "text/plain": [
       "'number'"
      ]
     },
     "execution_count": 23,
     "metadata": {},
     "output_type": "execute_result"
    }
   ],
   "source": [
    "typeof(NaN)"
   ]
  },
  {
   "cell_type": "code",
   "execution_count": 24,
   "metadata": {},
   "outputs": [
    {
     "data": {
      "text/plain": [
       "false"
      ]
     },
     "execution_count": 24,
     "metadata": {},
     "output_type": "execute_result"
    }
   ],
   "source": [
    "0 == NaN"
   ]
  },
  {
   "cell_type": "code",
   "execution_count": 25,
   "metadata": {},
   "outputs": [
    {
     "data": {
      "text/plain": [
       "NaN"
      ]
     },
     "execution_count": 25,
     "metadata": {},
     "output_type": "execute_result"
    }
   ],
   "source": [
    "parseInt(\"asdf\") "
   ]
  },
  {
   "cell_type": "code",
   "execution_count": 26,
   "metadata": {},
   "outputs": [
    {
     "data": {
      "text/plain": [
       "false"
      ]
     },
     "execution_count": 26,
     "metadata": {},
     "output_type": "execute_result"
    }
   ],
   "source": [
    "NaN === NaN"
   ]
  },
  {
   "cell_type": "markdown",
   "metadata": {},
   "source": [
    "所以如果你要判断一个变量是不是NaN你得使用函数:\n",
    "\n",
    "    isNaN(\"xxx\")"
   ]
  },
  {
   "cell_type": "code",
   "execution_count": 27,
   "metadata": {
    "scrolled": true
   },
   "outputs": [
    {
     "data": {
      "text/plain": [
       "true"
      ]
     },
     "execution_count": 27,
     "metadata": {},
     "output_type": "execute_result"
    }
   ],
   "source": [
    "isNaN(\"xxx\")"
   ]
  },
  {
   "cell_type": "markdown",
   "metadata": {},
   "source": [
    "如果你对一个变量是什么内容一无所知,那使用`isNaN`是不合理的,因为它没准就不是一个数,更不用说它是nan了,这种情况应该使用`Number.isNaN()`它只对数值有效"
   ]
  },
  {
   "cell_type": "code",
   "execution_count": 28,
   "metadata": {},
   "outputs": [
    {
     "data": {
      "text/plain": [
       "false"
      ]
     },
     "execution_count": 28,
     "metadata": {},
     "output_type": "execute_result"
    }
   ],
   "source": [
    "Number.isNaN(\"xxx\") "
   ]
  },
  {
   "cell_type": "markdown",
   "metadata": {},
   "source": [
    "+ **Infinity**\n",
    "\n",
    "`Infinity`代表无限大,和`NaN`类似,要检查一个值是否***非无穷***可以使用函数isFinite()"
   ]
  },
  {
   "cell_type": "code",
   "execution_count": 29,
   "metadata": {},
   "outputs": [
    {
     "data": {
      "text/plain": [
       "false"
      ]
     },
     "execution_count": 29,
     "metadata": {},
     "output_type": "execute_result"
    }
   ],
   "source": [
    "isFinite(Infinity)"
   ]
  },
  {
   "cell_type": "code",
   "execution_count": 30,
   "metadata": {},
   "outputs": [
    {
     "data": {
      "text/plain": [
       "true"
      ]
     },
     "execution_count": 30,
     "metadata": {},
     "output_type": "execute_result"
    }
   ],
   "source": [
    "isFinite(15)"
   ]
  },
  {
   "cell_type": "markdown",
   "metadata": {},
   "source": [
    "但这个接口的问题也和isNaN一样,对非数值型的会有歧义,可以使用`Number.isFinite()`"
   ]
  },
  {
   "cell_type": "code",
   "execution_count": 31,
   "metadata": {},
   "outputs": [
    {
     "data": {
      "text/plain": [
       "true"
      ]
     },
     "execution_count": 31,
     "metadata": {},
     "output_type": "execute_result"
    }
   ],
   "source": [
    "isFinite(\"12\")"
   ]
  },
  {
   "cell_type": "code",
   "execution_count": 32,
   "metadata": {},
   "outputs": [
    {
     "data": {
      "text/plain": [
       "false"
      ]
     },
     "execution_count": 32,
     "metadata": {},
     "output_type": "execute_result"
    }
   ],
   "source": [
    "Number.isFinite(\"12\")"
   ]
  },
  {
   "cell_type": "markdown",
   "metadata": {},
   "source": [
    "#### 数值运算和Math对象"
   ]
  },
  {
   "cell_type": "markdown",
   "metadata": {},
   "source": [
    "js默认提供了多种通用的运算符用来做数值运算\n",
    "\n",
    "\n",
    "+ `+`|加法\n",
    "+ `-`|减法\n",
    "+ `*`|乘法\n",
    "+ `/`|除法\n",
    "+ `%`|求余\n",
    "+ `**`|乘方\n",
    "\n",
    "并且提供了赋值运算:\n",
    "\n",
    "+ `=`|赋值\n",
    "+ `+=`|自己加上后一个数\n",
    "+ `-=`|自己减去后一个数\n",
    "+ `*=`|自己乘后一个数\n",
    "+ `/=`|自己除后一个数\n",
    "+ `%=`|自己与后一个数求余"
   ]
  },
  {
   "cell_type": "markdown",
   "metadata": {},
   "source": [
    "Math对象类似python的标准库math,提供了一些不太常用的基本数值计算方法和通用的常数\n",
    "\n",
    "常数:\n",
    "\n",
    "\n",
    "+ `E`|返回算术常量 e，即自然对数的底数(约等于2.718)\n",
    "+ `LN2`|返回 2 的自然对数(约等于0.693)\n",
    "+ `LN10`|返回 10 的自然对数(约等于2.302)\n",
    "+ `LOG2E`|返回以 2 为底的 e 的对数(约等于 1.414)\n",
    "+ `LOG10E`|返回以 10 为底的 e 的对数(约等于0.434)\n",
    "+ `PI`\t|返回圆周率(约等于3.14159)\n",
    "+ `SQRT1_2`|返回返回 2 的平方根的倒数(约等于 0.707)\n",
    "+ `SQRT2`|返回 2 的平方根(约等于 1.414)\n",
    "\n",
    "方法:\n",
    "\n",
    "\n",
    "+ `random()`|返回 0 ~ 1 之间的随机数\n",
    "+ `fround(x)`|方法返回一个数的单精度浮点数形式\n",
    "+ `round(x)`|把数四舍五入为最接近的整数\n",
    "+ `trunc(x)`|方法用于去除一个数的小数部分,返回整数部分\n",
    "+ `abs(x)`|返回数的绝对值.\n",
    "+ `sign(x)`|方法用来判断一个数到底是正数、负数、还是零,它会返回五种值\n",
    "\n",
    "    + 参数为正数,返回+1;\n",
    "    + 参数为负数,返回-1;\n",
    "    + 参数为0,返回0;\n",
    "    + 参数为-0,返回-0;\n",
    "    + 其他值,返回NaN\n",
    "    \n",
    "+ `ceil(x)`|对数进行上舍入\n",
    "+ `floor(x)`|对数进行下舍入\n",
    "+ `max(x,y)`|返回 x 和 y 中的最高值\n",
    "+ `min(x,y)`|返回 x 和 y 中的最低值\n",
    "+ `cos(x)`|返回数的余弦\n",
    "+ `sin(x)`|返回数的正弦\n",
    "+ `tan(x)`|返回角的正切\n",
    "+ `acos(x)`|返回数的反余弦值\n",
    "+ `asin(x)`|返回数的反正弦值\n",
    "+ `atan(x)`|以介于 -PI/2 与 PI/2 弧度之间的数值来返回 x 的反正切值\n",
    "+ `atan2(y,x)`|返回从 x 轴到点 (x,y) 的角度(介于 -PI/2 与 PI/2 弧度之间)\n",
    "+ `sinh(x)`|返回x的双曲正弦(hyperbolic sine)\n",
    "+ `cosh(x)`|返回x的双曲余弦(hyperbolic cosine)\n",
    "+ `tanh(x)`|返回x的双曲正切(hyperbolic tangent)\n",
    "+ `asinh(x)`|返回x的反双曲正弦(inverse hyperbolic sine)\n",
    "+ `acosh(x)`|返回x的反双曲余弦(inverse hyperbolic cosine)\n",
    "+ `atanh(x)`|返回x的反双曲正切(inverse hyperbolic tangent)\n",
    "+ `pow(x,y)`|返回 x 的 y 次幂\n",
    "+ `sqrt(x)`|返回数的平方根\n",
    "+ `hypot(...args)`|方法返回所有参数的平方和的平方根\n",
    "+ `cbrt(x)`|方法用于计算一个数的立方根\n",
    "+ `exp(x)`|返回 e 的指数\n",
    "+ `log(x)`|返回数的自然对数(底为e)\n",
    "+ `expm1(x)`|返回Math.exp(x) - 1\n",
    "+ `log1p(x)`|方法返回1 + x的自然对数，即Math.log(1 + x).如果x小于-1,返回NaN.\n",
    "+ `log10(x)`|返回以10为底的x的对数.如果x小于0,则返回NaN\n",
    "+ `log2(x)`|返回以2为底的x的对数.如果x小于0,则返回NaN.\n",
    "+ `clz32(x)`|返回一个数的32位无符号整数形式有多少个前导0.\n",
    "+ `imul(x,y)`|方法返回两个数以32位带符号整数形式相乘的结果,返回的也是一个32位的带符号整数.\n",
    "+ `toSource()`|返回该对象的源代码.[兼容性]\n",
    "+ `valueOf()`|返回 Math 对象的原始值."
   ]
  },
  {
   "cell_type": "markdown",
   "metadata": {},
   "source": [
    "#### 类型转换\n",
    "\n",
    "Number()函数,将一个值转变为10进制数值类型\n",
    "\n",
    "虽然js早期版本提供了Number(),parseInt()和parseFloat()三种用来将对象值转换为数值类型的方法,但因为\n",
    "\n",
    "+ 为了好记\n",
    "+ 为了与python统一记\n",
    "+ 适应ES6中没有后两种全局方法,而是在Number对象中新增了同名方法\n",
    "\n",
    "我们就只搞第一个\n",
    "\n",
    "`Number()`的转换特点如下:\n",
    "\n",
    "+ 布尔值       true变成1,false变成0\n",
    "+ 数值型       原来是啥还是啥\n",
    "+ null        变成0\n",
    "+ undefined   NaN\n",
    "+ 字符串\n",
    "    + 只包含数字(包括前面有正负号的情况)    去掉前置的0转换成十进制整数\n",
    "    + 包括`.`符号,其他都是数              去掉前置的0转换成十进制浮点数数\n",
    "    + 包含`0xf`,`0b和0x`字样            作为16进制数转换成10进制数\n",
    "    + 空字符串                          0\n",
    "    + 包括其他的字符                     NaN\n",
    "+ 对象         调用valueOf()方法再转值,没有的话再试toString()方法\n",
    "+ Symbol      babel-node直接报错`TypeError`"
   ]
  },
  {
   "cell_type": "code",
   "execution_count": 33,
   "metadata": {},
   "outputs": [
    {
     "data": {
      "text/plain": [
       "1.23"
      ]
     },
     "execution_count": 33,
     "metadata": {},
     "output_type": "execute_result"
    }
   ],
   "source": [
    "Number(\"1.23\")"
   ]
  },
  {
   "cell_type": "code",
   "execution_count": 34,
   "metadata": {},
   "outputs": [
    {
     "ename": "TypeError",
     "evalue": "Cannot convert a Symbol value to a number",
     "output_type": "error",
     "traceback": [
      "evalmachine.<anonymous>:1",
      "Number(Symbol());",
      "^",
      "",
      "TypeError: Cannot convert a Symbol value to a number",
      "    at Number (<anonymous>)",
      "    at evalmachine.<anonymous>:1:1",
      "    at Script.runInThisContext (vm.js:91:20)",
      "    at Object.runInThisContext (vm.js:298:38)",
      "    at run ([eval]:1002:15)",
      "    at onRunRequest ([eval]:829:18)",
      "    at onMessage ([eval]:789:13)",
      "    at process.emit (events.js:182:13)",
      "    at emit (internal/child_process.js:812:12)",
      "    at process._tickCallback (internal/process/next_tick.js:63:19)"
     ]
    }
   ],
   "source": [
    "Number(Symbol())"
   ]
  },
  {
   "cell_type": "markdown",
   "metadata": {},
   "source": [
    "### 字符串\n",
    "\n",
    "字符串是以单引号'或双引号\"括起来的任意文本,比如'abc',\"xyz\"等等.请注意''或\"\"本身只是一种表示方式,不是字符串的一部分,因此字符串'abc'只有a，b，c这3个字符.\n",
    "\n",
    "和python中一样,js的字符串也是不可变值"
   ]
  },
  {
   "cell_type": "markdown",
   "metadata": {},
   "source": [
    "字符串对象的默认属性和方法:\n",
    "\n",
    "属性\t|描述\n",
    "---|---\n",
    "length\t|字符串的长度\n",
    "\n",
    "字符串的运算符:\n",
    "\n",
    "运算符|描述\n",
    "---|---\n",
    "`+`|字符串连接\n",
    "\n",
    "字符串对象方法:\n",
    "\n",
    "+ `anchor(anchorname)`|创建 HTML 锚\n",
    "+ `big()`|用大号字体显示字符串\n",
    "+ `small()`|使用小字号来显示字符串\n",
    "+ `blink()`|显示闪动字符串\n",
    "+ `bold()`|使用粗体显示字符串\n",
    "+ `italics()`|使用斜体显示字符串\n",
    "+ `fixed()`|以打字机文本显示字符串\n",
    "+ `strike()`|使用删除线来显示字符串\n",
    "+ `sub()`|把字符串显示为下标\n",
    "+ `sup()`|把字符串显示为上标\n",
    "+ `toLocaleLowerCase()`|把字符串转换为小写\n",
    "+ `toLocaleUpperCase()`|把字符串转换为大写\n",
    "+ `toLowerCase()`|把字符串转换为小写\n",
    "+ `toUpperCase()`|把字符串转换为大写\n",
    "+ `toSource()`|代表对象的源代码[兼容性]\n",
    "+ `toString()`|返回字符串。\n",
    "+ `valueOf()`|返回某个字符串对象的原始值\n",
    "+ `fontcolor(color)`|使用指定的颜色来显示字符串\n",
    "+ `fontsize(size)`|使用指定的尺寸来显示字符串\n",
    "+ `lastIndexOf(searchvalue [,fromindex])`|从后向前搜索字符串\n",
    "+ `link(url)`|将字符串显示为链接\n",
    "+ `localeCompare(target)`|用本地特定的顺序来比较两个字符串\n",
    "+ `match(searchvalue/regexp)`|找到一个或多个正则表达式的匹配\n",
    "+ `replace(regexp/substr,replacement)`|替换与正则表达式匹配的子串\n",
    "+ `search(regexp)`|检索与正则表达式相匹配的值\n",
    "+ `slice(start,end)`|提取字符串的片断，并在新的字符串中返回被提取的部分\n",
    "+ `concat(stringX,stringX,...,stringX)`|连接字符串\n",
    "+ `split(separator[,howmany])`|把字符串分割为字符串数组.howmany可指定返回的数组的最大长度.如果设置了该参数,返回的子串不会多于这个参数指定的数组.如果没有设置该参数,整个字符串都会被分割,不考虑它的长度.\n",
    "+ `substr(start[,length])`|从起始索引号提取字符串中指定数目的字符.length参数表示子串中的字符数.必须是数值.如果省略了该参数,那么返回从 stringObject 的开始位置到结尾的字串\n",
    "+ `substring(start[,stop])`|提取字符串中两个指定的索引号之间的字符.stop参数比要提取的子串的最后一个字符在 stringObject 中的位置多 1.如果省略该参数,那么返回的子串会一直到字符串的结尾.\n",
    "+ `codePointAt(index)`|返回在指定的位置的字符的Unicode编码\n",
    "+ `repeat(n)`|返回字符串重复n次的字符串\n",
    "+ `includes(searchvalue [,fromindex])`|返回布尔值,表示是否找到了参数字符串\n",
    "+ `startsWith(searchvalue [,fromindex])`|返回布尔值,表示参数字符串是否在源字符串的头部\n",
    "+ `endsWith(searchvalue [,fromindex])`|返回布尔值,表示参数字符串是否在源字符串的尾部\n",
    "+ `indexOf(searchvalue [,fromindex])`|返回某个指定的字符串值在字符串中首次出现的位置,不存在则返回-1\n",
    "+ `padStart(length, pad)`[ES8]|返回一个前面`length`长度全部由`pad`填充,后面为原字符串的新字符串\n",
    "+ `padEnd(length, pad)`|返回一个后面`length`长度全部由`pad`填充,前面为原字符串的新字符串"
   ]
  },
  {
   "cell_type": "markdown",
   "metadata": {},
   "source": [
    "#### unicode和utf-16编码支持\n",
    "\n",
    "ES6允许采用`\\u{xxxx}`形式表示一个字符，其中“xxxx”表示字符的码点"
   ]
  },
  {
   "cell_type": "code",
   "execution_count": 35,
   "metadata": {},
   "outputs": [
    {
     "data": {
      "text/plain": [
       "'🚀'"
      ]
     },
     "execution_count": 35,
     "metadata": {},
     "output_type": "execute_result"
    }
   ],
   "source": [
    "'\\u{1F680}'"
   ]
  },
  {
   "cell_type": "markdown",
   "metadata": {},
   "source": [
    "JavaScript内部,字符以UTF-16的格式储存,每个字符固定为2个字节.对于那些需要4个字节储存的字符(Unicode码点大于0xFFFF的字符),JavaScript会认为它们是两个字符.\n",
    "\n",
    "codePointAt方法会正确返回32位的UTF-16字符的码点.对于那些两个字节储存的常规字符,它的返回结果与charCodeAt方法相同.\n",
    "\n",
    "codePointAt方法返回的是码点的十进制值,如果想要十六进制的值,可以使用toString方法转换一下.\n",
    "\n",
    "'𠮷'是一个典型的4字节存储字符,我们以它举例"
   ]
  },
  {
   "cell_type": "code",
   "execution_count": 36,
   "metadata": {},
   "outputs": [
    {
     "data": {
      "text/plain": [
       "134071"
      ]
     },
     "execution_count": 36,
     "metadata": {},
     "output_type": "execute_result"
    }
   ],
   "source": [
    "let s = '𠮷a'\n",
    "s.codePointAt(0) // 134071\n"
   ]
  },
  {
   "cell_type": "code",
   "execution_count": 37,
   "metadata": {
    "scrolled": true
   },
   "outputs": [
    {
     "data": {
      "text/plain": [
       "57271"
      ]
     },
     "execution_count": 37,
     "metadata": {},
     "output_type": "execute_result"
    }
   ],
   "source": [
    "s.codePointAt(1) // 57271"
   ]
  },
  {
   "cell_type": "code",
   "execution_count": 38,
   "metadata": {},
   "outputs": [
    {
     "data": {
      "text/plain": [
       "97"
      ]
     },
     "execution_count": 38,
     "metadata": {},
     "output_type": "execute_result"
    }
   ],
   "source": [
    "s.codePointAt(2)"
   ]
  },
  {
   "cell_type": "markdown",
   "metadata": {},
   "source": [
    "同样的,要把一个4字节的utf-16字符从码点返回,我们可以用`String.fromCodePoint`,注意,这个是String对象的方法,不是字符串对象的"
   ]
  },
  {
   "cell_type": "code",
   "execution_count": 39,
   "metadata": {
    "scrolled": true
   },
   "outputs": [
    {
     "data": {
      "text/plain": [
       "'𠮷'"
      ]
     },
     "execution_count": 39,
     "metadata": {},
     "output_type": "execute_result"
    }
   ],
   "source": [
    "String.fromCodePoint(0x20BB7)"
   ]
  },
  {
   "cell_type": "markdown",
   "metadata": {},
   "source": [
    "#### 字符串查找\n",
    "\n",
    "可以用于字符串查找的方法有:\n",
    "\n",
    "+ includes(searchvalue [,fromindex])\n",
    "    \n",
    "    返回布尔值,表示是否找到了参数字符串.\n",
    "    \n",
    "+ startsWith(searchvalue [,fromindex])\n",
    "\n",
    "    返回布尔值,表示参数字符串是否在源字符串的头部\n",
    "\n",
    "+ endsWith(searchvalue [,fromindex]) \n",
    "\n",
    "    返回布尔值,表示参数字符串是否在源字符串的尾部.\n",
    "\n",
    "+ indexOf(searchvalue [,fromindex])\n",
    "\n",
    "    返回某个指定的字符串值在字符串中首次出现的位置,不存在则返回-1\n",
    "    \n",
    "这四个方法都支持第二个参数表示开始搜索的位置.使用第二个参数n时endsWith的行为与其他两个方法有所不同.它针对前n个字符,而其他两个方法针对从第n个位置直到字符串结束.\n",
    "\n"
   ]
  },
  {
   "cell_type": "code",
   "execution_count": 40,
   "metadata": {},
   "outputs": [
    {
     "name": "stdout",
     "output_type": "stream",
     "text": [
      "false\n",
      "false\n",
      "false\n",
      "-1\n"
     ]
    }
   ],
   "source": [
    "let hello = 'Hello world!';\n",
    "\n",
    "console.log(s.startsWith('world', 6)) // true\n",
    "console.log(s.endsWith('Hello', 5)) // true\n",
    "console.log(s.includes('Hello', 6)) // false\n",
    "console.log(s.indexOf('llo'))"
   ]
  },
  {
   "cell_type": "markdown",
   "metadata": {},
   "source": [
    "#### 重复字符串\n",
    "\n",
    "repeat()方法可以返回一个由原字符串重复好几次的新字符串"
   ]
  },
  {
   "cell_type": "code",
   "execution_count": 41,
   "metadata": {},
   "outputs": [
    {
     "data": {
      "text/plain": [
       "'niconiconi'"
      ]
     },
     "execution_count": 41,
     "metadata": {},
     "output_type": "execute_result"
    }
   ],
   "source": [
    "'ni'+'coni'.repeat(2)"
   ]
  },
  {
   "cell_type": "markdown",
   "metadata": {},
   "source": [
    "这个方法如果接收\n",
    "\n",
    "+ 负数或者Infinity，\n",
    "\n",
    "    会报错\n",
    "    \n",
    "+ 0到-1之间的小数,NaN\n",
    "\n",
    "    等同于0\n",
    "    \n",
    "+ 字符串\n",
    "\n",
    "    先转成数字再判断"
   ]
  },
  {
   "cell_type": "markdown",
   "metadata": {},
   "source": [
    "#### 模板字符串\n",
    "\n",
    "不用再羡慕python中字符创的format()方法了,ES6中有了模板字符串,它使用\\`\\`包裹,使用`${varname}`表示占位字符,而并不需要再用format()这样的方法来做占位符的匹配,占位字符会自己与作用域中的变量匹配"
   ]
  },
  {
   "cell_type": "code",
   "execution_count": 42,
   "metadata": {},
   "outputs": [],
   "source": [
    "var temple = `${name}今年${age}岁啦 `\n",
    "var name = \"小亮\"\n",
    "var age = 27"
   ]
  },
  {
   "cell_type": "code",
   "execution_count": 43,
   "metadata": {},
   "outputs": [
    {
     "data": {
      "text/plain": [
       "'undefined今年undefined岁啦 '"
      ]
     },
     "execution_count": 43,
     "metadata": {},
     "output_type": "execute_result"
    }
   ],
   "source": [
    "temple"
   ]
  },
  {
   "cell_type": "markdown",
   "metadata": {},
   "source": [
    "如果模板字符串中的变量没有声明将报错,如果要用模板本身,可以用包裹字符串的对象构建一个Fuction对象,来实现"
   ]
  },
  {
   "cell_type": "code",
   "execution_count": 44,
   "metadata": {},
   "outputs": [
    {
     "data": {
      "text/plain": [
       "'Hello Jack!'"
      ]
     },
     "execution_count": 44,
     "metadata": {},
     "output_type": "execute_result"
    }
   ],
   "source": [
    "let str = 'return ' + '`Hello ${name}!`';\n",
    "let func1 = new Function('name', str);\n",
    "func1('Jack')"
   ]
  },
  {
   "cell_type": "code",
   "execution_count": 45,
   "metadata": {},
   "outputs": [],
   "source": [
    "function temple(name){\n",
    "    return `hello ${name}!`\n",
    "}"
   ]
  },
  {
   "cell_type": "code",
   "execution_count": 46,
   "metadata": {},
   "outputs": [
    {
     "data": {
      "text/plain": [
       "'hello jack!'"
      ]
     },
     "execution_count": 46,
     "metadata": {},
     "output_type": "execute_result"
    }
   ],
   "source": [
    "temple('jack')"
   ]
  },
  {
   "cell_type": "markdown",
   "metadata": {},
   "source": [
    "#### 类型转换\n",
    "\n",
    "类似number,把一个其他对象转换成字符串的方式是使用String()函数\n",
    "\n",
    "它的规则是:\n",
    "\n",
    "+ 有toString()则调用它\n",
    "+ 值是null则返回\"null\"\n",
    "+ 值是undefined则返回\"undefined\""
   ]
  },
  {
   "cell_type": "markdown",
   "metadata": {},
   "source": [
    "### 布尔值\n",
    "\n",
    "布尔值只有true/false两种值,要么是true,要么是false.可以直接用true、false表示布尔值\n"
   ]
  },
  {
   "cell_type": "code",
   "execution_count": 47,
   "metadata": {
    "scrolled": true
   },
   "outputs": [
    {
     "data": {
      "text/plain": [
       "true"
      ]
     },
     "execution_count": 47,
     "metadata": {},
     "output_type": "execute_result"
    }
   ],
   "source": [
    "true"
   ]
  },
  {
   "cell_type": "markdown",
   "metadata": {},
   "source": [
    "和python类似,js也提供了大量的假值\n",
    "\n",
    "假值| 类型\n",
    "---|---\n",
    "0|Number\n",
    "NaN|Number\n",
    "''|String\n",
    "false|Boolean\n",
    "null|Object\n",
    "undefined|Undefined\n",
    "\n",
    "这之外的值都是真值"
   ]
  },
  {
   "cell_type": "markdown",
   "metadata": {},
   "source": [
    "### null\n",
    "\n",
    "null表示一个\"空\"的值,它和0以及空字符串''不同,0是一个数值,''表示长度为0的字符串,而null表示\"空\".\n",
    "\n",
    "在其他语言中也有类似JavaScript的null的表示,例如Java也用null,Swift用nil,Python用None表示.但是在JavaScript中还有一个和null类似的undefined.它表示\"未定义\".\n",
    "\n",
    "JavaScript的设计者希望用null表示一个空的值\n",
    "\n",
    "**但注意**\n",
    "\n",
    "typeof(null)返回的是object,只是因为事实上null应当表示一个空的对象指针."
   ]
  },
  {
   "cell_type": "code",
   "execution_count": 48,
   "metadata": {},
   "outputs": [
    {
     "data": {
      "text/plain": [
       "null"
      ]
     },
     "execution_count": 48,
     "metadata": {},
     "output_type": "execute_result"
    }
   ],
   "source": [
    "null"
   ]
  },
  {
   "cell_type": "code",
   "execution_count": 49,
   "metadata": {},
   "outputs": [
    {
     "data": {
      "text/plain": [
       "'object'"
      ]
     },
     "execution_count": 49,
     "metadata": {},
     "output_type": "execute_result"
    }
   ],
   "source": [
    "typeof(null)"
   ]
  },
  {
   "cell_type": "markdown",
   "metadata": {},
   "source": [
    "### undefined\n",
    "\n",
    "undefined表示值未定义.它既是值得类型,也是这个类型唯一的值.事实证明这并没有什么卵用.大多数情况下,我们都应该用null.undefined仅仅在判断函数参数是否传递的情况下有用."
   ]
  },
  {
   "cell_type": "markdown",
   "metadata": {},
   "source": [
    "###  object\n",
    "\n",
    "这个比较特殊,object是特殊的标准类型,可以说除了其他外的所有对象都是object类型.对象是引用类型,如果变量x表示一个对象,当执行`let y = x`语句后,实际上y和x指向的是同一个对象.所以当你通过y改变对象的值,这种变化也会反映到x上.\n",
    "\n",
    "在js中对象很容易创建,只要使用大括号,像python中写字典一样就行了"
   ]
  },
  {
   "cell_type": "code",
   "execution_count": 50,
   "metadata": {},
   "outputs": [
    {
     "data": {
      "text/plain": [
       "'object'"
      ]
     },
     "execution_count": 50,
     "metadata": {},
     "output_type": "execute_result"
    }
   ],
   "source": [
    "typeof({})"
   ]
  },
  {
   "cell_type": "markdown",
   "metadata": {},
   "source": [
    "就像python中的运算符一样,每个object都有几个对应的方法和属性,后面会详细讲"
   ]
  },
  {
   "cell_type": "markdown",
   "metadata": {},
   "source": [
    "在后面面向对象的部分我们会详细解析Object对象"
   ]
  },
  {
   "cell_type": "markdown",
   "metadata": {},
   "source": [
    "### symbol"
   ]
  },
  {
   "cell_type": "markdown",
   "metadata": {},
   "source": [
    "这个是ES6新增的类型,作用就一个,给一个对象做个唯一标识.\n",
    "\n",
    "JS中对象属性名都是字符串,这容易造成属性名的冲突.比如你使用了一个他人提供的对象,但又想为这个对象添加新的方法(mixin模式).新方法的名字就有可能与现有方法产生冲突.如果有一种机制保证每个属性的名字都是独一无二的就好了.这样就从根本上防止属性名的冲突.这就是ES6引入Symbol的原因.\n",
    "\n",
    "Symbol值通过Symbol函数生成。这就是说，对象的属性名现在可以有两种类型,一种是原来就有的字符串,另一种就是新增的Symbol类型.凡是属性名属于Symbol类型就都是独一无二的,可以保证不会与其他属性名产生冲突."
   ]
  },
  {
   "cell_type": "code",
   "execution_count": 51,
   "metadata": {},
   "outputs": [
    {
     "data": {
      "text/plain": [
       "'symbol'"
      ]
     },
     "execution_count": 51,
     "metadata": {},
     "output_type": "execute_result"
    }
   ],
   "source": [
    "typeof(Symbol())"
   ]
  },
  {
   "cell_type": "markdown",
   "metadata": {},
   "source": [
    "Symbol函数可以接受一个字符串作为参数,表示对Symbol实例的描述(可以理解为注释或者标签),主要是为了在控制台显示,或者转为字符串时,比较容易区分."
   ]
  },
  {
   "cell_type": "code",
   "execution_count": 52,
   "metadata": {},
   "outputs": [],
   "source": [
    "let s1 = Symbol(\"is s1\")"
   ]
  },
  {
   "cell_type": "code",
   "execution_count": 53,
   "metadata": {},
   "outputs": [],
   "source": [
    "let s2 = Symbol(\"is s2\")"
   ]
  },
  {
   "cell_type": "code",
   "execution_count": 54,
   "metadata": {},
   "outputs": [
    {
     "data": {
      "text/plain": [
       "Symbol(is s1)"
      ]
     },
     "execution_count": 54,
     "metadata": {},
     "output_type": "execute_result"
    }
   ],
   "source": [
    "s1"
   ]
  },
  {
   "cell_type": "code",
   "execution_count": 55,
   "metadata": {},
   "outputs": [
    {
     "data": {
      "text/plain": [
       "Symbol(is s2)"
      ]
     },
     "execution_count": 55,
     "metadata": {},
     "output_type": "execute_result"
    }
   ],
   "source": [
    "s2"
   ]
  },
  {
   "cell_type": "code",
   "execution_count": 56,
   "metadata": {},
   "outputs": [
    {
     "data": {
      "text/plain": [
       "'Symbol(is s1)'"
      ]
     },
     "execution_count": 56,
     "metadata": {},
     "output_type": "execute_result"
    }
   ],
   "source": [
    "s1.toString()"
   ]
  },
  {
   "cell_type": "code",
   "execution_count": 57,
   "metadata": {},
   "outputs": [
    {
     "data": {
      "text/plain": [
       "'Symbol(is s2)'"
      ]
     },
     "execution_count": 57,
     "metadata": {},
     "output_type": "execute_result"
    }
   ],
   "source": [
    "s2.toString()"
   ]
  },
  {
   "cell_type": "markdown",
   "metadata": {},
   "source": [
    "上面代码中s1和s2是两个Symbol值.如果不加参数,它们在控制台的输出都是Symbol(),不利于区分.有了参数以后就等于为它们加上了描述,输出的时候就能够分清,到底是哪一个值.\n",
    "\n",
    "**注意**Symbol函数的参数只是表示对当前Symbol值的描述,因此相同参数的Symbol函数的返回值是不相等的.\n",
    "\n",
    "Symbol值不能与其他类型的值进行运算,会报错.\n",
    "但可以用`toString()`方法返回字符串,也可以用`Boolean()`函数或者作为判断表达式的内容转变为布尔值,它的意义是\"存在\"或者\"非空\""
   ]
  },
  {
   "cell_type": "code",
   "execution_count": 58,
   "metadata": {},
   "outputs": [
    {
     "data": {
      "text/plain": [
       "true"
      ]
     },
     "execution_count": 58,
     "metadata": {},
     "output_type": "execute_result"
    }
   ],
   "source": [
    "Boolean(s1)"
   ]
  },
  {
   "cell_type": "code",
   "execution_count": 59,
   "metadata": {},
   "outputs": [
    {
     "name": "stdout",
     "output_type": "stream",
     "text": [
      "true\n"
     ]
    }
   ],
   "source": [
    "if (s1){\n",
    "    console.log(\"true\")\n",
    "}"
   ]
  },
  {
   "cell_type": "markdown",
   "metadata": {},
   "source": [
    "Symbol的特点是不会重复,这样可以避免不小心重写覆盖,的主要用法:\n",
    "\n",
    "+ 作为对象中的属性(在面向对象部分详细讲用法)\n",
    "+ 作为常量"
   ]
  },
  {
   "cell_type": "markdown",
   "metadata": {},
   "source": [
    "> 例1"
   ]
  },
  {
   "cell_type": "code",
   "execution_count": 60,
   "metadata": {},
   "outputs": [
    {
     "name": "stdout",
     "output_type": "stream",
     "text": [
      "Symbol(debug) 'debug message'\n",
      "Symbol(info) 'info message'\n"
     ]
    }
   ],
   "source": [
    "function log(level,msg){\n",
    "    return console.log(level,msg)\n",
    "}\n",
    "log.levels = {\n",
    "  DEBUG: Symbol('debug'),\n",
    "  INFO: Symbol('info'),\n",
    "  WARN: Symbol('warn'),\n",
    "}\n",
    "log(log.levels.DEBUG, 'debug message')\n",
    "log(log.levels.INFO, 'info message')"
   ]
  },
  {
   "cell_type": "markdown",
   "metadata": {},
   "source": [
    "> 例2 "
   ]
  },
  {
   "cell_type": "code",
   "execution_count": 61,
   "metadata": {},
   "outputs": [],
   "source": [
    "const COLOR_RED    = Symbol(\"red\");\n",
    "const COLOR_GREEN  = Symbol(\"green\");\n",
    "\n",
    "function getComplement(color) {\n",
    "  switch (color) {\n",
    "    case COLOR_RED:\n",
    "      return COLOR_GREEN;\n",
    "    case COLOR_GREEN:\n",
    "      return COLOR_RED;\n",
    "    default:\n",
    "      throw new Error('Undefined color');\n",
    "    }\n",
    "}"
   ]
  },
  {
   "cell_type": "code",
   "execution_count": 62,
   "metadata": {},
   "outputs": [
    {
     "data": {
      "text/plain": [
       "Symbol(red)"
      ]
     },
     "execution_count": 62,
     "metadata": {},
     "output_type": "execute_result"
    }
   ],
   "source": [
    "getComplement(COLOR_GREEN)"
   ]
  },
  {
   "cell_type": "markdown",
   "metadata": {},
   "source": [
    "常量使用Symbol值最大的好处,就是其他任何值都不可能有相同的值了,因此可以保证上面的switch语句会按设计的方式工作."
   ]
  },
  {
   "cell_type": "markdown",
   "metadata": {},
   "source": [
    "> 实例:消除魔术字符串\n",
    "\n",
    "魔术字符串指的是,在代码之中多次出现,与代码形成强耦合的某一个具体的字符串或者数值.风格良好的代码,应该尽量消除魔术字符串,该由含义清晰的变量代替."
   ]
  },
  {
   "cell_type": "code",
   "execution_count": 63,
   "metadata": {},
   "outputs": [
    {
     "data": {
      "text/plain": [
       "5000"
      ]
     },
     "execution_count": 63,
     "metadata": {},
     "output_type": "execute_result"
    }
   ],
   "source": [
    "function getArea(shape, options) {\n",
    "  var area = 0\n",
    "\n",
    "  switch (shape) {\n",
    "    case 'Triangle': // 魔术字符串\n",
    "      area = .5 * options.width * options.height;\n",
    "      break\n",
    "    /* ... more code ... */\n",
    "  }\n",
    "\n",
    "  return area\n",
    "}\n",
    "\n",
    "getArea('Triangle', { width: 100, height: 100 }) // 魔术字符串"
   ]
  },
  {
   "cell_type": "markdown",
   "metadata": {},
   "source": [
    "上面代码中字符串“Triangle”就是一个魔术字符串.它多次出现,与代码形成\"强耦合\",不利于将来的修改和维护.\n",
    "\n",
    "常用的消除魔术字符串的方法,就是把它写成一个变量."
   ]
  },
  {
   "cell_type": "code",
   "execution_count": 64,
   "metadata": {},
   "outputs": [
    {
     "data": {
      "text/plain": [
       "5000"
      ]
     },
     "execution_count": 64,
     "metadata": {},
     "output_type": "execute_result"
    }
   ],
   "source": [
    "var shapeType = {\n",
    "  triangle: 'Triangle'\n",
    "}\n",
    "\n",
    "function getArea(shape, options) {\n",
    "  var area = 0\n",
    "  switch (shape) {\n",
    "    case shapeType.triangle:\n",
    "      area = .5 * options.width * options.height\n",
    "      break\n",
    "  }\n",
    "  return area\n",
    "}\n",
    "\n",
    "getArea(shapeType.triangle, { width: 100, height: 100 })\n"
   ]
  },
  {
   "cell_type": "markdown",
   "metadata": {},
   "source": [
    "上面代码中我们把“Triangle”写成shapeType对象的triangle属性,这样就消除了强耦合.\n",
    "\n",
    "如果仔细分析可以发现shapeType.triangle等于哪个值并不重要,只要确保不会跟其他shapeType属性的值冲突即可.因此这里就很适合改用Symbol值."
   ]
  },
  {
   "cell_type": "code",
   "execution_count": 65,
   "metadata": {},
   "outputs": [
    {
     "data": {
      "text/plain": [
       "5000"
      ]
     },
     "execution_count": 65,
     "metadata": {},
     "output_type": "execute_result"
    }
   ],
   "source": [
    "const shapeType_ = {\n",
    "  triangle: Symbol()\n",
    "}\n",
    "function getArea(shape, options) {\n",
    "  var area = 0\n",
    "  switch (shape) {\n",
    "    case shapeType_.triangle:\n",
    "      area = .5 * options.width * options.height\n",
    "      break\n",
    "  }\n",
    "  return area\n",
    "}\n",
    "\n",
    "getArea(shapeType_.triangle, { width: 100, height: 100 })\n"
   ]
  },
  {
   "cell_type": "markdown",
   "metadata": {},
   "source": [
    "#### Symbol.for()和Symbol.keyFor()\n",
    "\n",
    "有时我们希望重新使用同一个Symbol值,Symbol.for方法可以做到这一点.它接受一个字符串作为参数,然后搜索有没有以该参数作为名称的Symbol值.如果有就返回这个Symbol值;否则就新建并返回一个以该字符串为名称的Symbol值."
   ]
  },
  {
   "cell_type": "code",
   "execution_count": 66,
   "metadata": {},
   "outputs": [
    {
     "data": {
      "text/plain": [
       "true"
      ]
     },
     "execution_count": 66,
     "metadata": {},
     "output_type": "execute_result"
    }
   ],
   "source": [
    "var s1_ = Symbol.for('foo');\n",
    "var s2_ = Symbol.for('foo');\n",
    "\n",
    "s1_ === s2_"
   ]
  },
  {
   "cell_type": "markdown",
   "metadata": {},
   "source": [
    "上面代码中,s1和s2都是Symbol值,但是它们都是同样参数的Symbol.for方法生成的,所以实际上是同一个值.\n",
    "\n",
    "Symbol.for()与Symbol()这两种写法,都会生成新的Symbol.它们的区别是前者会被登记在全局环境中供搜索而后者不会.Symbol.for()不会每次调用就返回一个新的Symbol类型的值,而是会先检查给定的key是否已经存在,如果不存在才会新建一个值.比如如果你调用Symbol.for(\"cat\")30次,每次都会返回同一个Symbol值,但是调用Symbol(\"cat\")30次,会返回30个不同的Symbol值."
   ]
  },
  {
   "cell_type": "code",
   "execution_count": 67,
   "metadata": {},
   "outputs": [
    {
     "data": {
      "text/plain": [
       "true"
      ]
     },
     "execution_count": 67,
     "metadata": {},
     "output_type": "execute_result"
    }
   ],
   "source": [
    "Symbol.for(\"bar\") === Symbol.for(\"bar\")"
   ]
  },
  {
   "cell_type": "code",
   "execution_count": 68,
   "metadata": {},
   "outputs": [
    {
     "data": {
      "text/plain": [
       "false"
      ]
     },
     "execution_count": 68,
     "metadata": {},
     "output_type": "execute_result"
    }
   ],
   "source": [
    "Symbol(\"bar\") === Symbol(\"bar\")"
   ]
  },
  {
   "cell_type": "markdown",
   "metadata": {},
   "source": [
    "上面代码中由于Symbol()写法没有登记机制,所以每次调用都会返回一个不同的值."
   ]
  },
  {
   "cell_type": "markdown",
   "metadata": {},
   "source": [
    "Symbol.keyFor方法返回一个已登记的Symbol类型值的key.\n",
    "\n",
    "\n",
    "需要注意的是，Symbol.for为Symbol值登记的名字，是全局环境的,可以在不同的iframe或service worker中取到同一个值,\n",
    "\n",
    "```javascript\n",
    "iframe = document.createElement('iframe');\n",
    "iframe.src = String(window.location);\n",
    "document.body.appendChild(iframe);\n",
    "\n",
    "iframe.contentWindow.Symbol.for('foo') === Symbol.for('foo')\n",
    "// true\n",
    "```\n",
    "上面代码中,iframe窗口生成的Symbol值,可以在主页面得到.\n",
    "\n"
   ]
  },
  {
   "cell_type": "markdown",
   "metadata": {},
   "source": [
    "## 判断值的陷阱\n",
    "\n",
    "在python中我们知道`None,0,{},[],\"\"`这些都相当于False,而要确认是不是None或者False,我们可以使用关键字`is`\n",
    "\n",
    "但js中判断值得问题一直很迷,这大致有如下几个问题:\n",
    "\n",
    "+ null和undefined的区别\n",
    "\n",
    "+ 哪些会判断为false\n",
    "\n",
    "+ 如何真正判断两个东西一致\n"
   ]
  },
  {
   "cell_type": "markdown",
   "metadata": {},
   "source": [
    "### null和undefined的区别\n",
    "\n",
    "从字面意思上看`null`表示空,`undefine`表示未定义,那有什么区别呢?\n",
    "\n",
    "+ `null`一个对象,这个对象表示空,即这个对象表示没有内容,没有内容并不代表不存在,相反它是存在的;\n",
    "\n",
    "+ `undefined`则表示未定义,什么意思呢?就是说不存在,或者说在之前的认知以外,它是一个单独的类型,且这个类型只有这么一个实例."
   ]
  },
  {
   "cell_type": "code",
   "execution_count": 2,
   "metadata": {},
   "outputs": [
    {
     "data": {
      "text/plain": [
       "'object'"
      ]
     },
     "execution_count": 2,
     "metadata": {},
     "output_type": "execute_result"
    }
   ],
   "source": [
    "typeof(null)"
   ]
  },
  {
   "cell_type": "code",
   "execution_count": 4,
   "metadata": {},
   "outputs": [
    {
     "data": {
      "text/plain": [
       "'undefined'"
      ]
     },
     "execution_count": 4,
     "metadata": {},
     "output_type": "execute_result"
    }
   ],
   "source": [
    "typeof(undefined)"
   ]
  },
  {
   "cell_type": "markdown",
   "metadata": {},
   "source": [
    "因此可以确定这两个对象的使用范围:\n",
    "\n",
    "+ null\n",
    "    + 为申明的变量赋初值\n",
    "    + 作为返回值表示返回为空\n",
    "    + 作为参数的默认值表示可以不传入这个位置.\n",
    "\n",
    "+ undefined\n",
    "    + 不该被主动使用,只该用于判断\n",
    "    + 判断实例有没有某个字段\n",
    "    + 判断函数是否有返回值\n",
    "    + 判断形参是否有被调用时传入\n",
    "      \n",
    "对比在python中的情况我们可以看到这两种语言设计时的根本差距.\n",
    "\n",
    "python中我们有`None`,但没有`undefined`对应的某个对象,实际上`undefined`在python中是被作为异常处理的:\n",
    "\n",
    "+ python中函数默认的返回值是`None`,`renturn`只是将返回值由`None`替换成我们想返回的值而已.\n",
    "+ python中函数调用形参无法不传入,除非在定义函数时使用关键字参数并赋予默认值.\n",
    "+ python中访问不存在的字段会抛出`AttributeError`\n",
    "\n",
    "因此可以说python对于未定义内容比js严格的多,在python的语义下没有所谓`未定义`,python只能要么规定好默认值并确定好默认值行为,要么就抛出异常.\n",
    "\n",
    "扩展到语言的设计哲学中可以认为python认为一切都是可知的,未知是异常,而js认为有不可知的东西,他们都是`未定义`."
   ]
  },
  {
   "cell_type": "code",
   "execution_count": 2,
   "metadata": {},
   "outputs": [
    {
     "ename": "AttributeError",
     "evalue": "'A' object has no attribute 'a'",
     "output_type": "error",
     "traceback": [
      "\u001b[0;31m---------------------------------------------------------------------------\u001b[0m",
      "\u001b[0;31mAttributeError\u001b[0m                            Traceback (most recent call last)",
      "\u001b[0;32m<ipython-input-2-a57bc7fdf48f>\u001b[0m in \u001b[0;36m<module>\u001b[0;34m()\u001b[0m\n\u001b[1;32m      3\u001b[0m \u001b[0;34m\u001b[0m\u001b[0m\n\u001b[1;32m      4\u001b[0m \u001b[0ma\u001b[0m\u001b[0;34m=\u001b[0m\u001b[0mA\u001b[0m\u001b[0;34m(\u001b[0m\u001b[0;34m)\u001b[0m\u001b[0;34m\u001b[0m\u001b[0m\n\u001b[0;32m----> 5\u001b[0;31m \u001b[0ma\u001b[0m\u001b[0;34m.\u001b[0m\u001b[0ma\u001b[0m\u001b[0;34m\u001b[0m\u001b[0m\n\u001b[0m",
      "\u001b[0;31mAttributeError\u001b[0m: 'A' object has no attribute 'a'"
     ]
    }
   ],
   "source": [
    "class A:\n",
    "    pass\n",
    "\n",
    "a=A()\n",
    "a.a"
   ]
  },
  {
   "cell_type": "markdown",
   "metadata": {},
   "source": [
    "### 哪些会判断为false\n",
    "\n",
    "js中只有`false,null,0,\"\",undefined,NaN`会判断为`false`,其他都是`true`,这点和python中是有区别的--容器即便里面是空的也是`true`."
   ]
  },
  {
   "cell_type": "code",
   "execution_count": 13,
   "metadata": {},
   "outputs": [],
   "source": [
    "assert({})"
   ]
  },
  {
   "cell_type": "markdown",
   "metadata": {},
   "source": [
    "### 如何真正判断两个东西一致\n",
    "\n",
    "python中可以使用关键字`is`来判断两个对象是否是一个对象;js中要严格判断两个对象是否一致应该使用`Object.is(x,y)`\n",
    "\n",
    "使用`Object.is(x,y)`如果下列任何一项成立,则两个值相同:\n",
    "\n",
    "+ 两个值都是`undefined`\n",
    "+ 两个值都是`null`\n",
    "+ 两个值都是`true`\n",
    "+ 两个值都是`false`\n",
    "+ 两个值是由相同个数的字符按照相同的顺序组成的字符串\n",
    "+ 两个值指向同一个对象\n",
    "+ 两个值都是数字并且都是正零`+0`\n",
    "+ 两个值都是数字并且都是负零`-0`\n",
    "+ 两个值都是数字并且都是`NaN`\n",
    "+ 两个值都是数字并且都是除零和`NaN`外的其它同一个数字\n",
    "\n",
    "需要注意的是0值,`0`是`+0`的简写,js中`-0`和`+0`等值但不是一个对象,也就是说使用`Object.is`可以区分`+0`和`-0`,但使用`===`这两者是true"
   ]
  },
  {
   "cell_type": "code",
   "execution_count": 15,
   "metadata": {},
   "outputs": [
    {
     "data": {
      "text/plain": [
       "true"
      ]
     },
     "execution_count": 15,
     "metadata": {},
     "output_type": "execute_result"
    }
   ],
   "source": [
    "0===-0"
   ]
  },
  {
   "cell_type": "code",
   "execution_count": 16,
   "metadata": {},
   "outputs": [
    {
     "data": {
      "text/plain": [
       "true"
      ]
     },
     "execution_count": 16,
     "metadata": {},
     "output_type": "execute_result"
    }
   ],
   "source": [
    "0 === +0"
   ]
  },
  {
   "cell_type": "code",
   "execution_count": 17,
   "metadata": {},
   "outputs": [
    {
     "data": {
      "text/plain": [
       "true"
      ]
     },
     "execution_count": 17,
     "metadata": {},
     "output_type": "execute_result"
    }
   ],
   "source": [
    "Object.is(0,+0)"
   ]
  },
  {
   "cell_type": "code",
   "execution_count": 18,
   "metadata": {},
   "outputs": [
    {
     "data": {
      "text/plain": [
       "false"
      ]
     },
     "execution_count": 18,
     "metadata": {},
     "output_type": "execute_result"
    }
   ],
   "source": [
    "Object.is(-0,+0)"
   ]
  },
  {
   "cell_type": "markdown",
   "metadata": {},
   "source": [
    "这又是和python中不同的地方,python认为`0`和`-0`不光值一样,也是同一个东西."
   ]
  },
  {
   "cell_type": "code",
   "execution_count": 1,
   "metadata": {},
   "outputs": [
    {
     "data": {
      "text/plain": [
       "True"
      ]
     },
     "execution_count": 1,
     "metadata": {},
     "output_type": "execute_result"
    }
   ],
   "source": [
    "0 is -0"
   ]
  },
  {
   "cell_type": "code",
   "execution_count": 2,
   "metadata": {},
   "outputs": [
    {
     "data": {
      "text/plain": [
       "True"
      ]
     },
     "execution_count": 2,
     "metadata": {},
     "output_type": "execute_result"
    }
   ],
   "source": [
    "0==-0"
   ]
  }
 ],
 "metadata": {
  "anaconda-cloud": {},
  "kernelspec": {
   "display_name": "jp-Babel (Node.js)",
   "language": "babel",
   "name": "babel"
  },
  "language_info": {
   "file_extension": ".js",
   "mimetype": "application/javascript",
   "name": "javascript",
   "version": "13.8.0"
  }
 },
 "nbformat": 4,
 "nbformat_minor": 1
}
