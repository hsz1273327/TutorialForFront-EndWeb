{
 "cells": [
  {
   "cell_type": "markdown",
   "metadata": {},
   "source": [
    "# 异步协程语法\n",
    "\n",
    "从ES8开始ECMAScript正式支持异步协程语法,使用关键字`async/await`来声明异步,其语义和用法与python中的一致.Promise作用相当于python中的Future.\n",
    "\n",
    "本质来说`async/await`是一种用于处理JS异步操作的语法糖,可以帮助我们利用同步语法使用Promise,从而编写更加优雅的代码.\n",
    "\n",
    "不过js的协程语法不用配合显式的声明事件循环.js的事件循环是隐式的.以异步访问为例:"
   ]
  },
  {
   "cell_type": "code",
   "execution_count": 2,
   "metadata": {},
   "outputs": [
    {
     "name": "stdout",
     "output_type": "stream",
     "text": [
      "<!DOCTYPE html><!--STATUS OK--><html><head><meta http-equiv=\"Content-Type\" content=\"text/html;charse\n"
     ]
    }
   ],
   "source": [
    "import fetch from 'node-fetch'\n",
    "async function testAsync(){\n",
    "    try{\n",
    "        let response = await fetch(\n",
    "            'http://www.baidu.com',\n",
    "            {\n",
    "                method: 'GET', \n",
    "            }\n",
    "        )\n",
    "        if (response.ok){\n",
    "            let content = await response.text()\n",
    "            console.log(content.slice(0,100))\n",
    "        }else{\n",
    "            console.error(\"http code error\")\n",
    "        }\n",
    "    }catch(e){\n",
    "       console.error(error)\n",
    "    }\n",
    "}\n",
    "testAsync()"
   ]
  },
  {
   "cell_type": "markdown",
   "metadata": {},
   "source": [
    "## 异步迭代器\n",
    "\n",
    "从ES9开始ECMAScript正式支持异步迭代器语法,功能上讲和python的异步迭代器一致,但语法不同,js中使用语法\n",
    "\n",
    "```js\n",
    "for await( let x of AsyncIterator) {\n",
    "      ...\n",
    "}\n",
    "```\n",
    "\n",
    "其中`AsyncIterator`就是异步迭代器,只要迭代器的next方法返回的是一个Promise实例就是异步迭代器."
   ]
  },
  {
   "cell_type": "code",
   "execution_count": 1,
   "metadata": {},
   "outputs": [],
   "source": [
    "let promises = [1,2,3,4,5].map(i=>Promise.resolve(i))"
   ]
  },
  {
   "cell_type": "code",
   "execution_count": 4,
   "metadata": {},
   "outputs": [
    {
     "name": "stdout",
     "output_type": "stream",
     "text": [
      "1\n",
      "2\n",
      "3\n",
      "4\n",
      "5\n"
     ]
    }
   ],
   "source": [
    "(async ()=>{\n",
    "    for await (let p of promises){\n",
    "        console.log(p)\n",
    "    }\n",
    "})()"
   ]
  }
 ],
 "metadata": {
  "kernelspec": {
   "display_name": "jp-Babel (Node.js)",
   "language": "babel",
   "name": "babel"
  },
  "language_info": {
   "file_extension": ".js",
   "mimetype": "application/javascript",
   "name": "javascript",
   "version": "13.8.0"
  }
 },
 "nbformat": 4,
 "nbformat_minor": 2
}
