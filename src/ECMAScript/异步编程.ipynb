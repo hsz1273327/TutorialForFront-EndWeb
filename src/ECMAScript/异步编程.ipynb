{
 "cells": [
  {
   "cell_type": "markdown",
   "metadata": {},
   "source": [
    "# 异步编程\n",
    "\n",
    "python是默认的全同步实现,它的异步都是通过框架实现的,比如gevent,tornad,在3.4之后python加入了async标准包实现了语言级别的异步,但貌似买帐的人不多,也算是历史遗留问题了.\n",
    "\n",
    "所谓\"异步\",简单说就是一个任务分成两段,先执行第一段,然后转而执行其他任务,等做好了准备再回过头执行第二段.\n",
    "\n",
    "比如有一个任务是读取文件进行处理,任务的第一段是向操作系统发出请求,要求读取文件.然后程序执行其他任务,等到操作系统返回文件再接着执行任务的第二段(处理文件).这种不连续的执行就叫做异步.\n",
    "\n",
    "相应地连续的执行就叫做同步.由于是连续执行不能插入其他任务,所以操作系统从硬盘读取文件的这段时间程序只能干等着.\n",
    "\n",
    "Js没有这些包袱,所以在异步方案方便确实做得比python好,js中异步处理并发主要手段是:\n",
    "\n",
    "+ 回调函数与Event对象\n",
    "\n",
    "+ Promise对象\n",
    "\n",
    "+ 协程\n"
   ]
  },
  {
   "cell_type": "markdown",
   "metadata": {},
   "source": [
    "## 回调函数与Event对象\n",
    "\n",
    "这是最原始也是最好理解的手段.所谓回调函数就是把任务的第二段单独写在一个函数里面,等到重新执行这个任务的时候就直接调用这个函数.它的英语名字`callback`,直译过来就是\"重新调用\".js早期到处都是回调函数.python中的`tornado`框架就是异步回调实现的服务器\n",
    "\n",
    "在js中这是非常常见的技术,比如读取一个文件:"
   ]
  },
  {
   "cell_type": "code",
   "execution_count": 1,
   "metadata": {},
   "outputs": [],
   "source": [
    "import fs from \"fs\""
   ]
  },
  {
   "cell_type": "code",
   "execution_count": 2,
   "metadata": {},
   "outputs": [
    {
     "name": "stdout",
     "output_type": "stream",
     "text": [
      "# Javascript基础语法\n",
      "\n",
      "ES\n"
     ]
    }
   ],
   "source": [
    "fs.readFile('./README.md', 'utf-8',function (err, data) {\n",
    "  if (err) throw err\n",
    "  console.log(data.slice(0,20))\n",
    "})"
   ]
  },
  {
   "cell_type": "markdown",
   "metadata": {},
   "source": [
    "上面代码中,readFile函数的第三个参数就是回调函数,也就是任务的第二段.等到操作系统返回了`./README.md`这个文件以后回调函数才会执行.\n",
    "\n",
    "一个有趣的问题是为什么Node.js约定回调函数的第一个参数必须是错误对象err(如果没有错误，该参数就是null)？原因是执行分成两段,在这两段之间抛出的错误程序无法捕捉,只能当作参数传入第二段."
   ]
  },
  {
   "cell_type": "markdown",
   "metadata": {},
   "source": [
    "### Event对象\n",
    "\n",
    "Event对象代表事件的状态,比如事件在其中发生的元素,键盘按键的状态,鼠标的位置,鼠标按钮的状态等.\n",
    "\n",
    "事件通常与回调函数结合使用,这与tkinter中类似.\n",
    "\n",
    "我们需要将回调函数绑定到Event对应的方法上,一旦事件被执行,在执行完事件后会构造一个Event对象并将它传入绑定的回调函数中执行.\n"
   ]
  },
  {
   "cell_type": "markdown",
   "metadata": {},
   "source": [
    "### 回调的缺点\n",
    "\n",
    "回调函数本身并没有问题,它的问题出现在多个回调函数嵌套.假定读取A文件之后再读取B文件,代码如下:\n",
    "\n",
    "```js\n",
    "fs.readFile(fileA, function (err, data) {\n",
    "  fs.readFile(fileB, function (err, data) {\n",
    "    // ...\n",
    "  })\n",
    "})\n",
    "```\n",
    "\n",
    "如果依次读取多个文件就会出现多重嵌套.代码不是纵向发展而是横向发展,很快就会乱成一团从而无法管理.这种情况就称为\"回调函数噩梦\"(callback hell)"
   ]
  },
  {
   "cell_type": "markdown",
   "metadata": {},
   "source": [
    "## Promise\n",
    "\n",
    "promise翻译成中文就是保证,是异步编程的一种解决方案,比传统的解决方案——回调函数和事件——更合理和更强大.它可以通过链式写法将回调函数穿起来,这样就不再是一层套一层的嵌套写法,回调函数可以像平铺一样的顺序展开写下,这样就更加便于维护.\n",
    "\n",
    "\n",
    "Promise其实可以理解为规划,如果说回调是面向对象的,那Promise就是面向全局的,它把每种可能都描述在一起,而不是分开来给不同的地方.像上面读取文件的例子.我们可以使用`fs`的Promise接口."
   ]
  },
  {
   "cell_type": "code",
   "execution_count": 4,
   "metadata": {},
   "outputs": [
    {
     "name": "stdout",
     "output_type": "stream",
     "text": [
      "# Javascript基础语法\n",
      "\n",
      "ES\n"
     ]
    }
   ],
   "source": [
    "fs.promises.readFile('./README.md', 'utf-8')\n",
    "    .then(data=>console.log(data.slice(0,20)))\n",
    "    .catch(error=>console.error(error))"
   ]
  },
  {
   "cell_type": "markdown",
   "metadata": {},
   "source": [
    "## 协程\n",
    "\n",
    "传统的编程语言早有异步编程的解决方案(其实是多任务的解决方案).其中有一种叫做\"协程\"(coroutine),意思是多个程序互相协作完成异步任务.\n",
    "\n",
    "协程有点像函数,又有点像线程.它的运行流程大致如下:\n",
    "\n",
    "1. 协程A开始执行\n",
    "\n",
    "2. 协程A执行到一半进入暂停,执行权转移到协程B.\n",
    "\n",
    "3. 一段时间后协程B交还执行权.\n",
    "\n",
    "4. 协程A恢复执行\n",
    "\n",
    "上面流程的协程A就是异步任务,因为它分成两段(或多段)执行.\n",
    "\n",
    "由此可见我们需要这么几个部件就可以实现协程\n",
    "\n",
    "+ 一个可以转入转出执行权,且可以记录执行状态的结构\n",
    "+ 一个分配什么时间谁来执行的结构\n"
   ]
  },
  {
   "cell_type": "markdown",
   "metadata": {},
   "source": [
    "### 用生成器构造协程\n",
    "\n",
    "可以转入转出执行权的结构我们很容易就可以想到利用生成器.生成器可以利用`yield`和`next`转入转出执行权,还可以传入传出数据.\n",
    "\n",
    "像python中协程就是从生成器中衍生出来的,js也不例外.\n",
    "\n",
    "举例来说,读取文件的协程写法如下:\n",
    "\n",
    "```js\n",
    "function *asnycJob() {\n",
    "  // ...其他代码\n",
    "  let f = yield readFile(fileA);\n",
    "  // ...其他代码\n",
    "}\n",
    "```\n",
    "\n",
    "上面代码的函数asyncJob是一个协程,它的奥妙就在其中的`yield`命令,它表示执行到此处执行权将交给其他协程,也就是说`yield`命令是异步两个阶段的分界线.\n",
    "\n",
    "协程遇到`yield`命令就暂停,等到执行权返回,再从暂停的地方继续往后执行.它的最大优点就是代码的写法非常像同步操作,如果去除`yield`命令简直一模一样.\n",
    "\n",
    "生成器函数是协程在ES6的实现,最大特点就是可以交出函数的执行权(即暂停执行).\n",
    "\n",
    "整个生成器就是一个封装的异步任务,或者说是异步任务的容器.异步操作需要暂停的地方都用`yield`语句注明.生成器的执行方法如下:\n",
    "\n",
    "```js\n",
    "\n",
    "function* gen(x){\n",
    "  let y = yield x + 2;\n",
    "  return y;\n",
    "}\n",
    "\n",
    "var g = gen(1);\n",
    "g.next() // { value: 3, done: false }\n",
    "g.next() // { value: undefined, done: true }\n",
    "```\n",
    "\n",
    "上面代码中调用生成器会返回一个内部指针(即遍历器)g.这是生成器不同于普通函数的另一个地方,即执行它不会返回结果,而返回的是指针对象.调用指针g的`next`方法会移动内部指针(即执行异步任务的第一段),指向第一个遇到的yield语句.上例是执行到`x + 2`为止.\n",
    "\n",
    "换言之`next`方法的作用是分阶段执行生成器.每次调用`next`方法会返回一个对象,表示当前阶段的信息(value属性和done属性).value属性是`yield`语句后面表达式的值,表示当前阶段的值;done属性是一个布尔值,表示生成器是否执行完毕,即是否还有下一个阶段.\n"
   ]
  },
  {
   "cell_type": "markdown",
   "metadata": {},
   "source": [
    "#### 生成器函数的数据交换和错误处理\n",
    "\n",
    "生成器函数可以暂停执行和恢复执行,这是它能封装异步任务的根本原因.除此之外,它还有两个特性,使它可以作为异步编程的完整解决方案:函数体内外的数据交换和错误处理机制\n",
    "\n",
    "next方法返回值的value属性,是生成器函数向外输出数据;next方法还可以接受参数,这是向生成器函数体内输入数据"
   ]
  },
  {
   "cell_type": "code",
   "execution_count": 17,
   "metadata": {},
   "outputs": [
    {
     "name": "stdout",
     "output_type": "stream",
     "text": [
      "{ value: 3, done: false }\n",
      "{ value: 2, done: true }\n"
     ]
    }
   ],
   "source": [
    "function* gen(x){\n",
    "  let y = yield x + 2;\n",
    "  return y;\n",
    "}\n",
    "let g = gen(1);\n",
    "console.log(g.next()) // { value: 3, done: false }\n",
    "console.log(g.next(2)) // { value: 2, done: true }"
   ]
  },
  {
   "cell_type": "markdown",
   "metadata": {},
   "source": [
    "上面代码中,第一个next方法的value属性,返回表达式x + 2的值.第二个next方法带有参数2,这个参数可以传入生成器函数,作为上个阶段异步任务的返回结果,被函数体内的变量y接收.因此这一步的 value 属性,返回的就是2(变量y的值)\n",
    "\n",
    "生成器函数内部还可以部署错误处理代码,捕获函数体外抛出的错误"
   ]
  },
  {
   "cell_type": "code",
   "execution_count": 1,
   "metadata": {},
   "outputs": [
    {
     "name": "stdout",
     "output_type": "stream",
     "text": [
      "出错了\n"
     ]
    },
    {
     "ename": "ReferenceError",
     "evalue": "y is not defined",
     "output_type": "error",
     "traceback": [
      "evalmachine.<anonymous>:9",
      "  return y;",
      "  ^",
      "",
      "ReferenceError: y is not defined",
      "    at gen (evalmachine.<anonymous>:9:3)",
      "    at gen.throw (<anonymous>)",
      "    at evalmachine.<anonymous>:14:8",
      "    at Script.runInThisContext (vm.js:91:20)",
      "    at Object.runInThisContext (vm.js:298:38)",
      "    at run ([eval]:1002:15)",
      "    at onRunRequest ([eval]:829:18)",
      "    at onMessage ([eval]:789:13)",
      "    at process.emit (events.js:182:13)",
      "    at emit (internal/child_process.js:812:12)"
     ]
    }
   ],
   "source": [
    "function* gen(x){\n",
    "  try {\n",
    "    let y = yield x + 2;\n",
    "  } catch (e){\n",
    "    console.log(e);\n",
    "  }\n",
    "  return y;\n",
    "}\n",
    "\n",
    "let g = gen(1);\n",
    "g.next();\n",
    "g.throw('出错了');\n",
    "// 出错了\n"
   ]
  },
  {
   "cell_type": "markdown",
   "metadata": {},
   "source": [
    "上面代码的最后一行,生成器函数体外,使用指针对象的throw方法抛出的错误,可以被函数体内的try ...catch代码块捕获.这意味着出错的代码与处理错误的代码,实现了时间和空间上的分离,这对于异步编程无疑是很重要的"
   ]
  },
  {
   "cell_type": "markdown",
   "metadata": {},
   "source": [
    "### 异步任务的封装\n",
    "\n",
    "下面看看如何使用生成器函数以执行一个真实的异步任务。"
   ]
  },
  {
   "cell_type": "code",
   "execution_count": 10,
   "metadata": {
    "scrolled": true
   },
   "outputs": [],
   "source": [
    "import fetch from 'node-fetch'\n",
    "function* gen(){\n",
    "  let url = 'https://api.github.com/users/github'\n",
    "  let result = yield fetch(url)\n",
    "  console.log(result.bio)\n",
    "}"
   ]
  },
  {
   "cell_type": "markdown",
   "metadata": {},
   "source": [
    "执行"
   ]
  },
  {
   "cell_type": "code",
   "execution_count": 11,
   "metadata": {},
   "outputs": [
    {
     "name": "stdout",
     "output_type": "stream",
     "text": [
      "How people build software.\n"
     ]
    }
   ],
   "source": [
    "let g = gen()\n",
    "let result = g.next()\n",
    "\n",
    "result.value.then(function(data){\n",
    "  return data.json()\n",
    "}).then(function(data){\n",
    "  g.next(data)\n",
    "})"
   ]
  },
  {
   "cell_type": "markdown",
   "metadata": {},
   "source": [
    "上面代码中生成器函数封装了一个异步操作,该操作先读取一个远程接口,然后从JSON格式的数据解析信.就像前面说过的这段代码非常像同步操作,除了加上了yield命令.\n",
    "\n",
    "上面代码中首先执行生成器函数,获取遍历器对象,然后使用`next`方法(第二行),执行异步任务的第一阶段.由于Fetch模块返回的是一个Promise对象,因此要用then方法调用下一个`next`方法.\n",
    "\n",
    "可以看到虽然生成器函数将异步操作表示得很简洁,但是流程管理却不方便(即何时执行第一阶段,何时执行第二阶段)."
   ]
  },
  {
   "cell_type": "markdown",
   "metadata": {},
   "source": [
    "### Thunk函数\n",
    "\n",
    "Thunk函数早在上个世纪60年代就诞生了.那时编程语言刚刚起步,计算机学家还在研究编译器怎么写比较好.一个争论的焦点是\"求值策略\"--函数的参数到底应该何时求值\n",
    "\n",
    "+ 一种意见是\"传值调用\"(call by value),即在进入函数体之前就计算表达式的值,再将这个值传入函数f.C语言就采用这种策略.\n",
    "\n",
    "    ```\n",
    "    f(x + 5)\n",
    "    // 传值调用时，等同于\n",
    "    f(6)\n",
    "    ```\n",
    "    \n",
    "+ 另一种意见是\"传名调用\"(call by name),即直接将表达式x + 5传入函数体,只在用到它的时候求值.Haskell语言采用这种策略.\n",
    "\n",
    "    ```javascript\n",
    "    function f(x){return x*2}\n",
    "    f(x + 5)\n",
    "    // 传名调用时，等同于\n",
    "    (x + 5) * 2\n",
    "    ```\n",
    "\n",
    "传值调用和传名调用哪一种比较好？回答是各有利弊.传值调用比较简单,但是对参数求值的时候实际上还没用到这个参数,有可能造成性能损失.\n",
    "\n",
    "```javascript\n",
    "function f(a, b){\n",
    "  return b;\n",
    "}\n",
    "\n",
    "f(3 * x * x - 2 * x - 1, x)\n",
    "```\n",
    "\n",
    "上面代码中函数f的第一个参数是一个复杂的表达式,但是函数体内根本没用到.对这个参数求值实际上是不必要的.因此有一些计算机学家倾向于\"传名调用\"即只在执行时求值。\n",
    "\n",
    "编译器的\"传名调用\"实现,往往是将参数放到一个临时函数之中,再将这个临时函数传入函数体.这个临时函数就叫做Thunk函数.\n",
    "\n",
    "```js\n",
    "function f(m){\n",
    "  return m * 2;\n",
    "}\n",
    "\n",
    "f(x + 5);\n",
    "\n",
    "// 等同于\n",
    "\n",
    "let thunk = function () {\n",
    "  return x + 5;\n",
    "};\n",
    "\n",
    "function f(thunk){\n",
    "  return thunk() * 2;\n",
    "}\n",
    "```\n",
    "\n",
    "上面代码中函数f的参数x + 5被一个函数替换了.凡是用到原参数的地方对Thunk函数求值即可. 这就是Thunk函数的定义.它是\"传名调用\"的一种实现策略,用来替换某个表达式."
   ]
  },
  {
   "cell_type": "markdown",
   "metadata": {},
   "source": [
    "### JavaScript语言的Thunk函数\n",
    "\n",
    "JavaScript语言是传值调用,它的Thunk函数含义有所不同.在JavaScript语言中,Thunk函数替换的不是表达式,而是多参数函数,将其替换成单参数的版本.且只接受回调函数作为参数。"
   ]
  },
  {
   "cell_type": "markdown",
   "metadata": {},
   "source": [
    "```js\n",
    "// 正常版本的readFile（多参数版本）\n",
    "fs.readFile(fileName, callback)\n",
    "\n",
    "// Thunk版本的readFile（单参数版本）\n",
    "let readFileThunk = Thunk(fileName)\n",
    "readFileThunk(callback)\n",
    "\n",
    "let Thunk = function (fileName){\n",
    "  return function (callback){\n",
    "    return fs.readFile(fileName, callback)\n",
    "  }\n",
    "}\n",
    "```"
   ]
  },
  {
   "cell_type": "markdown",
   "metadata": {},
   "source": [
    "上面代码中fs模块的readFile方法是一个多参数函数,两个参数分别为文件名和回调函数.经过转换器处理它变成了一个单参数函数,只接受回调函数作为参数.这个单参数版本就叫做Thunk函数.\n",
    "\n",
    "任何函数只要参数有回调函数就能写成Thunk函数的形式.下面是一个简单的Thunk函数转换器."
   ]
  },
  {
   "cell_type": "markdown",
   "metadata": {},
   "source": [
    "```js\n",
    "let Thunk = function(fn){\n",
    "  return function (){\n",
    "    let args = Array.prototype.slice.call(arguments)\n",
    "    return function (callback){\n",
    "      args.push(callback)\n",
    "      return fn.apply(this, args)\n",
    "    }\n",
    "  }\n",
    "}\n",
    "```"
   ]
  },
  {
   "cell_type": "markdown",
   "metadata": {},
   "source": [
    "使用上面的转换器，生成fs.readFile的Thunk函数。\n",
    "\n",
    "```js\n",
    "let readFileThunk = Thunk(fs.readFile)\n",
    "readFileThunk(fileA)(callback)\n",
    "```"
   ]
  },
  {
   "cell_type": "markdown",
   "metadata": {},
   "source": [
    "### Thunkify模块\n",
    "\n",
    "生产环境的转换器建议使用Thunkify模块.\n",
    "\n",
    "```bash\n",
    "npm install thunkify\n",
    "```\n",
    "    \n",
    "使用方式如下:"
   ]
  },
  {
   "cell_type": "markdown",
   "metadata": {},
   "source": [
    "\n",
    "\n",
    "```javascript\n",
    "let thunkify = require('thunkify');\n",
    "let fs = require('fs');\n",
    "\n",
    "let read = thunkify(fs.readFile);\n",
    "read('package.json')(function(err, str){\n",
    "  // ...\n",
    "})\n",
    "\n",
    "```\n",
    "Thunkify的源码与上一节那个简单的转换器非常像.\n",
    "\n",
    "```js\n",
    "function thunkify(fn){\n",
    "  return function(){\n",
    "    let args = new Array(arguments.length)\n",
    "    let ctx = this\n",
    "\n",
    "    for(let i = 0; i < args.length; ++i) {\n",
    "      args[i] = arguments[i]\n",
    "    }\n",
    "\n",
    "    return function(done){\n",
    "      let called\n",
    "\n",
    "      args.push(function(){\n",
    "        if (called) return\n",
    "        called = true\n",
    "        done.apply(null, arguments)\n",
    "      })\n",
    "\n",
    "      try {\n",
    "        fn.apply(ctx, args)\n",
    "      } catch (err) {\n",
    "        done(err)\n",
    "      }\n",
    "    }\n",
    "  }\n",
    "}\n",
    "\n",
    "```\n",
    "\n",
    "它的源码主要多了一个检查机制,变量called确保回调函数只运行一次.这样的设计与下文的生成器函数相关.请看下面的例子:\n",
    "\n",
    "```js\n",
    "function f(a, b, callback){\n",
    "  let sum = a + b;\n",
    "  callback(sum);\n",
    "  callback(sum);\n",
    "}\n",
    "\n",
    "let ft = thunkify(f);\n",
    "let print = console.log.bind(console);\n",
    "ft(1, 2)(print);\n",
    "// 3\n",
    "```\n",
    "上面代码中,由于thunkify只允许回调函数执行一次,所以只输出一行结果."
   ]
  },
  {
   "cell_type": "markdown",
   "metadata": {},
   "source": [
    "### 生成器函数的流程管理\n",
    "\n",
    "Thunk函数有什么用?回答是以前确实没什么用,但是ES6有了生成器函数,Thunk函数现在可以用于生成器函数的自动流程管理.\n",
    "\n",
    "以读取文件为例,下面的生成器函数封装了两个异步操作:"
   ]
  },
  {
   "cell_type": "code",
   "execution_count": 1,
   "metadata": {},
   "outputs": [],
   "source": [
    "import fs from \"fs\"\n",
    "import thunkify from'thunkify'\n",
    "    \n",
    "let readFile = thunkify(fs.readFile)\n",
    "\n",
    "let gen = function* (){\n",
    "  let r1 = yield readFile('./README.md',\"utf-8\")\n",
    "  console.log(r1.toString())\n",
    "  let r2 = yield readFile('./code/circle.js',\"utf-8\")\n",
    "  console.log(r2.toString())\n",
    "}"
   ]
  },
  {
   "cell_type": "markdown",
   "metadata": {},
   "source": [
    "上面代码中yield命令用于将程序的执行权移出生成器函数,那么就需要一种方法将执行权再交还给生成器函数.\n",
    "\n",
    "这种方法就是Thunk函数.因为它可以在回调函数里将执行权交还给生成器函数.为了便于理解,我们先看如何手动执行上面这个生成器函数."
   ]
  },
  {
   "cell_type": "code",
   "execution_count": 2,
   "metadata": {},
   "outputs": [
    {
     "name": "stdout",
     "output_type": "stream",
     "text": [
      "# Javascript基础语法\n",
      "\n",
      "ES6已经在稍微现代点的浏览器和node.js中实装,本文所讲的语法内容基本以ES6为基准,包括:\n",
      "\n",
      "+ 基本语法和代码结构\n",
      "+ 变量,值与运算\n",
      "+ 从运算符到函数\n",
      "+ 迭代器和生成器\n",
      "+ 基本容器\n",
      "+ 异步编程\n",
      "+ 面向对象编程\n",
      "+ 模块化编程\n",
      "+ 特殊对象和特殊接口\n",
      "\n",
      "\n",
      "如果想要更加细节的js语法知识,可以看[MDN上的文档](https://developer.mozilla.org/zh-CN/docs/Web/JavaScript/Guide)\n",
      "area = (r) => {\n",
      "    return Math.PI * Math.pow(r, 2)\n",
      "}\n",
      "circumference = (r) => {\n",
      "    return 2 * Math.PI * r\n",
      "}\n",
      "\n",
      "createpoint = function (x, y) {\n",
      "    let point = function (x, y) {\n",
      "        this.x = x\n",
      "        this.y = y\n",
      "        this.add = function (that) {\n",
      "            let x = this.x + that.x\n",
      "            let y = this.y + that.y\n",
      "            return new point(x, y)\n",
      "        }\n",
      "    }\n",
      "    //protopye中定义类方法和重载一些方法\n",
      "    point.prototype.toString = function () {\n",
      "        return '(' + this.x + ', ' + this.y + ')'\n",
      "    }\n",
      "    return new point(x, y)\n",
      "}\n",
      "\n",
      "export {\n",
      "    area,\n",
      "    circumference,\n",
      "    createpoint\n",
      "}\n"
     ]
    }
   ],
   "source": [
    "let g = gen()\n",
    "\n",
    "let r1 = g.next()\n",
    "r1.value(function(err, data){\n",
    "  if (err) throw err\n",
    "  let r2 = g.next(data)\n",
    "  r2.value(function(err, data){\n",
    "    if (err) throw err\n",
    "    g.next(data)\n",
    "  })\n",
    "})"
   ]
  },
  {
   "cell_type": "markdown",
   "metadata": {},
   "source": [
    "上面代码中变量g是生成器函数的内部指针,表示目前执行到哪一步.next方法负责将指针移动到下一步,并返回该步的信息(value属性和done属性).\n",
    "\n",
    "仔细查看上面的代码可以发现生成器函数的执行过程其实是将同一个回调函数反复传入next方法的value属性.这使得我们可以用递归来自动完成这个过程."
   ]
  },
  {
   "cell_type": "markdown",
   "metadata": {},
   "source": [
    "### Thunk函数的自动流程管理\n",
    "\n",
    "Thunk函数真正的威力在于可以自动执行生成器函数.下面就是一个基于Thunk函数的生成器执行器."
   ]
  },
  {
   "cell_type": "code",
   "execution_count": 1,
   "metadata": {},
   "outputs": [
    {
     "name": "stdout",
     "output_type": "stream",
     "text": [
      "# Javascript基础语法\n",
      "\n",
      "ES6已经在稍微现代点的浏览器和node.js中实装,本文所讲的语法内容基本以ES6为基准,包括:\n",
      "\n",
      "+ 基本语法和代码结构\n",
      "+ 变量,值与运算\n",
      "+ 从运算符到函数\n",
      "+ 迭代器和生成器\n",
      "+ 基本容器\n",
      "+ 异步编程\n",
      "+ 面向对象编程\n",
      "+ 模块化编程\n",
      "+ 特殊对象和特殊接口\n",
      "\n",
      "\n",
      "如果想要更加细节的js语法知识,可以看[MDN上的文档](https://developer.mozilla.org/zh-CN/docs/Web/JavaScript/Guide)\n",
      "area = (r) => {\n",
      "    return Math.PI * Math.pow(r, 2)\n",
      "}\n",
      "circumference = (r) => {\n",
      "    return 2 * Math.PI * r\n",
      "}\n",
      "\n",
      "createpoint = function (x, y) {\n",
      "    let point = function (x, y) {\n",
      "        this.x = x\n",
      "        this.y = y\n",
      "        this.add = function (that) {\n",
      "            let x = this.x + that.x\n",
      "            let y = this.y + that.y\n",
      "            return new point(x, y)\n",
      "        }\n",
      "    }\n",
      "    //protopye中定义类方法和重载一些方法\n",
      "    point.prototype.toString = function () {\n",
      "        return '(' + this.x + ', ' + this.y + ')'\n",
      "    }\n",
      "    return new point(x, y)\n",
      "}\n",
      "\n",
      "export {\n",
      "    area,\n",
      "    circumference,\n",
      "    createpoint\n",
      "}\n"
     ]
    }
   ],
   "source": [
    "import * as fs from \"fs\"\n",
    "import thunkify from'thunkify'\n",
    "\n",
    "let readFile = thunkify(fs.readFile)\n",
    "\n",
    "let gen = function* (){\n",
    "  let r1 = yield readFile('./README.md',\"utf-8\")\n",
    "  console.log(r1.toString())\n",
    "  let r2 = yield readFile('./code/circle.js',\"utf-8\")\n",
    "  console.log(r2.toString())\n",
    "}\n",
    "\n",
    "\n",
    "function run(fn) {\n",
    "  let gen = fn()\n",
    "\n",
    "  function next(err, data) {\n",
    "    let result = gen.next(data)\n",
    "    if (result.done) return\n",
    "    result.value(next)\n",
    "  }\n",
    "\n",
    "  next()\n",
    "}\n",
    "\n",
    "run(gen)"
   ]
  },
  {
   "cell_type": "markdown",
   "metadata": {},
   "source": [
    "上面代码的run函数就是一个生成器函数的自动执行器.内部的next函数就是Thunk的回调函数.next函数先将指针移到生成器函数的下一步(gen.next方法),然后判断生成器函数是否结束(result.done 属性).如果没结束就将next函数再传入Thunk函数(result.value属性);否则就直接退出.\n",
    "\n",
    "有了这个执行器,执行生成器方便多了,不管有多少个异步操作直接传入run函数即可.当然前提是每一个异步操作都要是Thunk函数,也就是说跟在yield命令后面的必须是Thunk函数."
   ]
  },
  {
   "cell_type": "code",
   "execution_count": 2,
   "metadata": {},
   "outputs": [],
   "source": [
    "let gen1 = function* (){\n",
    "  let f1 = yield readFile('./README.md')\n",
    "  let f2 = yield readFile('./code/circle.js')\n",
    "}\n",
    "\n",
    "run(gen1)"
   ]
  },
  {
   "cell_type": "markdown",
   "metadata": {},
   "source": [
    "上面代码中函数gen1封装了n个异步的读取文件操作,只要执行run函数这些操作就会自动完成.这样一来异步操作不仅可以写得像同步操作,而且一行代码就可以执行.\n",
    "\n",
    "Thunk函数并不是生成器函数自动执行的唯一方案.因为自动执行的关键是必须有一种机制自动控制生成器函数的流程,接收和交还程序的执行权.回调函数可以做到这一点,Promise对象也可以做到这一点."
   ]
  },
  {
   "cell_type": "markdown",
   "metadata": {},
   "source": [
    "### co模块\n",
    "\n",
    "\n",
    "co模块是著名程序员TJ Holowaychuk于2013年6月发布的一个小工具,用于生成器函数的自动执行.\n",
    "\n",
    "比如有一个生成器函数用于依次读取两个文件\n",
    "\n",
    "```js\n",
    "let gen = function* (){\n",
    "  let f1 = yield readFile('/etc/fstab')\n",
    "  let f2 = yield readFile('/etc/shells')\n",
    "  console.log(f1.toString())\n",
    "  console.log(f2.toString())\n",
    "};\n",
    "```\n",
    "co模块可以让你不用编写生成器函数的执行器.\n",
    "\n",
    "```js\n",
    "let co = require('co')\n",
    "co(gen)\n",
    "```\n",
    "\n",
    "上面代码中生成器函数只要传入co函数就会自动执行.\n",
    "\n",
    "co函数返回一个Promise对象,因此可以用then方法添加回调函数.\n",
    "\n",
    "```js\n",
    "co(gen).then(function (){\n",
    "  console.log('Generator 函数执行完成');\n",
    "})\n",
    "```\n",
    "\n",
    "上面代码中等到生成器函数执行结束就会输出一行提示.\n",
    "\n",
    "为什么co可以自动执行生成器函数？\n",
    "\n",
    "前面说过生成器就是一个异步操作的容器,它的自动执行需要一种机制,当异步操作有了结果时能够自动交回执行权.\n",
    "\n",
    "两种方法可以做到这一点:\n",
    "\n",
    "+ `回调函数`将异步操作包装成Thunk函数,在回调函数里面交回执行权.\n",
    "\n",
    "+ `Promise`将异步操作包装成Promise对象,用then方法交回执行权.\n",
    "\n",
    "\n",
    "co模块其实就是将两种自动执行器(Thunk函数和Promise对象)包装成一个模块.使用co的前提条件是生成器函数的yield命令后面只能是Thunk函数或Promise对象.\n",
    "\n",
    "上面已经介绍了基于Thunk函数的自动执行器.下面来看基于Promise对象的自动执行器.这是理解co模块必须的.\n",
    "\n",
    "还是沿用上面的例子.首先把fs模块的readFile方法包装成一个Promise对象."
   ]
  },
  {
   "cell_type": "code",
   "execution_count": 1,
   "metadata": {
    "scrolled": true
   },
   "outputs": [],
   "source": [
    "let readFile1 = function (fileName){\n",
    "  return new Promise(function (resolve, reject){\n",
    "    fs.readFile(fileName, function(error, data){\n",
    "      if (error) reject(error)\n",
    "      resolve(data)\n",
    "    })\n",
    "  })\n",
    "}\n",
    "\n",
    "let gen2 = function* (){\n",
    "  let f1 = yield readFile1('./README.md')\n",
    "  let f2 = yield readFile1('./code/circle.js')\n",
    "  console.log(f1.toString())\n",
    "  console.log(f2.toString())\n",
    "}"
   ]
  },
  {
   "cell_type": "markdown",
   "metadata": {},
   "source": [
    "然后，手动执行上面的生成器函数。"
   ]
  },
  {
   "cell_type": "code",
   "execution_count": 2,
   "metadata": {},
   "outputs": [
    {
     "name": "stdout",
     "output_type": "stream",
     "text": [
      "# Javascript基础语法\n",
      "\n",
      "ES6已经在稍微现代点的浏览器和node.js中实装,本文所讲的语法内容基本以ES6为基准,包括:\n",
      "\n",
      "+ 基本语法和代码结构\n",
      "+ 变量,值与运算\n",
      "+ 从运算符到函数\n",
      "+ 迭代器和生成器\n",
      "+ 基本容器\n",
      "+ 异步编程\n",
      "+ 面向对象编程\n",
      "+ 模块化编程\n",
      "+ 特殊对象和特殊接口\n",
      "\n",
      "\n",
      "如果想要更加细节的js语法知识,可以看[MDN上的文档](https://developer.mozilla.org/zh-CN/docs/Web/JavaScript/Guide)\n",
      "area = (r) => {\n",
      "    return Math.PI * Math.pow(r, 2)\n",
      "}\n",
      "circumference = (r) => {\n",
      "    return 2 * Math.PI * r\n",
      "}\n",
      "\n",
      "createpoint = function (x, y) {\n",
      "    let point = function (x, y) {\n",
      "        this.x = x\n",
      "        this.y = y\n",
      "        this.add = function (that) {\n",
      "            let x = this.x + that.x\n",
      "            let y = this.y + that.y\n",
      "            return new point(x, y)\n",
      "        }\n",
      "    }\n",
      "    //protopye中定义类方法和重载一些方法\n",
      "    point.prototype.toString = function () {\n",
      "        return '(' + this.x + ', ' + this.y + ')'\n",
      "    }\n",
      "    return new point(x, y)\n",
      "}\n",
      "\n",
      "export {\n",
      "    area,\n",
      "    circumference,\n",
      "    createpoint\n",
      "}\n"
     ]
    }
   ],
   "source": [
    "let g = gen2();\n",
    "\n",
    "g.next().value.then(function(data){\n",
    "  g.next(data).value.then(function(data){\n",
    "    g.next(data)\n",
    "  })\n",
    "})"
   ]
  },
  {
   "cell_type": "markdown",
   "metadata": {},
   "source": [
    "手动执行其实就是用then方法,层层添加回调函数."
   ]
  },
  {
   "cell_type": "code",
   "execution_count": 3,
   "metadata": {},
   "outputs": [],
   "source": [
    "function co(gen) {\n",
    "  let ctx = this\n",
    "  return new Promise(function(resolve, reject) {\n",
    "  })\n",
    "}"
   ]
  },
  {
   "cell_type": "markdown",
   "metadata": {},
   "source": [
    "在返回的Promise对象里面,co先检查参数gen是否为生成器函数.如果是就执行该函数,得到一个内部指针对象;如果不是就返回,并将Promise对象的状态改为resolved."
   ]
  },
  {
   "cell_type": "code",
   "execution_count": 4,
   "metadata": {},
   "outputs": [],
   "source": [
    "function co(gen) {\n",
    "  let ctx = this\n",
    "\n",
    "  return new Promise(function(resolve, reject) {\n",
    "    if (typeof gen === 'function') gen = gen.call(ctx)\n",
    "    if (!gen || typeof gen.next !== 'function') return resolve(gen)\n",
    "  })\n",
    "}"
   ]
  },
  {
   "cell_type": "markdown",
   "metadata": {},
   "source": [
    "接着co将生成器函数的内部指针对象的next方法包装成onFulfilled函数.这主要是为了能够捕捉抛出的错误."
   ]
  },
  {
   "cell_type": "code",
   "execution_count": 5,
   "metadata": {},
   "outputs": [],
   "source": [
    "function co(gen) {\n",
    "  let ctx = this\n",
    "\n",
    "  return new Promise(function(resolve, reject) {\n",
    "    if (typeof gen === 'function') gen = gen.call(ctx)\n",
    "    if (!gen || typeof gen.next !== 'function') return resolve(gen)\n",
    "\n",
    "    onFulfilled()\n",
    "    function onFulfilled(res) {\n",
    "      let ret\n",
    "      try {\n",
    "        ret = gen.next(res)\n",
    "      } catch (e) {\n",
    "        return reject(e)\n",
    "      }\n",
    "      next(ret)\n",
    "    }\n",
    "  })\n",
    "}"
   ]
  },
  {
   "cell_type": "markdown",
   "metadata": {},
   "source": [
    "最后就是关键的next函数,它会反复调用自身."
   ]
  },
  {
   "cell_type": "code",
   "execution_count": 6,
   "metadata": {},
   "outputs": [],
   "source": [
    "function next(ret) {\n",
    "  if (ret.done) return resolve(ret.value)\n",
    "  let value = toPromise.call(ctx, ret.value)\n",
    "  if (value && isPromise(value)) return value.then(onFulfilled, onRejected)\n",
    "  return onRejected(new TypeError('You may only yield a function, promise, generator, array, or object, '\n",
    "    + 'but the following object was passed: \"' + String(ret.value) + '\"'))\n",
    "}"
   ]
  },
  {
   "cell_type": "markdown",
   "metadata": {},
   "source": [
    "上面代码中next函数的内部代码一共只有四行命令.\n",
    "\n",
    "+ 第一行检查当前是否为生成器函数的最后一步,如果是就返回.\n",
    "\n",
    "+ 第二行确保每一步的返回值是 Promise 对象.\n",
    "\n",
    "+ 第三行使用then方法,为返回值加上回调函数,然后通过`onFulfilled`函数再次调用next函数.\n",
    "\n",
    "+ 第四行,在参数不符合要求的情况下(参数非Thunk函数和Promise对象),将Promise对象的状态改为rejected从而终止执行."
   ]
  },
  {
   "cell_type": "markdown",
   "metadata": {},
   "source": [
    "\n",
    "### 处理并发的异步操作\n",
    "\n",
    "co支持并发的异步操作,即允许某些操作同时进行,等到它们全部完成才进行下一步.\n",
    "\n",
    "这时要把并发的操作都放在数组或对象里面,跟在yield语句后面.\n",
    "\n"
   ]
  },
  {
   "cell_type": "markdown",
   "metadata": {},
   "source": [
    "```js\n",
    "// 数组的写法\n",
    "co(function* () {\n",
    "  let res = yield [\n",
    "    Promise.resolve(1),\n",
    "    Promise.resolve(2)\n",
    "  ];\n",
    "  console.log(res);\n",
    "}).catch(onerror);\n",
    "\n",
    "// 对象的写法\n",
    "co(function* () {\n",
    "  let res = yield {\n",
    "    1: Promise.resolve(1),\n",
    "    2: Promise.resolve(2),\n",
    "  };\n",
    "  console.log(res);\n",
    "}).catch(onerror);\n",
    "//下面是另一个例子。\n",
    "\n",
    "co(function* () {\n",
    "  let values = [n1, n2, n3];\n",
    "  yield values.map(somethingAsync);\n",
    "});\n",
    "\n",
    "function* somethingAsync(x) {\n",
    "  // do something async\n",
    "  return y\n",
    "}\n",
    "```"
   ]
  },
  {
   "cell_type": "markdown",
   "metadata": {},
   "source": [
    "上面的代码允许并发三个somethingAsync异步操作,等到它们全部完成,才会进行下一步."
   ]
  },
  {
   "cell_type": "markdown",
   "metadata": {},
   "source": [
    "### 异步协程语法async...await\n",
    "\n",
    "本质来说`async/await`是一种用于处理JS异步操作的语法糖,利用协程帮助我们利用同步语法摆脱回调函数使用Promise,从而编写更加优雅的代码.\n",
    "\n",
    "我们的阅读例子改为异步协程语法实现如下:"
   ]
  },
  {
   "cell_type": "code",
   "execution_count": 9,
   "metadata": {},
   "outputs": [
    {
     "name": "stdout",
     "output_type": "stream",
     "text": [
      "# Javascript基础语法\n",
      "\n",
      "ES\n"
     ]
    }
   ],
   "source": [
    "(async ()=>{\n",
    "    try{\n",
    "        let data = await fs.promises.readFile('./README.md', 'utf-8')\n",
    "        console.log(data.slice(0,20))\n",
    "    }catch(error){\n",
    "        console.error(error)\n",
    "    }\n",
    "})()"
   ]
  },
  {
   "cell_type": "markdown",
   "metadata": {},
   "source": [
    "## 常用的支持promise的第三方异步库\n",
    "\n",
    "+ http客户端<https://github.com/axios/axios>\n",
    "+ http服务端<https://github.com/koajs/koa>\n",
    "+ 文件系统<https://www.npmjs.com/package/fs-extra>\n",
    "+ orm<https://github.com/sequelize/sequelize>\n"
   ]
  }
 ],
 "metadata": {
  "kernelspec": {
   "display_name": "jp-Babel (Node.js)",
   "language": "babel",
   "name": "babel"
  },
  "language_info": {
   "file_extension": ".js",
   "mimetype": "application/javascript",
   "name": "javascript",
   "version": "13.8.0"
  }
 },
 "nbformat": 4,
 "nbformat_minor": 1
}
