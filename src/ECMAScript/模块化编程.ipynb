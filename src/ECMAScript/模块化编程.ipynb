{
 "cells": [
  {
   "cell_type": "markdown",
   "metadata": {},
   "source": [
    "# 模块化编程\n",
    "\n",
    "ES6起js有了正式的模块功能,不过因为各家运行平台的实现一直不能跟上,所以用起来比较尴尬.\n",
    "\n",
    "+ node.js\n",
    "\n",
    "    node要支持模块导入有这么几种方式:\n",
    "    1. 可以使用第三方包[esm](https://www.npmjs.com/package/esm),执行的时候使用命另`node -r esm 你的入口脚本文件`\n",
    "    2. 使用node 13.2以上的版本,在`package.json`中申明字段`\"type\": \"module\"`\n",
    "    3. 使用`@babel/node`,执行的时候使用命令`babel-node`代替`node`\n",
    "\n",
    "+ 浏览器\n",
    "    目前原生支持ES6模块的产品包括:\n",
    "    \n",
    "    + Safari 10.1.+\n",
    "    + Chrome 61.+\n",
    "    + Firefox 54 +\n",
    "    + Edge 16.+\n",
    "    \n",
    "    这些浏览器只要在`script`标签中声明`type=\"module\"`字段就可以\n",
    "\n",
    "    ```html\n",
    "    <script type=\"module\"> \n",
    "        import {addTextToBody} from './utils.js'; \n",
    "        addTextToBody('Modules are pretty cool.'); \n",
    "    </script>\n",
    "    ```\n",
    "    注意默认情况下是`defer`模式加载,我们可以手动给他改成`async`\n",
    "    ```html\n",
    "    <script type=\"module\" async> \n",
    "        import {addTextToBody} from './utils.js'; \n",
    "        addTextToBody('Modules are pretty cool.'); \n",
    "    </script>\n",
    "    ```"
   ]
  },
  {
   "cell_type": "markdown",
   "metadata": {},
   "source": [
    "## import/export语法"
   ]
  },
  {
   "cell_type": "markdown",
   "metadata": {},
   "source": [
    "ES6模块功能主要由两个命令构成:`export`和`import`\n",
    "\n",
    "+ export命令用于规定模块的对外接口\n",
    "+ import命令用于输入其他模块提供的功能\n",
    "\n",
    "ES6规定的模块不是对象而是通过export命令显式指定输出的代码,输入时也采用静态命令的形式.\n",
    "\n",
    "ES6采用的是编译时加载,即可以在编译时就完成模块加载,效率要比CommonJS模块的加载方式高.当然这也导致了没法引用ES6模块本身,因为它不是对象.\n",
    "\n",
    "由于ES6模块是编译时加载,使得静态分析成为可能.有了它就能进一步拓宽JavaScript的语法,比如引入宏(macro)和类型检验(type system)这些只能靠静态分析实现的功能.\n",
    "\n",
    "除了静态加载带来的各种好处ES6模块还有以下好处:\n",
    "\n",
    "+ 不再需要UMD模块格式了,将来服务器和浏览器都会支持ES6模块格式.目前通过各种工具库其实已经做到了这一点.\n",
    "+ 将来浏览器的新API就能用模块格式提供,不再必要做成全局变量或者navigator对象的属性.\n",
    "+ 不再需要对象作为命名空间(比如Math对象),未来这些功能可以通过模块提供.\n",
    "\n",
    "从本质来讲,ES6模块加载的机制其实是--模块输出值的引用."
   ]
  },
  {
   "cell_type": "markdown",
   "metadata": {},
   "source": [
    "## export导出模块\n",
    "\n",
    "一个模块就是一个独立的文件.该文件内部的所有变量外部无法获取.如果你希望外部能够读取模块内部的某个变量就必须使用`export`关键字输出该变量.下面是一个JS文件里面使用`export`命令输出变量.\n",
    "\n",
    "```javascript\n",
    "// profile.js\n",
    "export const firstName = 'Michael'\n",
    "export const lastName = 'Jackson'\n",
    "export const year = 1958\n",
    "```"
   ]
  },
  {
   "cell_type": "markdown",
   "metadata": {},
   "source": [
    "上面代码是`profile.js`文件,保存了用户信息.js将其视为一个模块,里面用`export`命令对外部输出了三个变量.\n",
    "\n",
    "`export`的写法除了像上面这样还有另外一种"
   ]
  },
  {
   "cell_type": "markdown",
   "metadata": {},
   "source": [
    "```javascript\n",
    "// profile.js\n",
    "const firstName = 'Michael'\n",
    "const lastName = 'Jackson'\n",
    "const year = 1958\n",
    "\n",
    "export {firstName, lastName, year}\n",
    "```"
   ]
  },
  {
   "cell_type": "markdown",
   "metadata": {},
   "source": [
    "个人更加喜欢第二种,因为这个写法类似python模块的`__all__`\n",
    "\n",
    "`export`命令除了输出变量还可以输出函数或类(class),简单说对象都可以作为输出\n",
    "\n",
    "```javascript\n",
    "export function multiply (x, y) {\n",
    "  return x * y;\n",
    "};\n",
    "```"
   ]
  },
  {
   "cell_type": "markdown",
   "metadata": {},
   "source": [
    "另外`export`输出的值是动态绑定的,即通过该接口可以取到模块内部实时的值.\n",
    "\n",
    "`export`命令可以出现在模块的任何位置,只要处于模块顶层就可以.如果处于块级作用域内就会报错,import命令也是如此.这是因为处于条件代码块之中,没法做静态优化了,违背了ES6模块的设计初衷."
   ]
  },
  {
   "cell_type": "markdown",
   "metadata": {},
   "source": [
    "### export default\n",
    "\n",
    "使用`import`命令的时候用户需要知道所要加载的变量名或函数名否则无法加载.但是用户肯定希望快速上手,未必愿意阅读文档去了解模块有哪些属性和方法.\n",
    "\n",
    "为了给用户提供方便让他们不用阅读文档就能加载模块,就要用到`export default`命令为模块指定默认输出."
   ]
  },
  {
   "cell_type": "markdown",
   "metadata": {},
   "source": [
    "```javascript\n",
    "export default function () {\n",
    "  console.log('foo');\n",
    "}\n",
    "```"
   ]
  },
  {
   "cell_type": "markdown",
   "metadata": {},
   "source": [
    "其他模块加载该模块时`import`命令可以为该匿名函数指定任意名字.\n",
    "\n",
    "本质上`export default`就是输出一个叫做`default`的变量或方法,然后系统允许你为它取任意名字.有了`export default`命令,输入模块时就非常直观了,以输入jQuery模块为例:\n",
    "\n",
    "```javascript\n",
    "import $ from 'jquery'\n",
    "```"
   ]
  },
  {
   "cell_type": "markdown",
   "metadata": {},
   "source": [
    "## import 加载模块"
   ]
  },
  {
   "cell_type": "markdown",
   "metadata": {},
   "source": [
    "使用`export`命令定义了模块的对外接口以后其他JS文件就可以通过`import`命令加载这个模块.\n",
    "\n",
    "```javascript\n",
    "import {firstName, lastName, year} from './profile';\n",
    "\n",
    "```"
   ]
  },
  {
   "cell_type": "markdown",
   "metadata": {},
   "source": [
    "### 模块的整体加载\n",
    "\n",
    "除了指定加载某个输出值,还可以使用整体加载即用星号`*`指定一个对象,所有输出值都加载在这个对象上面.这个语法有点类似python中的`import as`语法\n",
    "\n",
    "下面是一个`circle.js`文件,它输出两个方法area和circumference\n",
    "\n",
    "```javascript\n",
    "// circle.js\n",
    "\n",
    "export function area(radius) {\n",
    "  return Math.PI * radius * radius;\n",
    "}\n",
    "\n",
    "export function circumference(radius) {\n",
    "  return 2 * Math.PI * radius;\n",
    "}\n",
    "```\n",
    "\n",
    "现在加载这个模块\n",
    "\n",
    "+ 逐一加载\n",
    "\n",
    "```javascript\n",
    "import { area, circumference } from './circle';\n",
    "```\n",
    "\n",
    "+ 整体加载\n",
    "\n",
    "```javascript\n",
    "import * as circle from './circle';\n",
    "```\n",
    "\n"
   ]
  },
  {
   "cell_type": "markdown",
   "metadata": {},
   "source": [
    "### as关键字\n",
    "\n",
    "和python一样,js允许在模块输入或者输出时使用`as`关键字修改名字"
   ]
  },
  {
   "cell_type": "markdown",
   "metadata": {},
   "source": [
    "输入:\n",
    "\n",
    "```javascript\n",
    "import * as circle from './circle'\n",
    "```\n",
    "\n",
    "输出:\n",
    "\n",
    "```javascript\n",
    "function add(x, y) {\n",
    "  return x * y;\n",
    "};\n",
    "export {add as plus};\n",
    "```"
   ]
  },
  {
   "cell_type": "markdown",
   "metadata": {},
   "source": [
    "as 也可以用于为对象取别名"
   ]
  },
  {
   "cell_type": "markdown",
   "metadata": {},
   "source": [
    "```javascript\n",
    "import {area, circumference as cf} from './circle'\n",
    "```"
   ]
  },
  {
   "cell_type": "markdown",
   "metadata": {},
   "source": [
    "###  处理循环引用\n",
    "\n",
    "循环引用意味着强耦合.python中循环引用模块是不允许的,除非在local作用域中引用.而事实上一些复杂的问题循环引用不可避免,否则会多出大量的结构代码.\n",
    "\n",
    "ES6模块是动态引用(lazy),遇到模块加载命令import时不会去执行模块只是生成一个指向被加载模块的引用,需要开发者自己保证真正取值的时候能够取到值.因此,用好这个特性是可以循环引用的,但是当然,最好还是别循环引用\n"
   ]
  }
 ],
 "metadata": {
  "kernelspec": {
   "display_name": "jp-Babel (Node.js)",
   "language": "babel",
   "name": "babel"
  },
  "language_info": {
   "file_extension": ".js",
   "mimetype": "application/javascript",
   "name": "javascript",
   "version": "13.8.0"
  }
 },
 "nbformat": 4,
 "nbformat_minor": 1
}
