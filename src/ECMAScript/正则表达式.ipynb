{
 "cells": [
  {
   "cell_type": "markdown",
   "metadata": {},
   "source": [
    "# 正则表达式\n",
    "\n",
    "\n",
    "正则表达式,python中也有这个概念,只是它是字符串的一种,而且要用标准库re处理而已\n",
    "\n",
    "### 创建 RegExp对象的语法：\n",
    "\n",
    "```javascript\n",
    "let re = new RegExp(pattern, attributes)\n",
    "```\n",
    "其中`pattern`是匹配的re字符串,`attributes`是这个re对象的设置,可选属性有3个\n",
    "\n",
    "+ `g`全局匹配\n",
    "+ `i`区分大小写的匹配\n",
    "+ `m`多行匹配\n",
    "\n",
    "或者:\n",
    "\n",
    "```javascript\n",
    "let re = / pattern /\n",
    "```\n",
    "\n",
    "这两种都可以,第二种写起来简单些"
   ]
  },
  {
   "cell_type": "markdown",
   "metadata": {},
   "source": [
    "## RegExp对象方法\n",
    "\n",
    "+ `compile()`编译正则表达式\n",
    "+ `exec()`检索字符串中指定的值.返回找到的值并确定其位置\n",
    "+ `test()`检索字符串中指定的值,返回`true`或`false`"
   ]
  },
  {
   "cell_type": "markdown",
   "metadata": {},
   "source": [
    "## 字符串的正则方法\n",
    "\n",
    "+ `match()`找到一个或多个正则表达式的匹配\n",
    "+ `replace()`替换与正则表达式匹配的子串\n",
    "+ `search()`检索与正则表达式相匹配的值\n",
    "+ `split()`把字符串分割为字符串数组"
   ]
  },
  {
   "cell_type": "markdown",
   "metadata": {},
   "source": [
    "## 正则表达式语法\n",
    "\n",
    "正则表达式是元字符,量词,以及`|`,方括号,圆括号的组合,用于描述一个字符串的特点.\n",
    "\n",
    "### `|`\n",
    "\n",
    "表达式|描述\n",
    "---|---\n",
    "`x|y`|匹配x或y.例如`z|food`能匹配`z`或`food`.`(z|f)ood`则匹配`zood`或`food`\n",
    "\n",
    "### 圆括号\n",
    "\n",
    "是为了提取匹配的字符串.表达式中有几个()就有几个相应的匹配字符串.主要应用在限制多选结构的范围/分组/捕获文本/环视/特殊模式处理\n",
    "\n",
    "+ `(pattern)`\n",
    "\n",
    "    匹配pattern并获取这一匹配.所获取的匹配可以从产生的Matches集合得到.\n",
    "    \n",
    "+ `(?:pattern)`\n",
    "\n",
    "    匹配pattern但不获取匹配结果,也就是说这是一个非获取匹配,不进行存储供以后使用.这在使用或字符`(|)`来组合一个模式的各个部分是很有用.\n",
    "    例如`industr(?:y|ies)`就是一个比`industry|industries`更简略的表达式.\n",
    "    \n",
    "+ `(?=pattern)`\n",
    "\n",
    "    正向肯定预查,在任何匹配pattern的字符串开始处匹配查找字符串.这是一个非获取匹配,也就是说该匹配不需要获取供以后使用.\n",
    "    例如:`Windows(?=95|98|NT|2000)`能匹配`Windows2000`中的`Windows`,但不能匹配`Windows3.1`中的`Windows`.\n",
    "    预查不消耗字符,也就是说在一个匹配发生后,在最后一次匹配之后立即开始下一次匹配的搜索,而不是从包含预查的字符之后开始.\n",
    "\n",
    "+ `(?!pattern)`\n",
    "    \n",
    "    正向否定预查,在任何不匹配pattern的字符串开始处匹配查找字符串.这是一个非获取匹配,也就是说该匹配不需要获取供以后使用.\n",
    "    例如`Windows(?!95|98|NT|2000)`能匹配`Windows3.1`中的`Windows`,但不能匹配`Windows2000`中的`Windows`.\n",
    "    预查不消耗字符,也就是说在一个匹配发生后,在最后一次匹配之后立即开始下一次匹配的搜索,而不是从包含预查的字符之后开始\n",
    "    \n",
    "+ `(?<=pattern)`\n",
    "\n",
    "    [ES9]反向肯定预查,与正向肯定预查类拟,只是方向相反.\n",
    "    例如`(?<=95|98|NT|2000)Windows`能匹配`2000Windows`中的`Windows`,但不能匹配`3.1Windows`中的`Windows`\n",
    "    \n",
    "+ `(?<!pattern)`\n",
    "\n",
    "    [ES9]反向否定预查,与正向否定预查类拟,只是方向相反.\n",
    "    例如`(?<!95|98|NT|2000)Windows`能匹配`3.1Windows`中的`Windows`,但不能匹配`2000Windows`的`Windows`\n",
    "\n",
    "### 方括号\n",
    "\n",
    "方括号用于查找某个范围内的字符:\n",
    "\n",
    "表达式|描述\n",
    "---|---\n",
    "`[abc]`|查找方括号之间的任何字符\n",
    "`[^abc]`|查找任何不在方括号之间的字符\n",
    "`[0-9]`|查找任何从 0 至 9 的数字\n",
    "`[a-z]`|查找任何从小写 a 到小写 z 的字符\n",
    "`[A-Z]`|查找任何从大写 A 到大写 Z 的字符\n",
    "`[A-z]`|查找任何从大写 A 到小写 z 的字符\n",
    "`[adgk]`|查找给定集合内的任何字符\n",
    "`[^adgk]`|查找给定集合外的任何字符\n",
    "\n",
    "\n",
    "### 元字符\n",
    "\n",
    "元字符(Metacharacter)是拥有特殊含义的字符,他们用于描述一个字符集合:\n",
    "\n",
    "元字符|描述\n",
    "---|---\n",
    "`.`|查找单个字符,除了换行和行结束符\n",
    "`\\w`|查找单词字符\n",
    "`\\W`|查找非单词字符\n",
    "`\\d`|查找数字\n",
    "`\\D`|查找非数字字符\n",
    "`\\s`|查找空白字符\n",
    "`\\S`|查找非空白字符\n",
    "`\\b`|匹配单词边界\n",
    "`\\B`|匹配非单词边界\n",
    "`\\0`|查找 NUL 字符\n",
    "`\\n`|查找换行符\n",
    "`\\f`|查找换页符\n",
    "`\\r`|查找回车符\n",
    "`\\t`|查找制表符\n",
    "`\\v`|查找垂直制表符\n",
    "`\\xxx`|查找以八进制数 xxx 规定的字符\n",
    "`\\xdd`|查找以十六进制数 dd 规定的字符\n",
    "`\\uxxxx`|查找以十六进制数 xxxx 规定的 Unicode 字符\n",
    "\n",
    "\n",
    "\n",
    "### 量词\n",
    "\n",
    "量词用于限制要求匹配字符或字符集合的次数\n",
    "\n",
    "量词|描述\n",
    "---|---\n",
    "`n+`|匹配任何包含至少一个 n 的字符串\n",
    "`n*`|匹配任何包含零个或多个 n 的字符串\n",
    "`n?`|匹配任何包含零个或一个 n 的字符串\n",
    "`n{X}`|匹配包含 X 个 n 的序列的字符串\n",
    "`n{X,Y}`|匹配包含 X 至 Y 个 n 的序列的字符串\n",
    "`n{X,}`|匹配包含至少 X 个 n 的序列的字符串\n",
    "`n$`|匹配任何结尾为 n 的字符串\n",
    "`^n`|匹配任何开头为 n 的字符串\n",
    "`?=n`|匹配任何其后紧接指定字符串 n 的字符串\n",
    "`?!n`|匹配任何其后没有紧接指定字符串 n 的字符串"
   ]
  },
  {
   "cell_type": "markdown",
   "metadata": {},
   "source": [
    "### 常用正则表达式\n",
    "\n",
    "用途|正则表达式\n",
    "---|---\n",
    "用户名|`/^[a-z0-9_-]{3,16}$/`\n",
    "密码|`/^[a-z0-9_-]{6,18}$/`\n",
    "十六进制值|`/^#?([a-f0-9]{6}|[a-f0-9]{3})$/`\n",
    "电子邮箱|`/^([a-z0-9_\\.-]+)@([\\da-z\\.-]+)\\.([a-z\\.]{2,6})$/\n",
    "/^[a-z\\d]+(\\.[a-z\\d]+)*@([\\da-z](-[\\da-z])?)+(\\.{1,2}[a-z]+)+$/`\n",
    "URL|`/^(https?:\\/\\/)?([\\da-z\\.-]+)\\.([a-z\\.]{2,6})([\\/\\w \\.-]*)*\\/?$/`\n",
    "IP 地址|`/((2[0-4]\\d|25[0-5]|[01]?\\d\\d?)\\.){3}(2[0-4]\\d|25[0-5]|[01]?\\d\\d?)/\n",
    "/^(?:(?:25[0-5]|2[0-4][0-9]|[01]?[0-9][0-9]?)\\.){3}(?:25[0-5]|2[0-4][0-9]|[01]?[0-9][0-9]?)$/`\n",
    "HTML标签|`/^<([a-z]+)([^<]+)*(?:>(.*)<\\/\\1>|\\s+\\/>)$/`\n",
    "删除代码|`\\\\注释\t(?<!http:|\\S)//.*$`\n",
    "Unicode编码中的汉字范围|`/^[\\u2E80-\\u9FFF]+$/`"
   ]
  },
  {
   "cell_type": "markdown",
   "metadata": {},
   "source": [
    "### 命名的捕获组[ES9]\n",
    "\n",
    "\n",
    "es9支持在正则表达式中使用尖括号为小括号中的匹配命名,这样可以使用命名来直接获取要捕获的组.\n",
    "\n",
    "命名捕获组有以下优点:\n",
    "\n",
    "+ 找到捕获组的\"ID\"更容易\n",
    "+ 匹配代码变为自描述性的,因为捕获组的ID描述了正在捕获的内容.\n",
    "+ 如果更改捕获组的顺序,则无需更改匹配代码.\n",
    "+ 捕获组的名称也使正则表达式更容易理解,因为您可以直接看到每个组的用途.\n",
    "\n",
    "下面这个例子我们拍匹配日期.没有命名的捕获组的情况下这样写"
   ]
  },
  {
   "cell_type": "code",
   "execution_count": 1,
   "metadata": {},
   "outputs": [],
   "source": [
    "//正则表达式命名捕获组\n",
    "const RE_DATE = /([0-9]{4})-([0-9]{2})-([0-9]{2})/;\n",
    "\n",
    "const matchObj = RE_DATE.exec('1999-12-31');\n",
    "const year = matchObj[1]; // 1999\n",
    "const month = matchObj[2]; // 12\n",
    "const day = matchObj[3]; // 31"
   ]
  },
  {
   "cell_type": "code",
   "execution_count": 2,
   "metadata": {},
   "outputs": [
    {
     "name": "stdout",
     "output_type": "stream",
     "text": [
      "[\n",
      "  '1999-12-31',\n",
      "  '1999',\n",
      "  '12',\n",
      "  '31',\n",
      "  index: 0,\n",
      "  input: '1999-12-31',\n",
      "  groups: undefined\n",
      "]\n"
     ]
    }
   ],
   "source": [
    "console.log(matchObj)"
   ]
  },
  {
   "cell_type": "markdown",
   "metadata": {},
   "source": [
    "可以看到我们要分别获取年月日信息需要按顺序从结果列表中取.这相当不直观.下面是使用命名捕获组的方法:"
   ]
  },
  {
   "cell_type": "code",
   "execution_count": 1,
   "metadata": {},
   "outputs": [
    {
     "name": "stdout",
     "output_type": "stream",
     "text": [
      "[\n",
      "  '1999-12-31',\n",
      "  '1999',\n",
      "  '12',\n",
      "  '31',\n",
      "  index: 0,\n",
      "  input: '1999-12-31',\n",
      "  groups: [Object: null prototype] { year: '1999', month: '12', day: '31' }\n",
      "]\n"
     ]
    }
   ],
   "source": [
    "const RE_DATE = /(?<year>[0-9]{4})-(?<month>[0-9]{2})-(?<day>[0-9]{2})/\n",
    "\n",
    "const matchObj = RE_DATE.exec('1999-12-31')\n",
    "const year = matchObj.groups.year; // 1999\n",
    "const month = matchObj.groups.month; // 12\n",
    "const day = matchObj.groups.day; // 31\n",
    "console.log(matchObj)"
   ]
  },
  {
   "cell_type": "markdown",
   "metadata": {},
   "source": [
    "使用解构语法更为简便"
   ]
  },
  {
   "cell_type": "code",
   "execution_count": 1,
   "metadata": {},
   "outputs": [
    {
     "name": "stdout",
     "output_type": "stream",
     "text": [
      "1999\n",
      "31\n"
     ]
    }
   ],
   "source": [
    "const RE_DATE = /(?<year>[0-9]{4})-(?<month>[0-9]{2})-(?<day>[0-9]{2})/\n",
    "const {groups: { year,month,day }} = RE_DATE.exec('1999-12-31');\n",
    "console.log(year); // 1999\n",
    "console.log(day); // 31"
   ]
  },
  {
   "cell_type": "markdown",
   "metadata": {},
   "source": [
    "## unicode支持\n",
    "\n",
    "从ES6开始,js的re添加了对unicode的额外支持.使用后缀的修饰符`u`表示\"Unicode模式\",来正确处理大于`\\uFFFF`的Unicode字符.也就是说会正确处理四个字节的UTF-16编码.\n"
   ]
  },
  {
   "cell_type": "code",
   "execution_count": 2,
   "metadata": {},
   "outputs": [
    {
     "data": {
      "text/plain": [
       "true"
      ]
     },
     "execution_count": 2,
     "metadata": {},
     "output_type": "execute_result"
    }
   ],
   "source": [
    "/^\\uD83D/.test('\\uD83D\\uDC2A')"
   ]
  },
  {
   "cell_type": "markdown",
   "metadata": {},
   "source": [
    "### Unicode\n",
    "\n",
    "Unicode有这么几个属性(prop):\n",
    "\n",
    "+ `Name`:唯一名称,由大写字母,数字,连字符和空格组成.例如:\n",
    "\n",
    "    A： Name = LATIN CAPITAL LETTER A\n",
    "    \n",
    "    \n",
    "    😀： Name = GRINNING FACE\n",
    "\n",
    "+ `General_Category`:对字符进行分类.例如:\n",
    "\n",
    "    `X`: General_Category = Lowercase_Letter\n",
    "    \n",
    "    \n",
    "    `$`: General_Category = Currency_Symbol\n",
    "\n",
    "+ `White_Space`:用于标记不可见的间距字符,例如空格,制表符和换行符.例如:\n",
    "\n",
    "    `\\T`: White_Space = True\n",
    "    \n",
    "    \n",
    "    `π`: White_Space = False\n",
    "+ `Age`: 引入字符的Unicode标准版本.例如:欧元符号`€`在Unicode标准的2.1版中添加.\n",
    "\n",
    "    `€`: Age = 2.1\n",
    "\n",
    "+ `Script`:是一个或多个书写系统使用的字符集合.\n",
    "\n",
    "    有些脚本支持多种写入系统.例如拉丁文脚本支持英语,法语,德语,拉丁语等书写系统.\n",
    "    某些语言可以用多个脚本支持的多个备用写入系统编写.例如土耳其语在20世纪初转换为拉丁文字之前使用了阿拉伯文字.\n",
    "    例子：\n",
    "    `α`： Script = Greek\n",
    "    \n",
    "    \n",
    "    `Д`： Script = Cyrillic\n"
   ]
  },
  {
   "cell_type": "markdown",
   "metadata": {},
   "source": [
    "### unicode的特殊支持\n",
    "\n",
    "+ 点字符\n",
    "\n",
    "    点(.)字符在正则表达式中,含义是除了换行符以外的任意单个字符.对于码点大于0xFFFF的Unicode字符,点字符不能识别,必须加上u修饰符.\n",
    "    \n",
    "+ ES6新增了使用大括号表示Unicode字符\n",
    "\n",
    "    这种表示法在正则表达式中必须加上u修饰符,才能识别.\n",
    "    \n",
    "+ 量词\n",
    "\n",
    "    使用u修饰符后,所有量词都会正确识别大于码点大于0xFFFF的Unicode字符."
   ]
  },
  {
   "cell_type": "code",
   "execution_count": 3,
   "metadata": {},
   "outputs": [
    {
     "data": {
      "text/plain": [
       "true"
      ]
     },
     "execution_count": 3,
     "metadata": {},
     "output_type": "execute_result"
    }
   ],
   "source": [
    "/𠮷{2}/u.test('𠮷𠮷')"
   ]
  },
  {
   "cell_type": "markdown",
   "metadata": {},
   "source": [
    "+ 预定义模式\n",
    "\n",
    "u修饰符也影响到预定义模式,能否正确识别码点大于0xFFFF的Unicode字符."
   ]
  },
  {
   "cell_type": "code",
   "execution_count": 5,
   "metadata": {},
   "outputs": [
    {
     "data": {
      "text/plain": [
       "true"
      ]
     },
     "execution_count": 5,
     "metadata": {},
     "output_type": "execute_result"
    }
   ],
   "source": [
    "/^\\S$/u.test('𠮷')"
   ]
  },
  {
   "cell_type": "markdown",
   "metadata": {},
   "source": [
    "+ i修饰符\n",
    "\n",
    "    有些Unicode字符的编码不同,但是字型很相近,比如`\\u004B`与`\\u212A`都是大写的K"
   ]
  },
  {
   "cell_type": "code",
   "execution_count": 7,
   "metadata": {},
   "outputs": [
    {
     "data": {
      "text/plain": [
       "true"
      ]
     },
     "execution_count": 7,
     "metadata": {},
     "output_type": "execute_result"
    }
   ],
   "source": [
    "/[a-z]/iu.test('\\u212A')"
   ]
  },
  {
   "cell_type": "markdown",
   "metadata": {},
   "source": [
    "+ 正则表达式 Unicode 转义[ES9]\n",
    "\n",
    "ES9开始允许使用`\\p{}`通过提及大括号内的Unicode字符属性来匹配字符.比如要匹配汉字,可以使用`Script=Han`"
   ]
  },
  {
   "cell_type": "code",
   "execution_count": 8,
   "metadata": {},
   "outputs": [
    {
     "data": {
      "text/plain": [
       "true"
      ]
     },
     "execution_count": 8,
     "metadata": {},
     "output_type": "execute_result"
    }
   ],
   "source": [
    "/\\p{Script=Han}/u.test(\"中国\")"
   ]
  },
  {
   "cell_type": "markdown",
   "metadata": {},
   "source": [
    "正则表达式的Unicode属性转义有如下几种:\n",
    "\n",
    "+ `\\p{prop=value}` 匹配其属性prop具有值的所有字符value \n",
    "\n",
    "+ `\\P{prop=value}` 匹配所有没有属性prop值的字符value \n",
    "\n",
    "+ `\\p{bin_prop}` 匹配二进制属性bin_prop为True的所有字符\n",
    "\n",
    "+ `\\P{bin_prop}` 匹配二进制属性bin_prop为False的所有字符\n",
    "\n"
   ]
  }
 ],
 "metadata": {
  "kernelspec": {
   "display_name": "jp-Babel (Node.js)",
   "language": "babel",
   "name": "babel"
  },
  "language_info": {
   "file_extension": ".js",
   "mimetype": "application/javascript",
   "name": "javascript",
   "version": "13.8.0"
  }
 },
 "nbformat": 4,
 "nbformat_minor": 2
}
