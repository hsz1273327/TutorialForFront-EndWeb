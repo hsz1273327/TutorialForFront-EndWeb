{
 "cells": [
  {
   "cell_type": "markdown",
   "metadata": {},
   "source": [
    "# 迭代器与生成器\n",
    "\n",
    "迭代器和生成器是es6定义的两个最关键的接口,这两个概念在python中也有.\n"
   ]
  },
  {
   "cell_type": "markdown",
   "metadata": {},
   "source": [
    "## 迭代器(Iterator)\n",
    "\n",
    "这个是python中也有的概念,迭代器可以处理容器的迭代行为,支持的包括:\n",
    "\n",
    "+ Array\n",
    "+ Map\n",
    "+ Set\n",
    "+ String,\n",
    "\n",
    "ES6创造了一种新的遍历命令`for...of`循环，Iterator接口主要供for...of消费.\n",
    "\n",
    "Iterator的遍历过程是这样的。\n",
    "\n",
    "1. 创建一个指针对象，指向当前数据结构的起始位置.也就是说遍历器对象本质上就是一个指针对象.\n",
    "2. 第一次调用指针对象的next方法,可以将指针指向数据结构的第一个成员\n",
    "3. 第二次调用指针对象的next方法,指针就指向数据结构的第二个成员\n",
    "4. 不断调用指针对象的next方法,直到它指向数据结构的结束位置\n",
    "\n",
    "每一次调用`next`方法都会返回数据结构的当前成员的信息.具体来说，就是返回一个包含value和done两个属性的对象.其中,value属性是当前成员的值,done属性是一个布尔值,表示遍历是否结束.\n",
    "\n",
    "上面这些概念和python中是一样的."
   ]
  },
  {
   "cell_type": "code",
   "execution_count": 1,
   "metadata": {},
   "outputs": [],
   "source": [
    "let a = [1,2,3,4]\n",
    "let iter = a[Symbol.iterator]()"
   ]
  },
  {
   "cell_type": "code",
   "execution_count": 2,
   "metadata": {},
   "outputs": [
    {
     "data": {
      "text/plain": [
       "{ value: 1, done: false }"
      ]
     },
     "execution_count": 2,
     "metadata": {},
     "output_type": "execute_result"
    }
   ],
   "source": [
    "iter.next()"
   ]
  },
  {
   "cell_type": "markdown",
   "metadata": {},
   "source": [
    "ES6规定，默认的Iterator接口部署在数据结构的Symbol.iterator属性,或者说一个数据结构只要具有Symbol.iterator属性就可以认为是\"可遍历的\"(iterable).调用Symbol.iterator方法就会得到当前数据结构默认的遍历器生成函数.Symbol.iterator本身是一个表达式,返回Symbol对象的iterator属性,这是一个预定义好的,类型为Symbol的特殊值.所以要放在方括号内."
   ]
  },
  {
   "cell_type": "markdown",
   "metadata": {},
   "source": [
    "### 自定义对象的Iterator\n",
    "\n",
    "一个对象如果要有可被for...of循环调用的Iterator接口，就必须在Symbol.iterator的属性上部署遍历器生成方法\n",
    "\n",
    "\n",
    "Symbol.iterator属性对应一个函数，执行后返回当前对象的遍历器对象。\n",
    "\n",
    "\n",
    "> 例:为一个对象部署Iterator接口"
   ]
  },
  {
   "cell_type": "code",
   "execution_count": 3,
   "metadata": {},
   "outputs": [
    {
     "name": "stdout",
     "output_type": "stream",
     "text": [
      "a\n",
      "b\n",
      "c\n"
     ]
    }
   ],
   "source": [
    "let iterable = {\n",
    "  0: 'a',\n",
    "  1: 'b',\n",
    "  2: 'c',\n",
    "  length: 3,\n",
    "  [Symbol.iterator]: Array.prototype[Symbol.iterator]\n",
    "};\n",
    "for (let item of iterable) {\n",
    "  console.log(item) // 'a', 'b', 'c'\n",
    "}"
   ]
  },
  {
   "cell_type": "markdown",
   "metadata": {},
   "source": [
    "普通对象部署数组的Symbol.iterator方法，并无效果。必须有以从0开始的数字下标作为字段,并且有length字段作为长度的才可以用"
   ]
  },
  {
   "cell_type": "markdown",
   "metadata": {},
   "source": [
    "### 自定义一类迭代器\n",
    "\n",
    "更常见的方法是像python中一样创建一个类来生成某一类行为的迭代器.比如python中的`range`\n",
    "\n",
    "> 例: 用iterator实现的range函数"
   ]
  },
  {
   "cell_type": "code",
   "execution_count": 4,
   "metadata": {},
   "outputs": [],
   "source": [
    "class RangeIterator {\n",
    "  constructor(start, stop,step=1) {\n",
    "    this.value = start\n",
    "    this.stop = stop\n",
    "    this.step = step\n",
    "  }\n",
    "\n",
    "  [Symbol.iterator]() { return this; }\n",
    "\n",
    "  next() {\n",
    "    let value = this.value\n",
    "    if (value < this.stop) {\n",
    "      this.value = this.value + this.step;\n",
    "      return {done: false, value: value}\n",
    "    } else {\n",
    "      return {done: true, value: undefined}\n",
    "    }\n",
    "  }\n",
    "}"
   ]
  },
  {
   "cell_type": "code",
   "execution_count": 5,
   "metadata": {},
   "outputs": [
    {
     "name": "stdout",
     "output_type": "stream",
     "text": [
      "0\n",
      "1\n",
      "2\n"
     ]
    }
   ],
   "source": [
    "function range(start, stop) {\n",
    "  return new RangeIterator(start, stop)\n",
    "}\n",
    "\n",
    "for (var value of range(0, 3)) {\n",
    "  console.log(value);\n",
    "}"
   ]
  },
  {
   "cell_type": "markdown",
   "metadata": {},
   "source": [
    "### 调用Iterator的场合\n",
    "\n",
    "+ 解构赋值\n",
    "\n",
    "所谓结构赋值就是把一个容器中的内容单独的赋值到对应的变量中\n",
    "\n",
    "对数组和Set结构进行解构赋值时，会默认调用Symbol.iterator方法。"
   ]
  },
  {
   "cell_type": "code",
   "execution_count": 6,
   "metadata": {},
   "outputs": [
    {
     "name": "stdout",
     "output_type": "stream",
     "text": [
      "a\n",
      "b\n",
      "a\n",
      "[ 'b', 'c' ]\n"
     ]
    }
   ],
   "source": [
    "let set = new Set().add('a').add('b').add('c')\n",
    "\n",
    "let [x,y] = set\n",
    "console.log(x)\n",
    "console.log(y)\n",
    "let [first, ...rest] = set\n",
    "console.log(first)\n",
    "console.log(rest)"
   ]
  },
  {
   "cell_type": "markdown",
   "metadata": {},
   "source": [
    "+ 扩展运算符\n",
    "\n",
    "扩展运算符我们在前面见过了,也就是 `...`符号,通过这种方式可以将iterator对象方便的转换成数组,之前的map和set转化为array其实也是用了这一特性"
   ]
  },
  {
   "cell_type": "code",
   "execution_count": 7,
   "metadata": {},
   "outputs": [
    {
     "data": {
      "text/plain": [
       "'use strict'"
      ]
     },
     "execution_count": 7,
     "metadata": {},
     "output_type": "execute_result"
    }
   ],
   "source": [
    "let arr = ['b', 'c']"
   ]
  },
  {
   "cell_type": "code",
   "execution_count": 8,
   "metadata": {},
   "outputs": [
    {
     "data": {
      "text/plain": [
       "[ 'a', 'b', 'c', 'd' ]"
      ]
     },
     "execution_count": 8,
     "metadata": {},
     "output_type": "execute_result"
    }
   ],
   "source": [
    "['a', ...arr, 'd']"
   ]
  },
  {
   "cell_type": "markdown",
   "metadata": {},
   "source": [
    "### 迭代器器与其他遍历手段的比较\n",
    "\n",
    "与其他遍历语法的比较\n",
    "以数组为例，JavaScript提供多种遍历语法。最原始的写法就是for循环。\n",
    "\n",
    "```\n",
    "for (var index = 0; index < myArray.length; index++) {\n",
    "  console.log(myArray[index])\n",
    "}\n",
    "```\n",
    "\n",
    "这种写法比较麻烦，因此数组提供内置的forEach方法。\n",
    "\n",
    "```\n",
    "myArray.forEach(function (value) {\n",
    "  console.log(value)\n",
    "})\n",
    "```\n",
    "\n",
    "这种写法的问题在于，无法中途跳出forEach循环，break命令或return命令都不能奏效。\n",
    "\n",
    "for...in循环可以遍历数组的键名。\n",
    "\n",
    "```\n",
    "for (var index in myArray) {\n",
    "  console.log(myArray[index])\n",
    "}\n",
    "\n",
    "```\n",
    "\n",
    "for...in循环有几个缺点。\n",
    "\n",
    "数组的键名是数字，但是for...in循环是以字符串作为键名“0”、“1”、“2”等等。\n",
    "for...in循环不仅遍历数字键名，还会遍历手动添加的其他键，甚至包括原型链上的键。\n",
    "某些情况下，for...in循环会以任意顺序遍历键名。\n",
    "总之，for...in循环主要是为遍历对象而设计的，不适用于遍历数组。\n",
    "\n",
    "for...of循环相比上面几种做法，有一些显著的优点。\n",
    "\n",
    "```\n",
    "for (let value of myArray) {\n",
    "  console.log(value)\n",
    "}\n",
    "\n",
    "```\n",
    "\n",
    "有着同for...in一样的简洁语法，但是没有for...in那些缺点。\n",
    "不同用于forEach方法，它可以与break、continue和return配合使用。\n",
    "提供了遍历所有数据结构的统一操作接口。\n",
    "下面是一个使用break语句，跳出for...of循环的例子。\n",
    "\n",
    "```\n",
    "for (var n of fibonacci) {\n",
    "  if (n > 1000)\n",
    "    break\n",
    "  console.log(n)\n",
    "}\n",
    "```\n",
    "上面的例子，会输出斐波纳契数列小于等于1000的项。如果当前项大于1000，就会使用break语句跳出for...of循环。"
   ]
  },
  {
   "cell_type": "markdown",
   "metadata": {},
   "source": [
    "## 生成器\n",
    "\n",
    "和python中类似,实现了迭代器外还额外实现throw和return方法的对象就是生成器了.生成器常用于构造流,它同样可以使用`for of`语法消耗.同时比起一般迭代器,它还可以和函数体外进行交互,转让执行权,这些特点和python中是一样的.\n",
    "\n",
    "### 生成器函数\n",
    "\n",
    "一个简单的方式创建生成器就是使用生成器函数,只要定义函数时在`function`后加`*`,注意箭头函数不能也不该用于构造生成器\n",
    "\n",
    "\n",
    "> 例:斐波那契数的生成器"
   ]
  },
  {
   "cell_type": "code",
   "execution_count": 9,
   "metadata": {},
   "outputs": [],
   "source": [
    "function* fib(N){\n",
    "    let n = 0\n",
    "    let first =0\n",
    "    let second = 1\n",
    "    let temp\n",
    "    while (n < N){\n",
    "        yield second\n",
    "        temp= first+second\n",
    "        first=second\n",
    "        second = temp\n",
    "        n +=1     \n",
    "    } \n",
    "    return second\n",
    "}"
   ]
  },
  {
   "cell_type": "code",
   "execution_count": 10,
   "metadata": {},
   "outputs": [
    {
     "name": "stdout",
     "output_type": "stream",
     "text": [
      "1\n",
      "1\n",
      "2\n",
      "3\n",
      "5\n"
     ]
    }
   ],
   "source": [
    "for (let i of fib(5)) {\n",
    "    console.log(i)\n",
    "}"
   ]
  },
  {
   "cell_type": "markdown",
   "metadata": {},
   "source": [
    "#### yield语句\n",
    "\n",
    "\n",
    "与python中一样,生成器中的yield其实起到一个暂停断点的作用,它的逻辑如下:\n",
    "\n",
    "\n",
    "+ 遇到yield语句，就暂停执行后面的操作，并将紧跟在yield后面的那个表达式的值，作为返回的对象的value属性值。\n",
    "+ 下一次调用next方法时，再继续往下执行，直到遇到下一个yield语句。\n",
    "+ 如果没有再遇到新的yield语句，就一直运行到函数结束，直到return语句为止，并将return语句后面的表达式的值，作为返回的对象的value属性值。\n",
    "+ 如果该函数没有return语句，则返回的对象的value属性值为undefined。\n",
    "\n",
    "需要注意的是yield语句后面的表达式只有当调用next方法、内部指针指向该语句时才会执行，和python一样,这是js的惰性求值（Lazy Evaluation）的主要实现。\n",
    "\n",
    "```javascript\n",
    "function* gen() {\n",
    "  yield  123 + 456\n",
    "}\n",
    "```\n",
    "上面代码中，yield后面的表达式123 + 456，不会立即求值，只会在next方法将指针移到这一句时，才会求值。\n",
    "\n",
    "可以从上面的规则看出,js的生成器可以不带yield,这也是和python中不同的地方\n",
    "\n",
    "Generator不带yield语句，这时就变成了一个单纯的暂缓执行函数."
   ]
  },
  {
   "cell_type": "code",
   "execution_count": 11,
   "metadata": {},
   "outputs": [
    {
     "data": {
      "text/plain": [
       "Timeout {\n",
       "  _called: false,\n",
       "  _idleTimeout: 2000,\n",
       "  _idlePrev:\n",
       "   TimersList {\n",
       "     _idleNext: [Circular],\n",
       "     _idlePrev: [Circular],\n",
       "     _unrefed: false,\n",
       "     msecs: 2000,\n",
       "     _timer: Timer { _list: [Circular] } },\n",
       "  _idleNext:\n",
       "   TimersList {\n",
       "     _idleNext: [Circular],\n",
       "     _idlePrev: [Circular],\n",
       "     _unrefed: false,\n",
       "     msecs: 2000,\n",
       "     _timer: Timer { _list: [Circular] } },\n",
       "  _idleStart: 8935,\n",
       "  _onTimeout: [Function],\n",
       "  _timerArgs: undefined,\n",
       "  _repeat: null,\n",
       "  _destroyed: false,\n",
       "  [Symbol(unrefed)]: false,\n",
       "  [Symbol(asyncId)]: 98,\n",
       "  [Symbol(triggerId)]: 95 }"
      ]
     },
     "execution_count": 11,
     "metadata": {},
     "output_type": "execute_result"
    }
   ],
   "source": [
    "function* f() {\n",
    "  console.log('执行了！')\n",
    "}\n",
    "\n",
    "let generator = f()\n",
    "\n",
    "setTimeout(function () {\n",
    "  generator.next()\n",
    "},\n",
    "2000)"
   ]
  },
  {
   "cell_type": "markdown",
   "metadata": {},
   "source": [
    "上面代码中，函数f如果是普通函数，在为变量generator赋值时就会执行。但是，函数f是一个Generator函数，就变成只有调用next方法时，函数f才会执行。\n",
    "\n",
    "另外需要注意，yield语句不能用在普通函数中，否则会报错。\n",
    "\n",
    "\n",
    "下面是另外一个例子。"
   ]
  },
  {
   "cell_type": "code",
   "execution_count": 12,
   "metadata": {},
   "outputs": [
    {
     "name": "stdout",
     "output_type": "stream",
     "text": [
      "1\n",
      "2\n",
      "3\n",
      "4\n",
      "5\n",
      "6\n"
     ]
    }
   ],
   "source": [
    "let arr1 = [1, [[2, 3], 4], [5, 6]]\n",
    "\n",
    "let flat = function* (a) {\n",
    "  let length = a.length\n",
    "  for (let i = 0; i < length; i++) {\n",
    "    let item = a[i]\n",
    "    if (typeof item !== 'number') {\n",
    "      yield* flat(item)\n",
    "    } else {\n",
    "      yield item\n",
    "    }\n",
    "  }\n",
    "}\n",
    "\n",
    "for (let f of flat(arr1)) {\n",
    "  console.log(f)\n",
    "}"
   ]
  },
  {
   "cell_type": "markdown",
   "metadata": {},
   "source": [
    "另外，yield语句如果用在一个表达式之中，必须放在圆括号里面. yield语句用作函数参数或赋值表达式的右边,可以不加括号."
   ]
  },
  {
   "cell_type": "markdown",
   "metadata": {},
   "source": [
    "#### yield*\n",
    "\n",
    "如果在Generater函数内部，调用另一个Generator函数，默认情况下是没有效果的."
   ]
  },
  {
   "cell_type": "code",
   "execution_count": 13,
   "metadata": {},
   "outputs": [
    {
     "name": "stdout",
     "output_type": "stream",
     "text": [
      "x\n",
      "y\n"
     ]
    }
   ],
   "source": [
    "function* foo() {\n",
    "  yield 'a'\n",
    "  yield 'b'\n",
    "}\n",
    "\n",
    "function* bar() {\n",
    "  yield 'x'\n",
    "  foo()\n",
    "  yield 'y'\n",
    "}\n",
    "\n",
    "for (let v of bar()){\n",
    "  console.log(v)\n",
    "}"
   ]
  },
  {
   "cell_type": "markdown",
   "metadata": {},
   "source": [
    "面代码中，foo和bar都是Generator函数,在bar里面调用foo，是不会有效果的.\n",
    "\n",
    "这个就需要用到`yield*`语句,用来在一个Generator函数里面执行另一个Generator函数."
   ]
  },
  {
   "cell_type": "code",
   "execution_count": 14,
   "metadata": {},
   "outputs": [
    {
     "name": "stdout",
     "output_type": "stream",
     "text": [
      "x\n",
      "a\n",
      "b\n",
      "y\n"
     ]
    }
   ],
   "source": [
    "function* bar() {\n",
    "  yield 'x'\n",
    "  yield* foo()\n",
    "  yield 'y'\n",
    "}\n",
    "for (let v of bar()){\n",
    "  console.log(v)\n",
    "}\n"
   ]
  },
  {
   "cell_type": "markdown",
   "metadata": {},
   "source": [
    "没错,就是python中的`yield from`\n",
    "\n",
    "> 例:使用`yield*`语句遍历完全二叉树。"
   ]
  },
  {
   "cell_type": "code",
   "execution_count": 15,
   "metadata": {},
   "outputs": [
    {
     "data": {
      "text/plain": [
       "[ 'a', 'b', 'c', 'd', 'e', 'f', 'g' ]"
      ]
     },
     "execution_count": 15,
     "metadata": {},
     "output_type": "execute_result"
    }
   ],
   "source": [
    "// 下面是二叉树的构造函数，\n",
    "// 三个参数分别是左树、当前节点和右树\n",
    "function Tree(left, label, right) {\n",
    "  this.left = left\n",
    "  this.label = label\n",
    "  this.right = right\n",
    "}\n",
    "\n",
    "// 下面是中序（inorder）遍历函数。\n",
    "// 由于返回的是一个遍历器，所以要用generator函数。\n",
    "// 函数体内采用递归算法，所以左树和右树要用yield*遍历\n",
    "function* inorder(t) {\n",
    "  if (t) {\n",
    "    yield* inorder(t.left)\n",
    "    yield t.label\n",
    "    yield* inorder(t.right)\n",
    "  }\n",
    "}\n",
    "\n",
    "// 下面生成二叉树\n",
    "function make(array) {\n",
    "  // 判断是否为叶节点\n",
    "  if (array.length == 1) return new Tree(null, array[0], null);\n",
    "  return new Tree(make(array[0]), array[1], make(array[2]));\n",
    "}\n",
    "let tree = make([[['a'], 'b', ['c']], 'd', [['e'], 'f', ['g']]]);\n",
    "\n",
    "// 遍历二叉树\n",
    "let result = []\n",
    "for (let node of inorder(tree)) {\n",
    "  result.push(node)\n",
    "}\n",
    "\n",
    "result"
   ]
  },
  {
   "cell_type": "markdown",
   "metadata": {},
   "source": [
    "#### 生成器函数的this\n",
    "\n",
    "生成器函数总是返回一个迭代器，ES6规定这个迭代器是生成器函数的实例,也继承了生成器函数的prototype对象上的方法."
   ]
  },
  {
   "cell_type": "code",
   "execution_count": 16,
   "metadata": {},
   "outputs": [
    {
     "name": "stdout",
     "output_type": "stream",
     "text": [
      "true\n",
      "hi!\n",
      "执行了！\n"
     ]
    }
   ],
   "source": [
    "function* g() {}\n",
    "\n",
    "g.prototype.hello = function () {\n",
    "  return 'hi!';\n",
    "};\n",
    "\n",
    "let obj = g();\n",
    "\n",
    "console.log(obj instanceof g) // true\n",
    "console.log(obj.hello()) // 'hi!'"
   ]
  },
  {
   "cell_type": "markdown",
   "metadata": {},
   "source": [
    "上面代码表明生成器函数g返回的迭代器obj是g的实例;而且继承了g.prototype.但是如果把g当作普通的构造函数并不会生效.因为g返回的总是迭代器对象,而不是this对象."
   ]
  },
  {
   "cell_type": "code",
   "execution_count": 17,
   "metadata": {},
   "outputs": [],
   "source": [
    "function* g() {\n",
    "  this.a = 11\n",
    "}\n",
    "\n",
    "let obj_ = g()\n",
    "obj_.a // undefined"
   ]
  },
  {
   "cell_type": "markdown",
   "metadata": {},
   "source": [
    "上面代码中,生成器函数g在this对象上面添加了一个属性a，但是obj对象拿不到这个属性."
   ]
  },
  {
   "cell_type": "code",
   "execution_count": 18,
   "metadata": {},
   "outputs": [],
   "source": [
    "function* F(){\n",
    "  yield this.x = 2\n",
    "  yield this.y = 3\n",
    "}"
   ]
  },
  {
   "cell_type": "markdown",
   "metadata": {},
   "source": [
    "上面代码中，函数F是一个构造函数，又是一个生成器函数.这时使用new命令就无法生成F的实例了,因为F返回的是一个内部指针."
   ]
  },
  {
   "cell_type": "markdown",
   "metadata": {},
   "source": [
    "如果要把生成器函数当作正常的构造函数使用,可以采用下面的变通方法.\n",
    "\n",
    "首先生成一个空对象,使用bind方法绑定生成器函数内部的this.这样构造函数调用以后,这个空对象就是生成器函数的实例对象了."
   ]
  },
  {
   "cell_type": "code",
   "execution_count": 19,
   "metadata": {},
   "outputs": [
    {
     "name": "stdout",
     "output_type": "stream",
     "text": [
      "{ value: 2, done: false }\n",
      "{ value: 3, done: false }\n",
      "{ value: undefined, done: true }\n"
     ]
    },
    {
     "data": {
      "text/plain": [
       "Object [Generator] {}"
      ]
     },
     "execution_count": 19,
     "metadata": {},
     "output_type": "execute_result"
    }
   ],
   "source": [
    "function* F1(){\n",
    "  yield this.x = 2\n",
    "  yield this.y = 3\n",
    "}\n",
    "let obj1 = {}\n",
    "let f = F1.bind(obj1)()\n",
    "\n",
    "console.log(f.next())  // Object {value: 2, done: false}\n",
    "console.log(f.next()) // Object {value: 3, done: false}\n",
    "console.log(f.next())  // Object {value: undefined, done: true}\n",
    "\n",
    "obj // { x: 2, y: 3 }"
   ]
  },
  {
   "cell_type": "markdown",
   "metadata": {},
   "source": [
    "上面代码中，首先是F1内部的this对象绑定obj1对象，然后调用它，返回一个Iterator对象。这个对象执行三次next方法（因为F内部有两个yield语句），完成F内部所有代码的运行。这时，所有内部属性都绑定在obj1对象上了，因此obj1对象也就成了F的实例"
   ]
  },
  {
   "cell_type": "markdown",
   "metadata": {},
   "source": [
    "### 生成器对象\n",
    "\n",
    "无论是定义生成器类,还是使用生成器函数构造生成器对象,其都应该有3个标准方法:\n",
    "\n",
    "+  **throw方法**可以在函数体外抛出错误,然后在Generator函数体内捕获"
   ]
  },
  {
   "cell_type": "code",
   "execution_count": 20,
   "metadata": {},
   "outputs": [
    {
     "name": "stdout",
     "output_type": "stream",
     "text": [
      "内部捕获 a\n",
      "外部捕获 b\n"
     ]
    }
   ],
   "source": [
    "let g2 = function* () {\n",
    "  try {\n",
    "    yield\n",
    "  } catch (e) {\n",
    "    console.log('内部捕获', e);\n",
    "  }\n",
    "}\n",
    "\n",
    "let i = g2()\n",
    "i.next()\n",
    "\n",
    "try {\n",
    "  i.throw('a')\n",
    "  i.throw('b')\n",
    "} catch (e) {\n",
    "  console.log('外部捕获', e)\n",
    "}"
   ]
  },
  {
   "cell_type": "markdown",
   "metadata": {},
   "source": [
    "上面代码中，遍历器对象i连续抛出两个错误。第一个错误被生成器函数体内的catch语句捕获,i第二次抛出错误，由于生成器函数内部的catch语句已经执行过了，不会再捕捉到这个错误了，所以这个错误就被抛出了Generator函数体，被函数体外的catch语句捕获。\n",
    "\n",
    "注意，不要混淆迭代器对象的throw方法和全局的throw命令。上面代码的错误，是用迭代器对象的throw方法抛出的，而不是用throw命令抛出的。后者只能被函数体外的catch语句捕获."
   ]
  },
  {
   "cell_type": "markdown",
   "metadata": {},
   "source": [
    "+ **return**可以返回给定的值，并且终结遍历."
   ]
  },
  {
   "cell_type": "code",
   "execution_count": 21,
   "metadata": {},
   "outputs": [
    {
     "name": "stdout",
     "output_type": "stream",
     "text": [
      "{ value: 1, done: false }\n",
      "{ value: 'foo', done: true }\n",
      "{ value: undefined, done: true }\n"
     ]
    }
   ],
   "source": [
    "function* gen() {\n",
    "  yield 1;\n",
    "  yield 2;\n",
    "  yield 3;\n",
    "}\n",
    "\n",
    "let g1 = gen();\n",
    "\n",
    "console.log(g1.next())        // { value: 1, done: false }\n",
    "console.log(g1.return(\"foo\")) // { value: \"foo\", done: true }\n",
    "console.log(g1.next())      // { value: undefined, done: true }"
   ]
  },
  {
   "cell_type": "markdown",
   "metadata": {},
   "source": [
    "+ **带参数的next方法**next方法可以带一个参数，该参数就会被当作上一个yield语句的返回值,这与在python中也是一致的"
   ]
  },
  {
   "cell_type": "code",
   "execution_count": 22,
   "metadata": {},
   "outputs": [
    {
     "name": "stdout",
     "output_type": "stream",
     "text": [
      "{ value: 0, done: false }\n",
      "{ value: 1, done: false }\n",
      "{ value: 0, done: false }\n"
     ]
    }
   ],
   "source": [
    "function* f2() {\n",
    "  for(var i=0; true; i++) {\n",
    "    let reset = yield i;\n",
    "    if(reset) { i = -1; }\n",
    "  }\n",
    "}\n",
    "\n",
    "let g4 = f2();\n",
    "\n",
    "console.log(g4.next()) // { value: 0, done: false }\n",
    "console.log(g4.next()) // { value: 1, done: false }\n",
    "console.log(g4.next(true)) // { value: 0, done: false }"
   ]
  },
  {
   "cell_type": "markdown",
   "metadata": {},
   "source": [
    "上面代码先定义了一个可以无限运行的生成器函数f，如果next方法没有参数，每次运行到yield语句,变量reset的值总是undefined.当next方法带一个参数true时，当前的变量reset就被重置为这个参数（即true），因此i会等于-1，下一轮循环就会从-1开始递增。\n",
    "\n",
    "于是,协程语法就呼之欲出了"
   ]
  },
  {
   "cell_type": "code",
   "execution_count": 23,
   "metadata": {},
   "outputs": [
    {
     "name": "stdout",
     "output_type": "stream",
     "text": [
      "{ value: 6, done: false }\n",
      "{ value: NaN, done: false }\n",
      "{ value: NaN, done: true }\n",
      "{ value: 6, done: false }\n",
      "{ value: 8, done: false }\n",
      "{ value: 42, done: true }\n"
     ]
    }
   ],
   "source": [
    "function* foo1(x) {\n",
    "  let y = 2 * (yield (x + 1));\n",
    "  let z = yield (y / 3);\n",
    "  return (x + y + z);\n",
    "}\n",
    "\n",
    "let a1 = foo1(5);\n",
    "console.log(a1.next()) // Object{value:6, done:false}\n",
    "console.log(a1.next()) // Object{value:NaN, done:false}\n",
    "console.log(a1.next()) // Object{value:NaN, done:true}\n",
    "\n",
    "let b1 = foo1(5);\n",
    "console.log(b1.next()) // { value:6, done:false }\n",
    "console.log(b1.next(12)) // { value:8, done:false }\n",
    "console.log(b1.next(13)) // { value:42, done:true }"
   ]
  },
  {
   "cell_type": "markdown",
   "metadata": {},
   "source": [
    "上面代码中，第二次运行next方法的时候不带参数，导致y的值等于2 * undefined（即NaN），除以3以后还是NaN，因此返回对象的value属性也等于NaN。第三次运行Next方法的时候不带参数，所以z等于undefined，返回对象的value属性等于5 + NaN + undefined，即NaN。\n",
    "\n",
    "如果向next方法提供参数，返回结果就完全不一样了。上面代码第一次调用b的next方法时，返回x+1的值6；第二次调用next方法，将上一次yield语句的值设为12，因此y等于24，返回y / 3的值8；第三次调用next方法，将上一次yield语句的值设为13，因此z等于13，这时x等于5，y等于24，所以return语句的值等于42。\n",
    "\n",
    "**注意，由于next方法的参数表示上一个yield语句的返回值，所以第一次使用next方法时，不能带有参数。V8引擎直接忽略第一次使用next方法时的参数，只有从第二次使用next方法开始，参数才是有效的。从语义上讲，第一个next方法用来启动遍历器对象，所以不用带有参数。**\n",
    "\n",
    "如果想要第一次调用next方法时，就能够输入值，可以在Generator函数外面再包一层。"
   ]
  },
  {
   "cell_type": "code",
   "execution_count": 28,
   "metadata": {},
   "outputs": [
    {
     "name": "stdout",
     "output_type": "stream",
     "text": [
      "First input: hello!\n"
     ]
    },
    {
     "data": {
      "text/plain": [
       "{ value: 'DONE', done: true }"
      ]
     },
     "execution_count": 28,
     "metadata": {},
     "output_type": "execute_result"
    }
   ],
   "source": [
    "function wrapper(generatorFunction) {\n",
    "  return function (...args) {\n",
    "    let generatorObject = generatorFunction(...args);\n",
    "    generatorObject.next();\n",
    "    return generatorObject;\n",
    "  };\n",
    "}\n",
    "\n",
    "const wrapped = wrapper(function* () {\n",
    "  console.log(`First input: ${yield}`);\n",
    "  return 'DONE';\n",
    "});\n",
    "\n",
    "wrapped().next('hello!')"
   ]
  },
  {
   "cell_type": "markdown",
   "metadata": {},
   "source": [
    "上面代码中，Generator函数如果不用wrapper先包一层，是无法第一次调用next方法，就输入参数的。"
   ]
  },
  {
   "cell_type": "code",
   "execution_count": 29,
   "metadata": {},
   "outputs": [
    {
     "name": "stdout",
     "output_type": "stream",
     "text": [
      "Started\n",
      "1. a\n",
      "2. b\n"
     ]
    },
    {
     "data": {
      "text/plain": [
       "{ value: 'result', done: true }"
      ]
     },
     "execution_count": 29,
     "metadata": {},
     "output_type": "execute_result"
    }
   ],
   "source": [
    "function* dataConsumer() {\n",
    "  console.log('Started');\n",
    "  console.log(`1. ${yield}`);\n",
    "  console.log(`2. ${yield}`);\n",
    "  return 'result';\n",
    "}\n",
    "\n",
    "let genObj = dataConsumer();\n",
    "genObj.next();\n",
    "// Started\n",
    "genObj.next('a')\n",
    "// 1. a\n",
    "genObj.next('b')\n",
    "// 2. b"
   ]
  },
  {
   "cell_type": "markdown",
   "metadata": {},
   "source": [
    "上面代码是一个很直观的例子，每次通过next方法向Generator函数输入值，然后打印出来。"
   ]
  }
 ],
 "metadata": {
  "kernelspec": {
   "display_name": "jp-Babel (Node.js)",
   "language": "babel",
   "name": "babel"
  },
  "language_info": {
   "file_extension": ".js",
   "mimetype": "application/javascript",
   "name": "javascript",
   "version": "13.8.0"
  }
 },
 "nbformat": 4,
 "nbformat_minor": 1
}
