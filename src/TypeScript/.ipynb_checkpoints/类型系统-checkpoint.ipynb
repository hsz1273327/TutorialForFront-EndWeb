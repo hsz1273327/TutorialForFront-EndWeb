{
 "cells": [
  {
   "cell_type": "markdown",
   "metadata": {},
   "source": [
    "# 类型系统\n",
    "\n",
    "Typescript最大的特点就是有完备的类型系统和范型系统,这可以使代码更加健壮也更便于维护"
   ]
  },
  {
   "cell_type": "markdown",
   "metadata": {},
   "source": [
    "# 类型声明\n",
    "\n",
    "ts支持类型声明,可以声明的包括:\n",
    "\n",
    "+ 常量变量\n",
    "+ 类中的属性\n",
    "+ 函数,方法的参数\n",
    "+ 函数的返回值\n",
    "\n",
    "声明的方法和python的typehints一样,就是名字后面用`':'`指定类型"
   ]
  },
  {
   "cell_type": "code",
   "execution_count": 1,
   "metadata": {},
   "outputs": [],
   "source": [
    "const a :string =  \"常量\""
   ]
  },
  {
   "cell_type": "code",
   "execution_count": 2,
   "metadata": {},
   "outputs": [
    {
     "name": "stdout",
     "output_type": "stream",
     "text": [
      "常量\n"
     ]
    }
   ],
   "source": [
    "a"
   ]
  },
  {
   "cell_type": "markdown",
   "metadata": {},
   "source": [
    "## 类型推断\n",
    "\n",
    "在原版js中是没有类型声明的,TS也可以不声明,但实际上它使用了类型推断技术"
   ]
  },
  {
   "cell_type": "code",
   "execution_count": 3,
   "metadata": {},
   "outputs": [],
   "source": [
    "let x = 3"
   ]
  },
  {
   "cell_type": "code",
   "execution_count": 4,
   "metadata": {},
   "outputs": [
    {
     "name": "stdout",
     "output_type": "stream",
     "text": [
      "number\n"
     ]
    }
   ],
   "source": [
    "typeof(x)"
   ]
  },
  {
   "cell_type": "markdown",
   "metadata": {},
   "source": [
    "当需要从几个表达式中推断类型时候会使用这些表达式的类型来推断出一个最合适的通用类型.例如:"
   ]
  },
  {
   "cell_type": "code",
   "execution_count": 5,
   "metadata": {},
   "outputs": [],
   "source": [
    "let x = [0, 1, null];"
   ]
  },
  {
   "cell_type": "markdown",
   "metadata": {},
   "source": [
    "为了推断x的类型,我们必须考虑所有元素的类型.这里有两种类型:`number`和`null`.计算通用类型算法会考虑所有的候选类型,并给出一个兼容所有候选类型的类型.\n",
    "\n",
    "类型推断虽然方便,但很多时候并不能如我们所想的那样.由于最终的通用类型取自候选类型,有些时候候选类型共享相同的通用类型,但是却没有一个类型能做为所有候选类型的类型."
   ]
  },
  {
   "cell_type": "code",
   "execution_count": 6,
   "metadata": {},
   "outputs": [],
   "source": [
    "class Animal{\n",
    "    name\n",
    "    constructor(name){\n",
    "     this.name = name\n",
    "    }\n",
    "    move(distanceInMeters: number = 0) {\n",
    "        console.log(`${this.name} moved ${distanceInMeters}m.`);\n",
    "    }\n",
    "}"
   ]
  },
  {
   "cell_type": "code",
   "execution_count": 7,
   "metadata": {},
   "outputs": [],
   "source": [
    "class Snake extends Animal {\n",
    "    constructor(name) { super(name); }\n",
    "    move(distanceInMeters = 5) {\n",
    "        console.log(\"Slithering...\");\n",
    "        super.move(distanceInMeters);\n",
    "    }\n",
    "}"
   ]
  },
  {
   "cell_type": "code",
   "execution_count": 8,
   "metadata": {},
   "outputs": [],
   "source": [
    "class Horse extends Animal {\n",
    "    constructor(name) { super(name); }\n",
    "    move(distanceInMeters = 45) {\n",
    "        console.log(\"Galloping...\");\n",
    "        super.move(distanceInMeters);\n",
    "    }\n",
    "}"
   ]
  },
  {
   "cell_type": "code",
   "execution_count": 9,
   "metadata": {},
   "outputs": [],
   "source": [
    "let sam = new Snake(\"Sammy the Python\")\n",
    "let tom: Animal = new Horse(\"Tommy the Palomino\")"
   ]
  },
  {
   "cell_type": "code",
   "execution_count": 10,
   "metadata": {},
   "outputs": [
    {
     "name": "stdout",
     "output_type": "stream",
     "text": [
      "Slithering...\n",
      "Sammy the Python moved 5m.\n"
     ]
    }
   ],
   "source": [
    "sam.move()"
   ]
  },
  {
   "cell_type": "code",
   "execution_count": 11,
   "metadata": {},
   "outputs": [
    {
     "name": "stdout",
     "output_type": "stream",
     "text": [
      "Galloping...\n",
      "Tommy the Palomino moved 34m.\n"
     ]
    }
   ],
   "source": [
    "tom.move(34)"
   ]
  },
  {
   "cell_type": "code",
   "execution_count": 12,
   "metadata": {},
   "outputs": [],
   "source": [
    "let zoo = [new Horse(\"h\"), new Snake(\"s\")]"
   ]
  },
  {
   "cell_type": "markdown",
   "metadata": {},
   "source": [
    "我们想让zoo被推断为Animal[]类型,但是这个数组里没有对象是Animal类型的,因此不能推断出这个结果.为了更正,当候选类型不能使用的时候我们需要明确的指出类型"
   ]
  },
  {
   "cell_type": "code",
   "execution_count": 13,
   "metadata": {},
   "outputs": [],
   "source": [
    "let zoo: Animal[] = [new Horse(\"h\"), new Snake(\"s\")]"
   ]
  },
  {
   "cell_type": "markdown",
   "metadata": {},
   "source": [
    "## 范型系统\n",
    "\n",
    "软件工程中,我们不仅要创建一致的定义良好的API,同时也要考虑可重用性.组件不仅能够支持当前的数据类型,同时也能支持未来的数据类型,这在创建大型系统时为你提供了十分灵活的功能.\n",
    "\n",
    "在像C#和Java这样的语言中可以使用泛型来创建可重用的组件,一个组件可以支持多种类型的数据.这样用户就可以以自己的数据类型来使用组件.\n",
    "\n",
    "例:"
   ]
  },
  {
   "cell_type": "code",
   "execution_count": 15,
   "metadata": {},
   "outputs": [],
   "source": [
    "function identity<T>(arg: T): T {\n",
    "    return arg;\n",
    "}"
   ]
  },
  {
   "cell_type": "markdown",
   "metadata": {},
   "source": [
    "我们给`identity`添加了类型变量`T`.`T`帮助我们捕获用户传入的类型(比如`number)`),之后我们就可以使用这个类型.之后我们再次使用了`T`当做返回值类型.现在我们可以知道参数类型与返回值类型是相同的了.这允许我们跟踪函数里使用的类型的信息\n",
    "\n",
    "我们把这个版本的`identity`函数叫做泛型,因为它可以适用于多个类型.不同于使用`any`,它不会丢失信息,像第一个例子那像保持准确性,传入数值类型并返回数值类型.\n",
    "\n",
    "我们定义了泛型函数后可以用两种方法使用:\n",
    "\n",
    "+ 第一种是传入所有的参数,包含类型参数"
   ]
  },
  {
   "cell_type": "code",
   "execution_count": 17,
   "metadata": {},
   "outputs": [
    {
     "name": "stdout",
     "output_type": "stream",
     "text": [
      "myString\n"
     ]
    }
   ],
   "source": [
    "let output1 = identity<string>(\"myString\") // type of output will be 'string'\n",
    "output1"
   ]
  },
  {
   "cell_type": "markdown",
   "metadata": {},
   "source": [
    "这里我们明确的指定了`T`是`string`类型,并做为一个参数传给函数,使用了`<>`括起来而不是`()`\n",
    "\n",
    "+ 第二种方法更普遍,利用了类型推论--即编译器会根据传入的参数自动地帮助我们确定T的类型:"
   ]
  },
  {
   "cell_type": "code",
   "execution_count": 18,
   "metadata": {},
   "outputs": [
    {
     "name": "stdout",
     "output_type": "stream",
     "text": [
      "myString\n"
     ]
    }
   ],
   "source": [
    "let output2 = identity(\"myString\")\n",
    "output2"
   ]
  },
  {
   "cell_type": "markdown",
   "metadata": {},
   "source": [
    "注意我们没必要使用尖括号`<>`来明确地传入类型,编译器可以查看myString的值,然后把T设置为它的类型.类型推论帮助我们保持代码精简和高可读性.如果编译器不能够自动地推断出类型的话只能像上面那样明确的传入`T`的类型,在一些复杂的情况下这是可能出现的."
   ]
  },
  {
   "cell_type": "markdown",
   "metadata": {},
   "source": [
    "### 泛型类型\n",
    "\n",
    "泛型函数的类型与非泛型函数的类型没什么不同,只是有一个类型参数在最前面,像函数声明一样"
   ]
  },
  {
   "cell_type": "code",
   "execution_count": 19,
   "metadata": {},
   "outputs": [],
   "source": [
    "function identity<T>(arg: T): T {\n",
    "    return arg;\n",
    "}\n",
    "\n",
    "let myIdentity: <T>(arg: T) => T = identity;"
   ]
  },
  {
   "cell_type": "markdown",
   "metadata": {},
   "source": [
    "我们也可以使用不同的泛型参数名,只要在数量上和使用方式上能对应上就可以"
   ]
  },
  {
   "cell_type": "code",
   "execution_count": 20,
   "metadata": {},
   "outputs": [],
   "source": [
    "function identity<T>(arg: T): T {\n",
    "    return arg;\n",
    "}\n",
    "\n",
    "let myIdentity: <U>(arg: U) => U = identity;\n"
   ]
  },
  {
   "cell_type": "markdown",
   "metadata": {},
   "source": [
    "### 泛型接口\n",
    "\n",
    "我们还可以使用带有调用签名的对象字面量来定义泛型函数:"
   ]
  },
  {
   "cell_type": "code",
   "execution_count": 21,
   "metadata": {},
   "outputs": [],
   "source": [
    "interface GenericIdentityFn {\n",
    "    <T>(arg: T): T;\n",
    "}\n",
    "\n",
    "function identity<T>(arg: T): T {\n",
    "    return arg;\n",
    "}\n",
    "\n",
    "let myIdentity: GenericIdentityFn = identity;"
   ]
  },
  {
   "cell_type": "markdown",
   "metadata": {},
   "source": [
    "一个相似的例子:我们可能想把泛型参数当作整个接口的一个参数.这样我们就能清楚的知道使用的具体是哪个泛型类型(比如`Dictionary<string>`而不只是`Dictionary`).这样接口里的其它成员也能知道这个参数的类型了."
   ]
  },
  {
   "cell_type": "code",
   "execution_count": 22,
   "metadata": {},
   "outputs": [],
   "source": [
    "interface GenericIdentityFn<T> {\n",
    "    (arg: T): T;\n",
    "}\n",
    "\n",
    "function identity<T>(arg: T): T {\n",
    "    return arg;\n",
    "}\n",
    "\n",
    "let myIdentity: GenericIdentityFn<number> = identity;"
   ]
  },
  {
   "cell_type": "markdown",
   "metadata": {},
   "source": [
    "### 泛型类\n",
    "\n",
    "泛型类看上去与泛型接口差不多.泛型类使用`<>`括起泛型类型,跟在类名后面."
   ]
  },
  {
   "cell_type": "code",
   "execution_count": 23,
   "metadata": {},
   "outputs": [
    {
     "name": "stdout",
     "output_type": "stream",
     "text": [
      "\u001b[36m[Function (anonymous)]\u001b[39m\n"
     ]
    }
   ],
   "source": [
    "class GenericNumber<T> {\n",
    "    zeroValue: T\n",
    "    add: (x: T, y: T) => T\n",
    "}\n",
    "\n",
    "let myGenericNumber = new GenericNumber<number>()\n",
    "myGenericNumber.zeroValue = 0\n",
    "myGenericNumber.add = function(x, y) { return x + y; }"
   ]
  },
  {
   "cell_type": "markdown",
   "metadata": {},
   "source": [
    "GenericNumber类的使用是十分直观的,并且你可能已经注意到了没有什么去限制它只能使用number类型.也可以使用字符串或其它更复杂的类型.\n",
    "\n",
    "与接口一样直接把泛型类型放在类后面可以帮助我们确认类的所有属性都在使用相同的类型.\n",
    "\n",
    "我们在面向对象部分介绍过类有两部分:静态部分和实例部分.泛型类指的是实例部分的类型,所以类的静态属性不能使用这个泛型类型."
   ]
  },
  {
   "cell_type": "markdown",
   "metadata": {},
   "source": [
    "### 泛型约束\n",
    "\n",
    "你应该会记得之前的一个例子,我们有时候想操作某类型的一组值,并且我们知道这组值具有什么样的属性.在`loggingIdentity`例子中我们想访问`arg`的`length`属性,但是编译器并不能证明每种类型都有`length`属性,所以就报错了."
   ]
  },
  {
   "cell_type": "code",
   "execution_count": 24,
   "metadata": {},
   "outputs": [
    {
     "name": "stderr",
     "output_type": "stream",
     "text": [
      "2:21 - Property 'length' does not exist on type 'T'.\n"
     ]
    }
   ],
   "source": [
    "function loggingIdentity<T>(arg: T): T {\n",
    "    console.log(arg.length);  // Error: T doesn't have .length\n",
    "    return arg;\n",
    "}"
   ]
  },
  {
   "cell_type": "markdown",
   "metadata": {},
   "source": [
    "为此我们定义一个接口来描述约束条件.创建一个包含`.length`属性的接口,使用这个接口和`extends`关键字还实现约束:"
   ]
  },
  {
   "cell_type": "code",
   "execution_count": 25,
   "metadata": {},
   "outputs": [],
   "source": [
    "interface Lengthwise {\n",
    "    length: number;\n",
    "}\n",
    "\n",
    "function loggingIdentity<T extends Lengthwise>(arg: T): T {\n",
    "    console.log(arg.length);  // Now we know it has a .length property, so no more error\n",
    "    return arg;\n",
    "}"
   ]
  },
  {
   "cell_type": "markdown",
   "metadata": {},
   "source": [
    "现在这个泛型函数被定义了约束,因此它不再是适用于任意类型,我们需要传入符合约束类型的值必须包含必须的属性."
   ]
  },
  {
   "cell_type": "markdown",
   "metadata": {},
   "source": [
    "### 在泛型里使用类类型\n",
    "\n",
    "在TypeScript使用泛型创建工厂函数时需要引用构造函数的类类型.比如:"
   ]
  },
  {
   "cell_type": "code",
   "execution_count": 2,
   "metadata": {},
   "outputs": [],
   "source": [
    "function create<T>(c: {new(): T; }): T {\n",
    "    return new c();\n",
    "}"
   ]
  },
  {
   "cell_type": "code",
   "execution_count": null,
   "metadata": {
    "collapsed": true
   },
   "outputs": [],
   "source": []
  }
 ],
 "metadata": {
  "kernelspec": {
   "display_name": "TypeScript",
   "language": "typescript",
   "name": "tslab"
  },
  "language_info": {
   "codemirror_mode": {
    "mode": "typescript",
    "name": "javascript",
    "typescript": true
   },
   "file_extension": ".ts",
   "mimetype": "text/typescript",
   "name": "typescript",
   "version": "3.7.2"
  }
 },
 "nbformat": 4,
 "nbformat_minor": 1
}
