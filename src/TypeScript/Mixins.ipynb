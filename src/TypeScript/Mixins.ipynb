{
 "cells": [
  {
   "cell_type": "markdown",
   "metadata": {},
   "source": [
    "# Mixins\n",
    "\n",
    "JS中的Mixin和python中的其实思路是一样的\n",
    "\n",
    "例子:"
   ]
  },
  {
   "cell_type": "code",
   "execution_count": 1,
   "metadata": {},
   "outputs": [
    {
     "data": {
      "text/plain": [
       "'use strict'"
      ]
     },
     "execution_count": 1,
     "metadata": {},
     "output_type": "execute_result"
    }
   ],
   "source": [
    "//两个mixin\n",
    "// Disposable Mixin\n",
    "class Disposable {\n",
    "    isDisposed: boolean;\n",
    "    dispose() {\n",
    "        this.isDisposed = true;\n",
    "    }\n",
    "\n",
    "}\n",
    "\n",
    "// Activatable Mixin\n",
    "class Activatable {\n",
    "    isActive: boolean;\n",
    "    activate() {\n",
    "        this.isActive = true;\n",
    "    }\n",
    "    deactivate() {\n",
    "        this.isActive = false;\n",
    "    }\n",
    "}"
   ]
  },
  {
   "cell_type": "code",
   "execution_count": 2,
   "metadata": {},
   "outputs": [
    {
     "data": {
      "text/plain": [
       "'use strict'"
      ]
     },
     "execution_count": 2,
     "metadata": {},
     "output_type": "execute_result"
    }
   ],
   "source": [
    "//混入mixin的类\n",
    "class SmartObject implements Disposable, Activatable {\n",
    "    constructor() {\n",
    "        setInterval(() => console.log(this.isActive + \" : \" + this.isDisposed), 500);\n",
    "    }\n",
    "\n",
    "    interact() {\n",
    "        this.activate();\n",
    "    }\n",
    "\n",
    "    // Disposable\n",
    "    isDisposed: boolean = false;\n",
    "    dispose: () => void;\n",
    "    // Activatable\n",
    "    isActive: boolean = false;\n",
    "    activate: () => void;\n",
    "    deactivate: () => void;\n",
    "}\n"
   ]
  },
  {
   "cell_type": "markdown",
   "metadata": {},
   "source": [
    "这里继承mixin时是将他们作为接口继承的,故使用的是implements,这样继承过来就只有申明没有实现,我们需要在类中写好实现,就给他都置为非或者空"
   ]
  },
  {
   "cell_type": "markdown",
   "metadata": {},
   "source": [
    "然后使用这个函数"
   ]
  },
  {
   "cell_type": "code",
   "execution_count": 3,
   "metadata": {},
   "outputs": [
    {
     "data": {
      "text/plain": [
       "'use strict'"
      ]
     },
     "execution_count": 3,
     "metadata": {},
     "output_type": "execute_result"
    }
   ],
   "source": [
    "function applyMixins(derivedCtor: any, baseCtors: any[]) {\n",
    "    baseCtors.forEach(baseCtor => {\n",
    "        Object.getOwnPropertyNames(baseCtor.prototype).forEach(name => {\n",
    "            derivedCtor.prototype[name] = baseCtor.prototype[name];\n",
    "        })\n",
    "    });\n",
    "}"
   ]
  },
  {
   "cell_type": "markdown",
   "metadata": {},
   "source": [
    "这个函数会遍历mixins上的所有属性，并复制到目标上去，把之前的占位属性替换成真正的实现代码。"
   ]
  },
  {
   "cell_type": "code",
   "execution_count": 4,
   "metadata": {},
   "outputs": [
    {
     "data": {
      "text/plain": [
       "Timeout {\n",
       "  _called: false,\n",
       "  _idleTimeout: 20,\n",
       "  _idlePrev: \n",
       "   TimersList {\n",
       "     _idleNext: [Circular],\n",
       "     _idlePrev: [Circular],\n",
       "     _timer: Timer { '0': [Function: listOnTimeout], _list: [Circular] },\n",
       "     _unrefed: false,\n",
       "     msecs: 20 },\n",
       "  _idleNext: \n",
       "   TimersList {\n",
       "     _idleNext: [Circular],\n",
       "     _idlePrev: [Circular],\n",
       "     _timer: Timer { '0': [Function: listOnTimeout], _list: [Circular] },\n",
       "     _unrefed: false,\n",
       "     msecs: 20 },\n",
       "  _idleStart: 4599,\n",
       "  _onTimeout: [Function],\n",
       "  _timerArgs: undefined,\n",
       "  _repeat: null }"
      ]
     },
     "execution_count": 4,
     "metadata": {},
     "output_type": "execute_result"
    },
    {
     "name": "stdout",
     "output_type": "stream",
     "text": [
      "true : false\n",
      "true : false\n",
      "true : false\n",
      "true : false\n",
      "true : false\n",
      "true : false\n",
      "true : false\n",
      "true : false\n",
      "true : false\n",
      "true : false\n",
      "true : false\n",
      "true : false\n",
      "true : false\n",
      "true : false\n",
      "true : false\n",
      "true : false\n",
      "true : false\n",
      "true : false\n",
      "true : false\n",
      "true : false\n",
      "true : false\n",
      "true : false\n",
      "true : false\n",
      "true : false\n",
      "true : false\n",
      "true : false\n",
      "true : false\n",
      "true : false\n",
      "true : false\n",
      "true : false\n",
      "true : false\n",
      "true : false\n",
      "true : false\n",
      "true : false\n"
     ]
    }
   ],
   "source": [
    "applyMixins(SmartObject, [Disposable, Activatable]);\n",
    "\n",
    "let smartObj = new SmartObject();\n",
    "setTimeout(() => smartObj.interact(), 20)"
   ]
  }
 ],
 "metadata": {
  "kernelspec": {
   "display_name": "Typescript 2.1",
   "language": "typescript",
   "name": "typescript"
  },
  "language_info": {
   "file_extension": ".ts",
   "mimetype": "text/x-typescript",
   "name": "typescript",
   "version": "2.1.4"
  }
 },
 "nbformat": 4,
 "nbformat_minor": 1
}
