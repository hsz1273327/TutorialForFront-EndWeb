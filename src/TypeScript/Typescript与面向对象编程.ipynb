{
 "cells": [
  {
   "cell_type": "markdown",
   "metadata": {},
   "source": [
    "# Typescript与面向对象编程\n",
    "\n",
    "传统的JavaScript程序使用函数和基于原型的继承来创建可重用的组件，但对于熟悉使用面向对象方式的程序员来讲就有些棘手，因为他们用的是基于类的继承并且对象是由类构建出来的。 从ECMAScript 2015，也就是ECMAScript 6开始，JavaScript程序员将能够使用基于类的面向对象的方式。 \n",
    "\n",
    "使用TypeScript，我们允许开发者直接使用这些特性，并且编译后的JavaScript可以在所有主流浏览器和平台上运行.同时,它更是有完备的封装和访问控制的关键字."
   ]
  },
  {
   "cell_type": "markdown",
   "metadata": {},
   "source": [
    "# 类\n",
    "\n",
    "与ES6中定义类类似,TS中定义类的主体是一样的,不同之处只是TS种可以声明类型"
   ]
  },
  {
   "cell_type": "code",
   "execution_count": 1,
   "metadata": {},
   "outputs": [
    {
     "data": {
      "text/plain": [
       "'use strict'"
      ]
     },
     "execution_count": 1,
     "metadata": {},
     "output_type": "execute_result"
    }
   ],
   "source": [
    "class Greeter {\n",
    "    greeting: string\n",
    "    constructor(message: string) {\n",
    "        this.greeting = message\n",
    "    }\n",
    "    greet() {\n",
    "        return \"Hello, \" + this.greeting\n",
    "    }\n",
    "}\n",
    "\n",
    "let greeter = new Greeter(\"world\")"
   ]
  },
  {
   "cell_type": "code",
   "execution_count": 3,
   "metadata": {},
   "outputs": [
    {
     "data": {
      "text/plain": [
       "'Hello, world'"
      ]
     },
     "execution_count": 3,
     "metadata": {},
     "output_type": "execute_result"
    }
   ],
   "source": [
    "greeter.greet()"
   ]
  },
  {
   "cell_type": "markdown",
   "metadata": {},
   "source": [
    "## 类型断言\n",
    "\n",
    "我们常用typeof来在js中查看类型,但面对ts,typeof显得力不从心,我们可以用`as`关键字来做类型断言"
   ]
  },
  {
   "cell_type": "markdown",
   "metadata": {},
   "source": [
    "`a = greeter as Greeter`"
   ]
  },
  {
   "cell_type": "markdown",
   "metadata": {},
   "source": [
    "## 继承\n",
    "\n",
    "在TypeScript里，我们可以使用常用的面向对象模式。 当然，基于类的程序设计中最基本的模式是允许使用继承来扩展现有的类。\n",
    "\n",
    "继承与ES6中一样使用`extends`关键字\n",
    "\n"
   ]
  },
  {
   "cell_type": "markdown",
   "metadata": {},
   "source": [
    "## 封装\n",
    "\n",
    "与C++中类似,类的成员有public,private,protected关键字用来申明成员的可见性和一些封装特性"
   ]
  },
  {
   "cell_type": "markdown",
   "metadata": {},
   "source": [
    "### public\n",
    "\n",
    "public是默认的成员可见性,它表示成员是公开的"
   ]
  },
  {
   "cell_type": "markdown",
   "metadata": {},
   "source": [
    "### private\n",
    "\n",
    "private表明成员是私有的,这样它就不能在声明它的类的外部被访问."
   ]
  },
  {
   "cell_type": "markdown",
   "metadata": {},
   "source": [
    "### protected\n",
    "\n",
    "protected被保护的成员,protected修饰符与private修饰符的行为很相似，但有一点不同，protected成员在派生类中仍然可以访问.\n",
    "\n",
    "构造函数也可以被标记成protected。 这意味着这个类不能在包含它的类外被实例化，但是能被继承"
   ]
  },
  {
   "cell_type": "markdown",
   "metadata": {},
   "source": [
    "### 参数属性\n",
    "\n",
    "在构造函数中,我们可以声明其参数为私有,这样就可以不用再在类中声明了"
   ]
  },
  {
   "cell_type": "code",
   "execution_count": 15,
   "metadata": {},
   "outputs": [
    {
     "data": {
      "text/plain": [
       "'use strict'"
      ]
     },
     "execution_count": 15,
     "metadata": {},
     "output_type": "execute_result"
    }
   ],
   "source": [
    "class Animal {\n",
    "    constructor(private name: string) { }\n",
    "    move(distanceInMeters: number) {\n",
    "        console.log(`${this.name} moved ${distanceInMeters}m.`);\n",
    "    }\n",
    "}"
   ]
  },
  {
   "cell_type": "code",
   "execution_count": 16,
   "metadata": {},
   "outputs": [
    {
     "data": {
      "text/plain": [
       "'use strict'"
      ]
     },
     "execution_count": 16,
     "metadata": {},
     "output_type": "execute_result"
    }
   ],
   "source": [
    "let a = new Animal(\"monkey\")"
   ]
  },
  {
   "cell_type": "code",
   "execution_count": 17,
   "metadata": {},
   "outputs": [
    {
     "data": {
      "text/plain": [
       "Animal { name: 'monkey' }"
      ]
     },
     "execution_count": 17,
     "metadata": {},
     "output_type": "execute_result"
    }
   ],
   "source": [
    "a"
   ]
  },
  {
   "cell_type": "markdown",
   "metadata": {},
   "source": [
    "## 访问控制\n",
    "\n",
    "+ readonly修饰符\n",
    "\n",
    "你可以使用readonly关键字将属性设置为只读的。 只读属性必须在声明时或构造函数里被初始化。\n"
   ]
  },
  {
   "cell_type": "code",
   "execution_count": 10,
   "metadata": {},
   "outputs": [
    {
     "data": {
      "text/plain": [
       "'use strict'"
      ]
     },
     "execution_count": 10,
     "metadata": {},
     "output_type": "execute_result"
    }
   ],
   "source": [
    "class Octopus {\n",
    "    readonly name: string;\n",
    "    readonly numberOfLegs: number = 8;\n",
    "    constructor (theName: string) {\n",
    "        this.name = theName;\n",
    "    }\n",
    "}\n",
    "let dad = new Octopus(\"Man with the 8 strong legs\");"
   ]
  },
  {
   "cell_type": "markdown",
   "metadata": {},
   "source": [
    "+ getters/setters\n",
    "\n",
    "来截取对对象成员的访问。 它能帮助你有效的控制对对象成员的访问。"
   ]
  },
  {
   "cell_type": "code",
   "execution_count": 20,
   "metadata": {},
   "outputs": [
    {
     "name": "stdout",
     "output_type": "stream",
     "text": [
      "Bob Smith\n"
     ]
    },
    {
     "data": {
      "text/plain": [
       "undefined"
      ]
     },
     "execution_count": 20,
     "metadata": {},
     "output_type": "execute_result"
    }
   ],
   "source": [
    "let passcode = \"secret passcode\";\n",
    "\n",
    "class Employee {\n",
    "    private _fullName: string;\n",
    "\n",
    "    get fullName(): string {\n",
    "        return this._fullName;\n",
    "    }\n",
    "\n",
    "    set fullName(newName: string) {\n",
    "        if (passcode && passcode == \"secret passcode\") {\n",
    "            this._fullName = newName;\n",
    "        }\n",
    "        else {\n",
    "            consoleole.log(\"Error: Unauthorized update of employee!\");\n",
    "        }\n",
    "    }\n",
    "}\n",
    "\n",
    "let employee = new Employee();\n",
    "employee.fullName = \"Bob Smith\";\n",
    "if (employee.fullName) {\n",
    "    console.log(employee.fullName);\n",
    "}"
   ]
  },
  {
   "cell_type": "markdown",
   "metadata": {},
   "source": [
    "## 静态成员\n",
    "\n",
    "static关键字可以用来声明成员为静态"
   ]
  },
  {
   "cell_type": "code",
   "execution_count": 21,
   "metadata": {},
   "outputs": [
    {
     "name": "stdout",
     "output_type": "stream",
     "text": [
      "14.142135623730951\n",
      "2.8284271247461903\n"
     ]
    },
    {
     "data": {
      "text/plain": [
       "undefined"
      ]
     },
     "execution_count": 21,
     "metadata": {},
     "output_type": "execute_result"
    }
   ],
   "source": [
    "class Grid {\n",
    "    static origin = {x: 0, y: 0};\n",
    "    calculateDistanceFromOrigin(point: {x: number; y: number;}) {\n",
    "        let xDist = (point.x - Grid.origin.x);\n",
    "        let yDist = (point.y - Grid.origin.y);\n",
    "        return Math.sqrt(xDist * xDist + yDist * yDist) / this.scale;\n",
    "    }\n",
    "    constructor (public scale: number) { }\n",
    "}\n",
    "\n",
    "let grid1 = new Grid(1.0);  // 1x scale\n",
    "let grid2 = new Grid(5.0);  // 5x scale\n",
    "\n",
    "console.log(grid1.calculateDistanceFromOrigin({x: 10, y: 10}));\n",
    "console.log(grid2.calculateDistanceFromOrigin({x: 10, y: 10}));"
   ]
  },
  {
   "cell_type": "markdown",
   "metadata": {},
   "source": [
    "## 抽象类\n",
    "\n",
    "abstract关键字可以用于定义抽象类和在抽象类内部定义抽象方法"
   ]
  },
  {
   "cell_type": "code",
   "execution_count": 22,
   "metadata": {},
   "outputs": [
    {
     "data": {
      "text/plain": [
       "'use strict'"
      ]
     },
     "execution_count": 22,
     "metadata": {},
     "output_type": "execute_result"
    }
   ],
   "source": [
    "abstract class Animal {\n",
    "    abstract makeSound(): void;\n",
    "    move(): void {\n",
    "        console.log('roaming the earch...');\n",
    "    }\n",
    "}"
   ]
  },
  {
   "cell_type": "markdown",
   "metadata": {},
   "source": [
    "抽象类中的抽象方法不包含具体实现并且必须在派生类中实现。 抽象方法的语法与接口方法相似。 两者都是定义方法签名但不包含方法体。 然而，抽象方法必须包含 abstract关键字并且可以包含访问修饰符。"
   ]
  },
  {
   "cell_type": "markdown",
   "metadata": {},
   "source": [
    "# 接口\n",
    "\n",
    "TypeScript的核心原则之一是对值所具有的shape进行类型检查。 它有时被称做\"鸭式辨型法\"(鸭子类型)或\"结构性子类型化\".在TypeScript里，接口的作用就是为这些类型命名和为你的代码或第三方代码定义契约。\n",
    "看下面的例子:"
   ]
  },
  {
   "cell_type": "code",
   "execution_count": 24,
   "metadata": {},
   "outputs": [
    {
     "name": "stdout",
     "output_type": "stream",
     "text": [
      "Size 10 Object\n"
     ]
    },
    {
     "data": {
      "text/plain": [
       "undefined"
      ]
     },
     "execution_count": 24,
     "metadata": {},
     "output_type": "execute_result"
    }
   ],
   "source": [
    "interface LabelledValue {\n",
    "  label: string;\n",
    "}\n",
    "\n",
    "function printLabel(labelledObj: LabelledValue) {\n",
    "  console.log(labelledObj.label);\n",
    "}\n",
    "\n",
    "let myObj = {size: 10, label: \"Size 10 Object\"};\n",
    "printLabel(myObj);"
   ]
  },
  {
   "cell_type": "markdown",
   "metadata": {},
   "source": [
    "LabelledValue接口就好比一个名字，用来描述上面例子里的要求。 它代表了有一个 label属性且类型为string的对象。 需要注意的是，我们在这里并不能像在其它语言里一样，说传给 printLabel的对象实现了这个接口。我们只会去关注值的外形。 只要传入的对象满足上面提到的必要条件，那么它就是被允许的。\n",
    "\n",
    "还有一点值得提的是，类型检查器不会去检查属性的顺序，只要相应的属性存在并且类型也是对的就可以。"
   ]
  },
  {
   "cell_type": "markdown",
   "metadata": {},
   "source": [
    "## 可选属性\n",
    "\n",
    "接口里的属性不全都是必需的。 有些是只在某些条件下存在，或者根本不存在。 可选属性在应用“option bags”模式时很常用，即给函数传入的参数对象中只有部分属性赋值了"
   ]
  },
  {
   "cell_type": "code",
   "execution_count": 25,
   "metadata": {},
   "outputs": [
    {
     "data": {
      "text/plain": [
       "'use strict'"
      ]
     },
     "execution_count": 25,
     "metadata": {},
     "output_type": "execute_result"
    }
   ],
   "source": [
    "interface SquareConfig {\n",
    "  color?: string;\n",
    "  width?: number;\n",
    "}\n",
    "\n",
    "function createSquare(config: SquareConfig): {color: string; area: number} {\n",
    "  let newSquare = {color: \"white\", area: 100};\n",
    "  if (config.color) {\n",
    "    newSquare.color = config.color;\n",
    "  }\n",
    "  if (config.width) {\n",
    "    newSquare.area = config.width * config.width;\n",
    "  }\n",
    "  return newSquare;\n",
    "}"
   ]
  },
  {
   "cell_type": "code",
   "execution_count": 26,
   "metadata": {},
   "outputs": [
    {
     "data": {
      "text/plain": [
       "'use strict'"
      ]
     },
     "execution_count": 26,
     "metadata": {},
     "output_type": "execute_result"
    }
   ],
   "source": [
    "let mySquare = createSquare({color: \"black\"});"
   ]
  },
  {
   "cell_type": "code",
   "execution_count": 27,
   "metadata": {},
   "outputs": [
    {
     "data": {
      "text/plain": [
       "{ color: 'black', area: 100 }"
      ]
     },
     "execution_count": 27,
     "metadata": {},
     "output_type": "execute_result"
    }
   ],
   "source": [
    "mySquare"
   ]
  },
  {
   "cell_type": "markdown",
   "metadata": {},
   "source": [
    "带有可选属性的接口与普通的接口定义差不多，只是在可选属性名字定义的后面加一个?符号。\n",
    "\n",
    "可选属性的好处之一是可以对可能存在的属性进行预定义，好处之二是可以捕获引用了不存在的属性时的错误。 比如，我们故意将 createSquare里的color属性名拼错，就会得到一个错误提示"
   ]
  },
  {
   "cell_type": "markdown",
   "metadata": {},
   "source": [
    "有时我们并不清楚会不会有其他属性加入,这时就可以使用**字符串索引签名**,\n",
    "如果 SquareConfig带有上面定义的类型的color和width属性，并且还会带有任意数量的其它属性，那么我们可以这样定义它"
   ]
  },
  {
   "cell_type": "code",
   "execution_count": 32,
   "metadata": {},
   "outputs": [
    {
     "data": {
      "text/plain": [
       "'use strict'"
      ]
     },
     "execution_count": 32,
     "metadata": {},
     "output_type": "execute_result"
    }
   ],
   "source": [
    "interface SquareConfig {\n",
    "    color?: string;\n",
    "    width?: number;\n",
    "    [propName: string]: any;\n",
    "}\n"
   ]
  },
  {
   "cell_type": "markdown",
   "metadata": {},
   "source": [
    "这样定义的话SquareConfig可以有任意数量的属性，并且只要它们不是color和width，那么就无所谓它们的类型是什么。"
   ]
  },
  {
   "cell_type": "markdown",
   "metadata": {},
   "source": [
    "## 可索引的类型\n",
    "\n",
    "上面使用的`[propName: string]: any;`就是可索引类型,它描述了对象索引的类型，还有相应的索引返回值类型.\n",
    "\n",
    "字符串索引签名能够很好的描述dictionary模式，并且它们也会确保所有属性与其返回值类型相匹配。 因为字符串索引声明了 obj.property和obj[\"property\"]两种形式都可以。 下面的例子里， name的类型与字符串索引类型不匹配，所以类型检查器给出一个错误提示："
   ]
  },
  {
   "cell_type": "code",
   "execution_count": 34,
   "metadata": {},
   "outputs": [
    {
     "data": {
      "text/plain": [
       "'use strict'"
      ]
     },
     "execution_count": 34,
     "metadata": {},
     "output_type": "execute_result"
    }
   ],
   "source": [
    "interface NumberDictionary {\n",
    "  [index: string]: number;\n",
    "  length: number;    // 可以，length是number类型\n",
    "  name: string       // 错误，`name`的类型不是索引类型的子类型\n",
    "}"
   ]
  },
  {
   "cell_type": "markdown",
   "metadata": {},
   "source": [
    "## 只读属性\n",
    "\n",
    "\n",
    "一些对象属性只能在对象刚刚创建的时候修改其值。 你可以在属性名前用 readonly来指定只读属性,用法和类中一样.\n",
    "\n",
    "TypeScript具有`ReadonlyArray<T>`类型，它与`Array<T>`相似，只是把所有可变方法去掉了，因此可以确保数组创建后再也不能被修改"
   ]
  },
  {
   "cell_type": "code",
   "execution_count": 28,
   "metadata": {},
   "outputs": [
    {
     "data": {
      "text/plain": [
       "'use strict'"
      ]
     },
     "execution_count": 28,
     "metadata": {},
     "output_type": "execute_result"
    }
   ],
   "source": [
    "let a: number[] = [1, 2, 3, 4]\n",
    "let ro: ReadonlyArray<number> = a"
   ]
  },
  {
   "cell_type": "markdown",
   "metadata": {},
   "source": [
    "## 接口描述函数类型\n",
    "\n",
    "\n",
    "接口能够描述JavaScript中对象拥有的各种各样的外形。 除了描述带有属性的普通对象外，接口也可以描述函数类型。\n",
    "\n",
    "为了使用接口表示函数类型，我们需要给接口定义一个调用签名。 它就像是一个只有参数列表和返回值类型的函数定义。参数列表里的每个参数都需要名字和类型。"
   ]
  },
  {
   "cell_type": "code",
   "execution_count": 33,
   "metadata": {},
   "outputs": [
    {
     "data": {
      "text/plain": [
       "'use strict'"
      ]
     },
     "execution_count": 33,
     "metadata": {},
     "output_type": "execute_result"
    }
   ],
   "source": [
    "interface SearchFunc {\n",
    "  (source: string, subString: string): boolean\n",
    "}"
   ]
  },
  {
   "cell_type": "markdown",
   "metadata": {},
   "source": [
    "这样定义后，我们可以像使用其它接口一样使用这个函数类型的接口,对于函数类型的类型检查来说，函数的参数名不需要与接口里定义的名字相匹配,只要参数类型和返回值类型匹配即可"
   ]
  },
  {
   "cell_type": "markdown",
   "metadata": {},
   "source": [
    "## 扩展接口\n",
    "和类一样，接口也可以相互扩展。 这让我们能够从一个接口里复制成员到另一个接口里，可以更灵活地将接口分割到可重用的模块里。"
   ]
  },
  {
   "cell_type": "code",
   "execution_count": 35,
   "metadata": {},
   "outputs": [
    {
     "data": {
      "text/plain": [
       "10"
      ]
     },
     "execution_count": 35,
     "metadata": {},
     "output_type": "execute_result"
    }
   ],
   "source": [
    "interface Shape {\n",
    "    color: string;\n",
    "}\n",
    "\n",
    "interface Square extends Shape {\n",
    "    sideLength: number;\n",
    "}\n",
    "\n",
    "let square = <Square>{};\n",
    "square.color = \"blue\";\n",
    "square.sideLength = 10;"
   ]
  },
  {
   "cell_type": "markdown",
   "metadata": {},
   "source": [
    "## 实现接口\n",
    "\n",
    "与C#或Java里接口的基本作用一样，TypeScript也能够用它来明确的强制一个类去符合某种契约。"
   ]
  },
  {
   "cell_type": "code",
   "execution_count": 36,
   "metadata": {},
   "outputs": [
    {
     "data": {
      "text/plain": [
       "'use strict'"
      ]
     },
     "execution_count": 36,
     "metadata": {},
     "output_type": "execute_result"
    }
   ],
   "source": [
    "interface ClockInterface {\n",
    "    currentTime: Date;\n",
    "    setTime(d: Date);\n",
    "}\n",
    "\n",
    "class Clock implements ClockInterface {\n",
    "    currentTime: Date;\n",
    "    setTime(d: Date) {\n",
    "        this.currentTime = d;\n",
    "    }\n",
    "    constructor(h: number, m: number) { }\n",
    "}"
   ]
  }
 ],
 "metadata": {
  "anaconda-cloud": {},
  "kernelspec": {
   "display_name": "jp-Babel (Node.js)",
   "language": "babel",
   "name": "babel"
  },
  "language_info": {
   "file_extension": ".js",
   "mimetype": "application/javascript",
   "name": "javascript",
   "version": "8.10.0"
  }
 },
 "nbformat": 4,
 "nbformat_minor": 1
}
