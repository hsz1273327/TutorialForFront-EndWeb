{
 "cells": [
  {
   "cell_type": "markdown",
   "metadata": {},
   "source": [
    "# 枚举\n",
    "\n",
    "使用枚举我们可以定义一些有名字的数字常量。 枚举通过 enum关键字来定义。"
   ]
  },
  {
   "cell_type": "code",
   "execution_count": 1,
   "metadata": {},
   "outputs": [
    {
     "data": {
      "text/plain": [
       "undefined"
      ]
     },
     "execution_count": 1,
     "metadata": {},
     "output_type": "execute_result"
    }
   ],
   "source": [
    "enum Direction {\n",
    "    Up = 1,\n",
    "    Down,\n",
    "    Left,\n",
    "    Right\n",
    "}"
   ]
  },
  {
   "cell_type": "code",
   "execution_count": 3,
   "metadata": {},
   "outputs": [
    {
     "data": {
      "text/plain": [
       "'use strict'"
      ]
     },
     "execution_count": 3,
     "metadata": {},
     "output_type": "execute_result"
    }
   ],
   "source": [
    "let a = Direction"
   ]
  },
  {
   "cell_type": "code",
   "execution_count": 4,
   "metadata": {},
   "outputs": [
    {
     "data": {
      "text/plain": [
       "2"
      ]
     },
     "execution_count": 4,
     "metadata": {},
     "output_type": "execute_result"
    }
   ],
   "source": [
    "a.Down"
   ]
  },
  {
   "cell_type": "markdown",
   "metadata": {},
   "source": [
    "一个枚举类型可以包含零个或多个枚举成员。 枚举成员具有一个数字值，它可以是 常数或是计算得出的值 当满足如下条件时，枚举成员被当作是常数：\n",
    "\n",
    "+ 不具有初始化函数并且之前的枚举成员是常数。 在这种情况下，当前枚举成员的值为上一个枚举成员的值加1。 但第一个枚举元素是个例外。 如果它没有初始化方法，那么它的初始值为 0。\n",
    "\n",
    "+ 枚举成员使用常数枚举表达式初始化。 常数枚举表达式是TypeScript表达式的子集，它可以在编译阶段求值。 当一个表达式满足下面条件之一时，它就是一个常数枚举表达式：\n",
    "\n",
    "    + 数字字面量\n",
    "    + 引用之前定义的常数枚举成员（可以是在不同的枚举类型中定义的） 如果这个成员是在同一个枚举类型中定义的，可以使用非限定名来引用。\n",
    "    + 带括号的常数枚举表达式\n",
    "    + `+, -, ~` 一元运算符应用于常数枚举表达式\n",
    "    + `+, -, *, /, %, <<, >>, >>>, &, |, ^` 二元运算符，常数枚举表达式做为其一个操作对象 若常数枚举表达式求值后为 NaN或Infinity，则会在编译阶段报错。\n",
    "    \n",
    "    \n",
    "所有其它情况的枚举成员被当作是需要计算得出的值。"
   ]
  },
  {
   "cell_type": "code",
   "execution_count": 2,
   "metadata": {},
   "outputs": [
    {
     "data": {
      "text/plain": [
       "undefined"
      ]
     },
     "execution_count": 2,
     "metadata": {},
     "output_type": "execute_result"
    }
   ],
   "source": [
    "enum FileAccess {\n",
    "    // constant members\n",
    "    None,\n",
    "    Read    = 1 << 1,\n",
    "    Write   = 1 << 2,\n",
    "    ReadWrite  = Read | Write\n",
    "    // computed member\n",
    "    G = \"123\".length\n",
    "}"
   ]
  },
  {
   "cell_type": "code",
   "execution_count": 5,
   "metadata": {},
   "outputs": [
    {
     "data": {
      "text/plain": [
       "'use strict'"
      ]
     },
     "execution_count": 5,
     "metadata": {},
     "output_type": "execute_result"
    }
   ],
   "source": [
    "let a = FileAccess"
   ]
  },
  {
   "cell_type": "code",
   "execution_count": 8,
   "metadata": {},
   "outputs": [
    {
     "name": "stdout",
     "output_type": "stream",
     "text": [
      "0\n",
      "2\n",
      "3\n",
      "4\n",
      "6\n",
      "None\n",
      "Read\n",
      "Write\n",
      "ReadWrite\n",
      "G\n"
     ]
    },
    {
     "data": {
      "text/plain": [
       "undefined"
      ]
     },
     "execution_count": 8,
     "metadata": {},
     "output_type": "execute_result"
    }
   ],
   "source": [
    "for (let i in a){\n",
    " console.log(i)\n",
    "}"
   ]
  }
 ],
 "metadata": {
  "kernelspec": {
   "display_name": "Typescript 2.1",
   "language": "typescript",
   "name": "typescript"
  },
  "language_info": {
   "file_extension": ".ts",
   "mimetype": "text/x-typescript",
   "name": "typescript",
   "version": "2.1.4"
  }
 },
 "nbformat": 4,
 "nbformat_minor": 1
}
