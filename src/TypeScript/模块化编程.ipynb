{
 "cells": [
  {
   "cell_type": "markdown",
   "metadata": {},
   "source": [
    "# 模块化编程\n",
    "\n",
    "ES6的模块功能并没有被node.js原生支持,因此我们会讲两种模块化的方式\n",
    "\n",
    "+ 一种是ES6的import/export方式\n",
    "    \n",
    "    这种方式只能依靠babel转码实现\n",
    "    \n",
    "+ 一种是node.js原生支持的commonjs方式\n",
    "    \n",
    "    node.js原生支持的方式,在浏览器中需要使用使用babel转码y也可以用webpack来实现"
   ]
  },
  {
   "cell_type": "markdown",
   "metadata": {},
   "source": [
    "# import/export方式"
   ]
  },
  {
   "cell_type": "markdown",
   "metadata": {},
   "source": [
    "ES6模块功能主要由两个命令构成：export和import。\n",
    "\n",
    "+ export命令用于规定模块的对外接口\n",
    "+ import命令用于输入其他模块提供的功能。\n",
    "\n",
    "ES6模块不是对象，而是通过export命令显式指定输出的代码，输入时也采用静态命令的形式。\n",
    "\n",
    "ES6采用的是编译时加载,即可以在编译时就完成模块加载，效率要比CommonJS模块的加载方式高。当然，这也导致了没法引用ES6模块本身，因为它不是对象。\n",
    "\n",
    "由于ES6模块是编译时加载，使得静态分析成为可能。有了它，就能进一步拓宽JavaScript的语法，比如引入宏（macro）和类型检验（type system）这些只能靠静态分析实现的功能。\n",
    "\n",
    "除了静态加载带来的各种好处，ES6模块还有以下好处。\n",
    "\n",
    "不再需要UMD模块格式了，将来服务器和浏览器都会支持ES6模块格式。目前，通过各种工具库，其实已经做到了这一点。\n",
    "将来浏览器的新API就能用模块格式提供，不再必要做成全局变量或者navigator对象的属性。\n",
    "不再需要对象作为命名空间（比如Math对象），未来这些功能可以通过模块提供。\n",
    "\n",
    "从本质来讲,ES6模块加载的机制其实是--模块输出值的引用。\n",
    "\n",
    "\n"
   ]
  },
  {
   "cell_type": "markdown",
   "metadata": {},
   "source": [
    "# export\n",
    "\n",
    "一个模块就是一个独立的文件。该文件内部的所有变量，外部无法获取。如果你希望外部能够读取模块内部的某个变量，就必须使用export关键字输出该变量。下面是一个JS文件，里面使用export命令输出变量。\n",
    "\n",
    "```javascript\n",
    "// profile.js\n",
    "export var firstName = 'Michael'\n",
    "export var lastName = 'Jackson'\n",
    "export var year = 1958\n",
    "```"
   ]
  },
  {
   "cell_type": "markdown",
   "metadata": {},
   "source": [
    "上面代码是profile.js文件，保存了用户信息。ES6将其视为一个模块，里面用export命令对外部输出了三个变量。\n",
    "\n",
    "export的写法，除了像上面这样，还有另外一种。"
   ]
  },
  {
   "cell_type": "markdown",
   "metadata": {},
   "source": [
    "```javascript\n",
    "// profile.js\n",
    "var firstName = 'Michael';\n",
    "var lastName = 'Jackson';\n",
    "var year = 1958;\n",
    "\n",
    "export {firstName, lastName, year};\n",
    "```"
   ]
  },
  {
   "cell_type": "markdown",
   "metadata": {},
   "source": [
    "个人更加喜欢第一种,并且比较推荐把要export的内容写在最后需要的写在前面\n",
    "\n",
    "export命令除了输出变量，还可以输出函数或类(class),简单说对象都可以作为输出\n",
    "\n",
    "```javascript\n",
    "export function multiply (x, y) {\n",
    "  return x * y;\n",
    "};\n",
    "```"
   ]
  },
  {
   "cell_type": "markdown",
   "metadata": {},
   "source": [
    "另外export输出的值是动态绑定的,即通过该接口，可以取到模块内部实时的值。\n",
    "export命令可以出现在模块的任何位置，只要处于模块顶层就可以。如果处于块级作用域内，就会报错，import命令也是如此。这是因为处于条件代码块之中，就没法做静态优化了，违背了ES6模块的设计初衷。"
   ]
  },
  {
   "cell_type": "markdown",
   "metadata": {},
   "source": [
    "## export default\n",
    "从前面的例子可以看出，使用import命令的时候，用户需要知道所要加载的变量名或函数名，否则无法加载。但是，用户肯定希望快速上手，未必愿意阅读文档，去了解模块有哪些属性和方法。\n",
    "\n",
    "为了给用户提供方便，让他们不用阅读文档就能加载模块，就要用到export default命令，为模块指定默认输出。"
   ]
  },
  {
   "cell_type": "markdown",
   "metadata": {},
   "source": [
    "```javascript\n",
    "export default function () {\n",
    "  console.log('foo');\n",
    "}\n",
    "```"
   ]
  },
  {
   "cell_type": "markdown",
   "metadata": {},
   "source": [
    "其他模块加载该模块时，import命令可以为该匿名函数指定任意名字。\n",
    "\n",
    "本质上，export default就是输出一个叫做default的变量或方法，然后系统允许你为它取任意名字\n",
    "\n",
    "有了export default命令，输入模块时就非常直观了，以输入jQuery模块为例。\n",
    "\n",
    "```javascript\n",
    "import $ from 'jquery'\n",
    "```"
   ]
  },
  {
   "cell_type": "markdown",
   "metadata": {},
   "source": [
    "# import"
   ]
  },
  {
   "cell_type": "markdown",
   "metadata": {},
   "source": [
    "import命令\n",
    "使用export命令定义了模块的对外接口以后，其他JS文件就可以通过import命令加载这个模块（文件）。\n",
    "\n",
    "```javascript\n",
    "import {firstName, lastName, year} from './profile';\n",
    "\n",
    "```"
   ]
  },
  {
   "cell_type": "markdown",
   "metadata": {},
   "source": [
    "# 模块的整体加载\n",
    "\n",
    "除了指定加载某个输出值，还可以使用整体加载，即用星号（*）指定一个对象，所有输出值都加载在这个对象上面。\n",
    "\n",
    "下面是一个circle.js文件，它输出两个方法area和circumference。\n",
    "\n",
    "```javascript\n",
    "// circle.js\n",
    "\n",
    "export function area(radius) {\n",
    "  return Math.PI * radius * radius;\n",
    "}\n",
    "\n",
    "export function circumference(radius) {\n",
    "  return 2 * Math.PI * radius;\n",
    "}\n",
    "```\n",
    "\n",
    "现在，加载这个模块。\n",
    "\n",
    "+ 逐一加载\n",
    "\n",
    "```javascript\n",
    "import { area, circumference } from './circle';\n",
    "```\n",
    "\n",
    "+ 整体加载\n",
    "\n",
    "```javascript\n",
    "import * as circle from './circle';\n",
    "```\n",
    "\n"
   ]
  },
  {
   "cell_type": "markdown",
   "metadata": {},
   "source": [
    "# as关键字\n",
    "\n",
    "和python一样,js允许在模块输入或者输出时使用as关键字修改名字"
   ]
  },
  {
   "cell_type": "markdown",
   "metadata": {},
   "source": [
    "输入:\n",
    "\n",
    "```javascript\n",
    "import * as circle from './circle'\n",
    "```\n",
    "\n",
    "输出:\n",
    "\n",
    "```javascript\n",
    "function add(x, y) {\n",
    "  return x * y;\n",
    "};\n",
    "export {add as plus};\n",
    "```"
   ]
  },
  {
   "cell_type": "markdown",
   "metadata": {},
   "source": [
    "#  处理循环引用\n",
    "\n",
    "循环引用意味着强耦合\n",
    "\n",
    "python中循环引用模块是不允许的,除非在local作用域中引用.而事实上一些复杂的问题循环引用不可避免,否则会多出大量的结构代码.\n",
    "\n",
    "ES6模块是动态引用(lazy)，遇到模块加载命令import时，不会去执行模块，只是生成一个指向被加载模块的引用，需要开发者自己保证，真正取值的时候能够取到值。\n",
    "因此,用好这个特性是可以循环引用的,但是当然,最好还是别循环引用\n"
   ]
  },
  {
   "cell_type": "markdown",
   "metadata": {},
   "source": [
    "# CommonJs方式"
   ]
  },
  {
   "cell_type": "markdown",
   "metadata": {},
   "source": [
    "因为ES6标准太新,多数情况下可能还是要使用CommonJs的方式来完成团队协作"
   ]
  },
  {
   "cell_type": "markdown",
   "metadata": {},
   "source": [
    "## 定义一个模块"
   ]
  },
  {
   "cell_type": "markdown",
   "metadata": {},
   "source": [
    "在Node.js中,定义一个模块十分方便。我们以计算圆的面积和周长两个方法为例,来表现Node.js中模块的定义方式。"
   ]
  },
  {
   "cell_type": "markdown",
   "metadata": {},
   "source": [
    "code/c15/circle.js\n",
    "```js\n",
    "\"use strict\"\n",
    "exports.area = (r)=>{\n",
    "    return Math.PI*Math.pow(r,2)\n",
    "}\n",
    "exports.circumference = (r) => {\n",
    "    return 2 * Math.PI * r\n",
    "}\n",
    "\n",
    "exports.createpoint =  function(x,y){\n",
    "    let point = function(x,y){\n",
    "        this.x = x\n",
    "        this.y = y\n",
    "        this.add = function(that){\n",
    "            let x = this.x+that.x\n",
    "            let y = this.y+that.y\n",
    "            return new point(x,y)\n",
    "        }\n",
    "    }\n",
    "    //protopye中定义类方法和重载一些方法\n",
    "    point.prototype.toString=function(){\n",
    "        return '(' + this.x + ', ' + this.y + ')'\n",
    "    }\n",
    "    return new point(x,y)\n",
    "}\n",
    "\n",
    "```"
   ]
  },
  {
   "cell_type": "markdown",
   "metadata": {},
   "source": [
    "## 使用一个模块"
   ]
  },
  {
   "cell_type": "code",
   "execution_count": 25,
   "metadata": {},
   "outputs": [
    {
     "name": "stdout",
     "output_type": "stream",
     "text": [
      "The area of a circle of radius 4 is50.26548245743669\n"
     ]
    },
    {
     "data": {
      "text/plain": [
       "undefined"
      ]
     },
     "execution_count": 25,
     "metadata": {},
     "output_type": "execute_result"
    }
   ],
   "source": [
    "const circle = require('./code/c15/circle.js')\n",
    "console.log( 'The area of a circle of radius 4 is'+ circle.area(4))"
   ]
  },
  {
   "cell_type": "code",
   "execution_count": 3,
   "metadata": {},
   "outputs": [
    {
     "data": {
      "text/plain": [
       "'use strict'"
      ]
     },
     "execution_count": 3,
     "metadata": {},
     "output_type": "execute_result"
    }
   ],
   "source": [
    "const circle = require('./code/c15/circle.js')\n",
    "let a = circle.createpoint(1,2)"
   ]
  },
  {
   "cell_type": "code",
   "execution_count": 4,
   "metadata": {},
   "outputs": [
    {
     "data": {
      "text/plain": [
       "{ x: 1, y: 2, add: [Function] }"
      ]
     },
     "execution_count": 4,
     "metadata": {},
     "output_type": "execute_result"
    }
   ],
   "source": [
    "a"
   ]
  },
  {
   "cell_type": "code",
   "execution_count": 23,
   "metadata": {},
   "outputs": [
    {
     "ename": "TypeError",
     "evalue": "r is not a function",
     "output_type": "error",
     "traceback": [
      "TypeError: r is not a function",
      "    at evalmachine.<anonymous>:3:1",
      "    at Object.exports.runInThisContext (vm.js:54:17)",
      "    at run ([eval]:192:19)",
      "    at onMessage ([eval]:63:41)",
      "    at emitTwo (events.js:87:13)",
      "    at process.emit (events.js:172:7)",
      "    at handleMessage (internal/child_process.js:695:10)",
      "    at Pipe.channel.onread (internal/child_process.js:440:11)"
     ]
    }
   ],
   "source": [
    "r()"
   ]
  },
  {
   "cell_type": "markdown",
   "metadata": {},
   "source": [
    "注意,定义模块的时候\"类\"是无法被定义的,所以必须使用在面向对象那节讲的ES6之前的那种写法,将类包在方法中"
   ]
  }
 ],
 "metadata": {
  "kernelspec": {
   "display_name": "jp-Babel (Node.js)",
   "language": "babel",
   "name": "babel"
  },
  "language_info": {
   "file_extension": ".js",
   "mimetype": "application/javascript",
   "name": "javascript",
   "version": "8.10.0"
  }
 },
 "nbformat": 4,
 "nbformat_minor": 1
}
