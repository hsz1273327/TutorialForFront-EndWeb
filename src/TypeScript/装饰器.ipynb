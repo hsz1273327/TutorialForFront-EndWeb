{
 "cells": [
  {
   "cell_type": "markdown",
   "metadata": {},
   "source": [
    "# 装饰器\n",
    "\n",
    "随着TypeScript和ES6里引入了类,在一些场景下我们需要额外的特性来支持标注或修改类及其成员.\n",
    "\n",
    "装饰器(Decorators)为我们在类的声明及成员上通过元编程语法添加标注提供了一种方式.Javascript里的装饰器目前处在建议征集的第二阶段,但在TypeScript里已做为一项实验性特性予以支持.\n",
    "\n",
    "\n",
    "装饰器是一种特殊类型的声明,它能够被附加到类声明,方法,访问符,属性或参数上.和python中一样,装饰器使用`@expression`这种形式,expression求值后必须为一个函数,它会在运行时被调用,被装饰的声明信息做为参数传入.\n",
    "\n",
    "要在typescript中使用装饰器,需要在tsconfig.json中申明:\n",
    "\n",
    "```json\n",
    "{\n",
    "    \"compilerOptions\": {\n",
    "        \"target\": \"ES5\",\n",
    "        \"experimentalDecorators\": true\n",
    "    }\n",
    "}\n",
    "```\n",
    "\n",
    "本质上装饰器是一个闭包的语法糖.因此js中的装饰器也可以像python中的一样含参数,型如`@d1(1)`,这种带参数的装饰器被称作装饰器工厂函数."
   ]
  },
  {
   "cell_type": "markdown",
   "metadata": {},
   "source": [
    "## 类装饰器\n",
    "\n",
    "类装饰器应用于类构造函数,可以用来监视,修改或替换类定义.\n",
    "\n",
    "类装饰器表达式会在运行时当作函数被调用,类的构造函数作为其唯一的参数.\n",
    "\n",
    "如果类装饰器返回一个值,它会使用提供的构造函数来替换类的声明.\n",
    "\n",
    "注意:如果你要返回一个新的构造函数,你必须注意处理好原来的原型链.在运行时的装饰器调用逻辑中不会为你做这些\n",
    "\n",
    "```js\n",
    "function sealed(target) {\n",
    "    // do something with \"target\" ...\n",
    "}\n",
    "\n",
    "\n",
    "@sealed\n",
    "class Greeter {\n",
    "    greeting: string;\n",
    "    constructor(message: string) {\n",
    "        this.greeting = message;\n",
    "    }\n",
    "    greet() {\n",
    "        return \"Hello, \" + this.greeting;\n",
    "    }\n",
    "}\n",
    "```"
   ]
  },
  {
   "cell_type": "markdown",
   "metadata": {},
   "source": [
    "## 方法装饰器\n",
    "\n",
    "它会被应用到方法的 属性描述符上，可以用来监视，修改或者替换方法定义\n",
    "\n",
    "方法装饰器表达式会在运行时当作函数被调用，传入下列3个参数：\n",
    "\n",
    "+ 对于静态成员来说是类的构造函数，对于实例成员是类的原型对象。\n",
    "+ 成员的名字。\n",
    "+ 成员的属性描述符。\n",
    "\n",
    "如果方法装饰器返回一个值，它会被用作方法的属性描述符。\n",
    "\n",
    "\n",
    "\n",
    "```js\n",
    "class Greeter {\n",
    "    greeting: string;\n",
    "    constructor(message: string) {\n",
    "        this.greeting = message;\n",
    "    }\n",
    "\n",
    "    @enumerable(false)\n",
    "    greet() {\n",
    "        return \"Hello, \" + this.greeting;\n",
    "    }\n",
    "}\n",
    "```"
   ]
  },
  {
   "cell_type": "markdown",
   "metadata": {},
   "source": [
    "## 访问器装饰器\n",
    "\n",
    "类似python中的`@property`访问器装饰器应用于访问器的 属性描述符并且可以用来监视，修改或替换一个访问器的定义\n",
    "\n",
    "TypeScript不允许同时装饰一个成员的get和set访问器。取而代之的是，一个成员的所有装饰的必须应用在文档顺序的第一个访问器上。这是因为，在装饰器应用于一个属性描述符时，它联合了get和set访问器，而不是分开声明的。\n",
    "\n",
    "访问器装饰器表达式会在运行时当作函数被调用，传入下列3个参数：\n",
    "\n",
    "+ 对于静态成员来说是类的构造函数，对于实例成员是类的原型对象。\n",
    "+ 成员的名字。\n",
    "+ 成员的属性描述符。"
   ]
  },
  {
   "cell_type": "markdown",
   "metadata": {},
   "source": [
    "## 属性装饰器\n",
    "\n",
    "属性装饰器表达式会在运行时当作函数被调用，传入下列2个参数：\n",
    "\n",
    "+ 对于静态成员来说是类的构造函数，对于实例成员是类的原型对象。\n",
    "+ 成员的名字。\n",
    "\n",
    "如果属性装饰器返回一个值，它会被用作方法的属性描述符\n",
    "\n",
    "```js\n",
    "class Greeter {\n",
    "    @format(\"Hello, %s\")\n",
    "    greeting: string;\n",
    "\n",
    "    constructor(message: string) {\n",
    "        this.greeting = message;\n",
    "    }\n",
    "    greet() {\n",
    "        let formatString = getFormat(this, \"greeting\");\n",
    "        return formatString.replace(\"%s\", this.greeting);\n",
    "    }\n",
    "}\n",
    "```"
   ]
  },
  {
   "cell_type": "markdown",
   "metadata": {
    "collapsed": true
   },
   "source": [
    "## 参数装饰器\n",
    "\n",
    "参数装饰器应用于类构造函数或方法声明\n",
    "\n",
    "参数装饰器表达式会在运行时当作函数被调用，传入下列3个参数：\n",
    "\n",
    "+ 对于静态成员来说是类的构造函数，对于实例成员是类的原型对象。\n",
    "+ 成员的名字。\n",
    "+ 参数在函数参数列表中的索引。\n",
    "\n",
    "\n",
    "```js\n",
    "class Greeter {\n",
    "    greeting: string;\n",
    "\n",
    "    constructor(message: string) {\n",
    "        this.greeting = message;\n",
    "    }\n",
    "\n",
    "    @validate\n",
    "    greet(@required name: string) {\n",
    "        return \"Hello \" + name + \", \" + this.greeting;\n",
    "    }\n",
    "}\n",
    "\n",
    "\n",
    "```"
   ]
  },
  {
   "cell_type": "markdown",
   "metadata": {},
   "source": [
    "## 已经实现的装饰器\n",
    "\n",
    "[core-decorators.js](https://github.com/jayphelps/core-decorators.js)提供了很多实用的装饰器,我们可以直接拿来使用"
   ]
  }
 ],
 "metadata": {
  "anaconda-cloud": {},
  "kernelspec": {
   "display_name": "jp-Babel (Node.js)",
   "language": "babel",
   "name": "babel"
  },
  "language_info": {
   "file_extension": ".js",
   "mimetype": "application/javascript",
   "name": "javascript",
   "version": "13.8.0"
  }
 },
 "nbformat": 4,
 "nbformat_minor": 1
}
