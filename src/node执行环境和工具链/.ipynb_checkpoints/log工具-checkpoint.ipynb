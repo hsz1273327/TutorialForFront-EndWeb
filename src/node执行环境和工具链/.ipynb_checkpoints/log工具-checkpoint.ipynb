{
 "cells": [
  {
   "cell_type": "markdown",
   "metadata": {},
   "source": [
    "# log工具\n",
    "\n",
    "由于js在设计之初是作为浏览器脚本的,因此还是预留了调试用的log模块`console`的.但它是不完备的,它无法为log设定显示等级,也无法将log输出至文件或者其他媒介.个人认为输出至其他媒介并不是log模块本身最关心的,但没法设置log的显示等级是非常不现代的.\n",
    "\n",
    "还是得吐槽下js的简陋,连log工具功能都不齐.\n",
    "\n",
    "## console对象\n",
    "\n",
    "`console`是指的控制台,js是单线程的,因此它的log其实和python中的`print`差不多,就是将文本信息输出到特定位置而已,在浏览器中就是控制台,在node.js中就是terminal的标准输入输出.\n",
    "\n",
    "如果使用typescript,console不会默认存在,需要`lib`中引入`DOM`才会可用.\n",
    "\n",
    "### log分级\n",
    "\n",
    "实际上标准的log是有分级的,标准是4个等级:"
   ]
  },
  {
   "cell_type": "code",
   "execution_count": 1,
   "metadata": {},
   "outputs": [
    {
     "name": "stdout",
     "output_type": "stream",
     "text": [
      "文字信息\n"
     ]
    }
   ],
   "source": [
    "console.log('文字信息')"
   ]
  },
  {
   "cell_type": "code",
   "execution_count": 2,
   "metadata": {},
   "outputs": [
    {
     "name": "stdout",
     "output_type": "stream",
     "text": [
      "提示信息\n"
     ]
    }
   ],
   "source": [
    "console.info('提示信息')"
   ]
  },
  {
   "cell_type": "code",
   "execution_count": 3,
   "metadata": {},
   "outputs": [
    {
     "name": "stderr",
     "output_type": "stream",
     "text": [
      "警告信息\n"
     ]
    }
   ],
   "source": [
    "console.warn('警告信息')"
   ]
  },
  {
   "cell_type": "code",
   "execution_count": 4,
   "metadata": {},
   "outputs": [
    {
     "name": "stderr",
     "output_type": "stream",
     "text": [
      "错误信息\n"
     ]
    }
   ],
   "source": [
    "console.error('错误信息')"
   ]
  },
  {
   "cell_type": "markdown",
   "metadata": {},
   "source": [
    "#### log的格式化输出\n",
    "\n",
    "占位符\t|含义\n",
    "---|---\n",
    "`%s`|符串输出\n",
    "`%d or %i`|整数输出\n",
    "`%f`|浮点数输出\n",
    "`%o`|打印javascript对象，可以是整数、字符串以及JSON数据\n"
   ]
  },
  {
   "cell_type": "markdown",
   "metadata": {},
   "source": [
    "### 分组输出\n",
    "\n",
    "所谓是分组其实就是缩进.分组可以多层嵌套\n",
    "\n",
    "使用`console.group()`和`console.groupEnd()`包裹分组内容.\n",
    "\n",
    "还可以使用`console.groupCollapsed()`来代替`console.group()`生成折叠的分组.\n",
    "\n",
    "这种用法有点像python中上下文的感觉.\n"
   ]
  },
  {
   "cell_type": "code",
   "execution_count": 5,
   "metadata": {},
   "outputs": [
    {
     "name": "stdout",
     "output_type": "stream",
     "text": [
      "第一个组\n",
      "  1-1\n",
      "  1-2\n",
      "  1-3\n",
      "第二个组\n",
      "  2-1\n",
      "  2-2\n",
      "  2-3\n"
     ]
    }
   ],
   "source": [
    "console.group('第一个组')\n",
    "console.log(\"1-1\")\n",
    "console.log(\"1-2\")\n",
    "console.log(\"1-3\")\n",
    "console.groupEnd()\n",
    "\n",
    "console.groupCollapsed('第二个组')\n",
    "console.log(\"2-1\")\n",
    "console.log(\"2-2\")\n",
    "console.log(\"2-3\")\n",
    "console.groupEnd()"
   ]
  },
  {
   "cell_type": "markdown",
   "metadata": {},
   "source": [
    "### 表格输出\n",
    "\n",
    "使用console.table()可以将传入的对象,Map或数组以表格形式输出,这个函数适合输出格式化数据"
   ]
  },
  {
   "cell_type": "code",
   "execution_count": 6,
   "metadata": {},
   "outputs": [
    {
     "name": "stdout",
     "output_type": "stream",
     "text": [
      "┌─────────┬────────┐\n",
      "│ (index) │ Values │\n",
      "├─────────┼────────┤\n",
      "│    a    │   \u001b[33m1\u001b[39m    │\n",
      "│    b    │   \u001b[33m2\u001b[39m    │\n",
      "└─────────┴────────┘\n"
     ]
    }
   ],
   "source": [
    "console.table({\n",
    "    a:1,\n",
    "    b:2\n",
    "})"
   ]
  },
  {
   "cell_type": "code",
   "execution_count": 7,
   "metadata": {},
   "outputs": [
    {
     "name": "stdout",
     "output_type": "stream",
     "text": [
      "┌─────────┬────────┐\n",
      "│ (index) │ Values │\n",
      "├─────────┼────────┤\n",
      "│    0    │   \u001b[33m1\u001b[39m    │\n",
      "│    1    │   \u001b[33m2\u001b[39m    │\n",
      "│    2    │   \u001b[33m3\u001b[39m    │\n",
      "│    3    │   \u001b[33m4\u001b[39m    │\n",
      "└─────────┴────────┘\n"
     ]
    }
   ],
   "source": [
    "console.table([1,2,3,4])"
   ]
  },
  {
   "cell_type": "code",
   "execution_count": 8,
   "metadata": {},
   "outputs": [
    {
     "name": "stdout",
     "output_type": "stream",
     "text": [
      "┌───────────────────┬─────────┬────────┐\n",
      "│ (iteration index) │   Key   │ Values │\n",
      "├───────────────────┼─────────┼────────┤\n",
      "│         \u001b[33m0\u001b[39m         │  \u001b[32m'one'\u001b[39m  │   \u001b[33m1\u001b[39m    │\n",
      "│         \u001b[33m1\u001b[39m         │  \u001b[32m'two'\u001b[39m  │   \u001b[33m2\u001b[39m    │\n",
      "│         \u001b[33m2\u001b[39m         │ \u001b[32m'three'\u001b[39m │   \u001b[33m3\u001b[39m    │\n",
      "└───────────────────┴─────────┴────────┘\n"
     ]
    }
   ],
   "source": [
    "console.table(new Map([['one',1], ['two', 2], ['three', 3]]))"
   ]
  },
  {
   "cell_type": "code",
   "execution_count": 9,
   "metadata": {},
   "outputs": [
    {
     "name": "stdout",
     "output_type": "stream",
     "text": [
      "┌───────────────────┬────────┐\n",
      "│ (iteration index) │ Values │\n",
      "├───────────────────┼────────┤\n",
      "│         \u001b[33m0\u001b[39m         │  \u001b[32m'a'\u001b[39m   │\n",
      "│         \u001b[33m1\u001b[39m         │  \u001b[32m'b'\u001b[39m   │\n",
      "│         \u001b[33m2\u001b[39m         │  \u001b[32m'c'\u001b[39m   │\n",
      "└───────────────────┴────────┘\n"
     ]
    }
   ],
   "source": [
    "console.table(new Set([\"a\",\"b\",\"c\"]))"
   ]
  },
  {
   "cell_type": "markdown",
   "metadata": {},
   "source": [
    "### 查看对象\n",
    "\n",
    "使用Console.dir()显示一个对象的所有属性和方法,这个就有点像python中的dir(obj)"
   ]
  },
  {
   "cell_type": "code",
   "execution_count": 10,
   "metadata": {},
   "outputs": [
    {
     "name": "stdout",
     "output_type": "stream",
     "text": [
      "{ a: \u001b[33m1\u001b[39m, b: \u001b[33m2\u001b[39m, c: \u001b[36m[Function: c]\u001b[39m }\n"
     ]
    }
   ],
   "source": [
    "console.dir({\n",
    "    a:1,\n",
    "    b:2,\n",
    "    c:()=>1\n",
    "})"
   ]
  },
  {
   "cell_type": "markdown",
   "metadata": {},
   "source": [
    "### *查看dom节点\n",
    "\n",
    "`console.dirxml()`这个接口算是浏览器脚本时代遗留的特有接口,用于查看`html/xml`生成的dom节点"
   ]
  },
  {
   "cell_type": "code",
   "execution_count": 11,
   "metadata": {},
   "outputs": [
    {
     "name": "stdout",
     "output_type": "stream",
     "text": [
      "<ul id=\"box\">\n",
      "  <li>蚂蚁部落一</li>\n",
      "  <li>蚂蚁部落二</li>\n",
      "  <li>蚂蚁部落三</li>\n",
      "  <li>蚂蚁部落四</li>\n",
      "</ul>\n"
     ]
    }
   ],
   "source": [
    "console.dirxml(`<ul id=\"box\">\n",
    "  <li>蚂蚁部落一</li>\n",
    "  <li>蚂蚁部落二</li>\n",
    "  <li>蚂蚁部落三</li>\n",
    "  <li>蚂蚁部落四</li>\n",
    "</ul>`)"
   ]
  },
  {
   "cell_type": "markdown",
   "metadata": {},
   "source": [
    "### 条件输出\n",
    "\n",
    "`console.assert(exp,msg)`这个接口在一定程度上式assert的替代"
   ]
  },
  {
   "cell_type": "code",
   "execution_count": 12,
   "metadata": {},
   "outputs": [],
   "source": [
    "console.assert(true, \"你永远看不见我\")"
   ]
  },
  {
   "cell_type": "code",
   "execution_count": 13,
   "metadata": {},
   "outputs": [
    {
     "name": "stderr",
     "output_type": "stream",
     "text": [
      "Assertion failed: 你永远看不见我\n"
     ]
    }
   ],
   "source": [
    "console.assert(false, \"你永远看不见我\")"
   ]
  },
  {
   "cell_type": "markdown",
   "metadata": {},
   "source": [
    "### 计次输出\n",
    "\n",
    "使用`console.count(tag)`输出内容和被调用的次数可以使用`console.countReset(tag)`重置被调用的次数"
   ]
  },
  {
   "cell_type": "code",
   "execution_count": 14,
   "metadata": {},
   "outputs": [
    {
     "name": "stdout",
     "output_type": "stream",
     "text": [
      "运行次数：: 1\n",
      "运行次数：: 2\n",
      "运行次数：: 3\n",
      "运行次数1：: 1\n"
     ]
    }
   ],
   "source": [
    "(()=> {\n",
    "    for(let i = 0; i < 3; i++){\n",
    "        console.count(\"运行次数：\")\n",
    "    }\n",
    "    console.count(\"运行次数1：\")\n",
    "})()"
   ]
  },
  {
   "cell_type": "markdown",
   "metadata": {},
   "source": [
    "### 追踪调用堆栈\n",
    "\n",
    "使用Console.trace()来追踪函数被调用的过程,在复杂项目时调用过程非常多,用这个命令可以查看到栈上的信息"
   ]
  },
  {
   "cell_type": "code",
   "execution_count": 15,
   "metadata": {},
   "outputs": [
    {
     "name": "stderr",
     "output_type": "stream",
     "text": [
      "Trace: Add function\n",
      "    at add (evalmachine.<anonymous>:3:13)\n",
      "    at add1 (evalmachine.<anonymous>:16:12)\n",
      "    at add2 (evalmachine.<anonymous>:12:12)\n",
      "    at add3 (evalmachine.<anonymous>:8:12)\n",
      "    at evalmachine.<anonymous>:19:9\n",
      "    at evalmachine.<anonymous>:22:3\n",
      "    at sigintHandlersWrap (vm.js:274:15)\n",
      "    at Script.runInContext (vm.js:128:14)\n",
      "    at Object.runInContext (vm.js:295:6)\n",
      "    at Object.execute (/usr/local/lib/node_modules/tslab/dist/executor.js:159:38)\n"
     ]
    }
   ],
   "source": [
    "const add=(a, b)=> {\n",
    "    console.trace(\"Add function\")\n",
    "    return a + b\n",
    "}\n",
    "\n",
    "const add3=(a, b)=> {\n",
    "    return add2(a, b)\n",
    "}\n",
    "\n",
    "const add2=(a, b)=> {\n",
    "    return add1(a, b)\n",
    "}\n",
    "\n",
    "const add1=(a, b) =>{\n",
    "    return add(a, b)\n",
    "}\n",
    "\n",
    "let x = add3(1, 1)"
   ]
  },
  {
   "cell_type": "markdown",
   "metadata": {},
   "source": [
    "### 计时功能\n",
    "\n",
    "使用`console.time(tag)`和`console.timeEnd(tag)`包裹需要计时的代码片段,输出运行这段代码的运行时间(毫秒记).一组time上下文使用tag参数做标识,一个tag就是一个计时器,最多同时运行10000个计时器.在其中可以插入`console.timeLog(tag, value)`\n"
   ]
  },
  {
   "cell_type": "code",
   "execution_count": 16,
   "metadata": {},
   "outputs": [
    {
     "name": "stdout",
     "output_type": "stream",
     "text": [
      "Chrome中循环1000次的时间: 8.58ms \u001b[33m0\u001b[39m\n",
      "Chrome中循环1000次的时间: 9.393ms \u001b[33m1\u001b[39m\n",
      "Chrome中循环1000次的时间: 9.985ms \u001b[33m2\u001b[39m\n",
      "Chrome中循环1000次的时间: 12.345ms \u001b[33m3\u001b[39m\n",
      "Chrome中循环1000次的时间: 13.694ms \u001b[33m4\u001b[39m\n",
      "Chrome中循环1000次的时间: 14.202ms \u001b[33m5\u001b[39m\n",
      "Chrome中循环1000次的时间: 14.646ms \u001b[33m6\u001b[39m\n",
      "Chrome中循环1000次的时间: 15.183ms \u001b[33m7\u001b[39m\n",
      "Chrome中循环1000次的时间: 15.648ms \u001b[33m8\u001b[39m\n",
      "Chrome中循环1000次的时间: 16.218ms \u001b[33m9\u001b[39m\n",
      "Chrome中循环1000次的时间: 16.904ms\n"
     ]
    }
   ],
   "source": [
    "console.time(\"Chrome中循环1000次的时间\")\n",
    "for(var i = 0; i < 10; i++)\n",
    "{\n",
    "console.timeLog(\"Chrome中循环1000次的时间\", i)\n",
    "}\n",
    "console.timeEnd(\"Chrome中循环1000次的时间\")"
   ]
  },
  {
   "cell_type": "markdown",
   "metadata": {},
   "source": [
    "### 性能分析\n",
    "\n",
    "使用`console.profile()`和`console.profileEnd()`进行性能分析,查看代码各部分运行消耗的时间.这个方法在node中需要使用`--inspect`标签打开调试模式才可以使用"
   ]
  },
  {
   "cell_type": "markdown",
   "metadata": {},
   "source": [
    "## 使用pino丰富服务端log\n",
    "\n",
    "因此这边推荐全平台的log工具.不过本文还是只讲标准的log生成对象`console`\n",
    "在浏览器环境下,默认的console模块就已经足够好用,但如果是服务端上,由于没有格式定义和level筛选,console模块就有点不够用了.我们可以使用[pino](https://www.npmjs.com/package/pino),这个是一个具备完整的log工具特性的log工具."
   ]
  },
  {
   "cell_type": "code",
   "execution_count": 1,
   "metadata": {},
   "outputs": [
    {
     "name": "stdout",
     "output_type": "stream",
     "text": [
      "{\"level\":30,\"time\":1581660580368,\"pid\":24419,\"hostname\":\"huangsizhes-MacBook-Air.local\",\"name\":\"myapp\",\"msg\":\"hi\",\"v\":1}\n",
      "{\"level\":40,\"time\":1581660580370,\"pid\":24419,\"hostname\":\"huangsizhes-MacBook-Air.local\",\"name\":\"myapp\",\"lang\":\"fr\",\"msg\":\"au revoir\",\"v\":1}\n"
     ]
    }
   ],
   "source": [
    "import pino from 'pino'\n",
    "\n",
    "const logger = pino({name:\"myapp\"})\n",
    "logger.info('hi')\n",
    "logger.warn({lang: 'fr'}, 'au revoir')"
   ]
  },
  {
   "cell_type": "code",
   "execution_count": 2,
   "metadata": {},
   "outputs": [
    {
     "data": {
      "text/plain": [
       "'info'"
      ]
     },
     "execution_count": 2,
     "metadata": {},
     "output_type": "execute_result"
    }
   ],
   "source": [
    "logger.level//查看当前的最低等级"
   ]
  },
  {
   "cell_type": "code",
   "execution_count": 3,
   "metadata": {},
   "outputs": [
    {
     "data": {
      "text/plain": [
       "'warn'"
      ]
     },
     "execution_count": 3,
     "metadata": {},
     "output_type": "execute_result"
    }
   ],
   "source": [
    "logger.level=\"warn\"//设置最低等级"
   ]
  },
  {
   "cell_type": "code",
   "execution_count": 4,
   "metadata": {},
   "outputs": [
    {
     "data": {
      "text/plain": [
       "'warn'"
      ]
     },
     "execution_count": 4,
     "metadata": {},
     "output_type": "execute_result"
    }
   ],
   "source": [
    "logger.level"
   ]
  },
  {
   "cell_type": "markdown",
   "metadata": {},
   "source": [
    "### typescript使用pino\n",
    "\n",
    "在typescript中我们需要额外安装pino的类型声明包`@types/pino`才能正常的使用pino.\n",
    "typescript中我们必须使用`import * as Pino from 'pino'`才可以正常的导入pino,,这个例子可以看分支[ts-pino]()\n"
   ]
  },
  {
   "cell_type": "code",
   "execution_count": null,
   "metadata": {},
   "outputs": [],
   "source": []
  }
 ],
 "metadata": {
  "kernelspec": {
   "display_name": "jp-Babel (Node.js)",
   "language": "babel",
   "name": "babel"
  },
  "language_info": {
   "file_extension": ".js",
   "mimetype": "application/javascript",
   "name": "javascript",
   "version": "13.8.0"
  }
 },
 "nbformat": 4,
 "nbformat_minor": 2
}
