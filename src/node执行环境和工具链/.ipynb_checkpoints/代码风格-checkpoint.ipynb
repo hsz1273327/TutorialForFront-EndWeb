{
 "cells": [
  {
   "cell_type": "markdown",
   "metadata": {},
   "source": [
    "# 代码风格\n",
    "\n",
    "JS作为一门很碎片化的编程语言,它的代码规范比较繁杂,很多公司都有自己的一套规范,本人的常用风格基本继承自python,总体的要点可以概括如下:\n",
    "\n",
    "\n",
    "1. 不使用var,尽量使用const\n",
    "\n",
    "2. 函数全局定义,使用function,在块域中尽量不要定义函数,非要定义就使用箭头函数,匿名函数尽量用箭头函数\n",
    "\n",
    "3. 4格缩进,`{`不放新行头放旧行尾\n",
    "\n",
    "4. 除了箭头函数表达式外所有要用`{}`都使用`{}`包裹\n",
    "\n",
    "5. 能用生成器的就不用容器,以减少内存使用\n",
    "\n",
    "6. 尽量单独使用小写字母l，大写字母O等容易混淆的字母。\n",
    "\n",
    "7. 文件命名尽量使用小写和-，如add_rule.js。\n",
    "\n",
    "8. 方法,函数命名使用Snake Case命名法，如function add_rule()\n",
    "\n",
    "9. 常量(全局的const)命名使用全部大写的方式,可以使用下划线\n",
    "\n",
    "10. 类命名使用Pascal命名法\n",
    "\n",
    "11. 类方法使用小驼峰命名法.\n",
    "\n"
   ]
  },
  {
   "cell_type": "markdown",
   "metadata": {},
   "source": [
    "## 风格检测工具\n",
    "\n",
    "因为我们有vscode,vscode有天生的对js和ts的支持.我们可以在vscode的配置中搜索javascript来配置基本的语法风格检测."
   ]
  }
 ],
 "metadata": {
  "kernelspec": {
   "display_name": "jp-Babel (Node.js)",
   "language": "babel",
   "name": "babel"
  },
  "language_info": {
   "file_extension": ".js",
   "mimetype": "application/javascript",
   "name": "javascript",
   "version": "13.8.0"
  }
 },
 "nbformat": 4,
 "nbformat_minor": 1
}
