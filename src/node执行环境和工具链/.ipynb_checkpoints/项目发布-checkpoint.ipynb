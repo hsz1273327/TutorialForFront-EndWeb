{
 "cells": [
  {
   "cell_type": "markdown",
   "metadata": {},
   "source": [
    "# 项目发布\n",
    "\n",
    "npm自带一个包仓库用于分发项目.由于项目发布的目的是为了让大家都可以用,因此通常我们应该使用typescript来构造用于发布的项目.同时提供类型申明以支持typescript使用.\n",
    "\n",
    "创建一个npm的账号\n",
    "\n",
    "\"name\": \"module_dis\",\n",
    "  \"version\": \"1.0.0\",\n",
    "  \"description\": \"js演示工具集\",\n",
    "  \"email\":\"hsz1273327@gmail.com\",\n",
    "  \"main\": \"./dist/index.js\",\n",
    "  \"types\": \"./dist/index.d.ts\","
   ]
  }
 ],
 "metadata": {
  "kernelspec": {
   "display_name": "jp-Babel (Node.js)",
   "language": "babel",
   "name": "babel"
  },
  "language_info": {
   "file_extension": ".js",
   "mimetype": "application/javascript",
   "name": "javascript",
   "version": "13.8.0"
  }
 },
 "nbformat": 4,
 "nbformat_minor": 2
}
