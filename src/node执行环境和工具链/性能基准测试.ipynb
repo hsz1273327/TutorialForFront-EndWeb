{
 "cells": [
  {
   "cell_type": "markdown",
   "metadata": {},
   "source": [
    "# 性能基准测试\n",
    "\n",
    "在大型项目中我们有可能会希望通过对比来查看某个功能的不同实现会有怎样不同的表现,这时候就可以使用`Benchmark.js`\n",
    "\n",
    "安装:\n",
    "\n",
    "    npm install --save-dev  benchmark\n",
    "    \n",
    "使用:\n",
    "\n",
    "> 例:"
   ]
  },
  {
   "cell_type": "markdown",
   "metadata": {},
   "source": [
    "我们知道js中字符串相连是有两种方式的:"
   ]
  },
  {
   "cell_type": "code",
   "execution_count": 1,
   "metadata": {},
   "outputs": [
    {
     "data": {
      "text/plain": [
       "'asdfghjkl'"
      ]
     },
     "execution_count": 1,
     "metadata": {},
     "output_type": "execute_result"
    }
   ],
   "source": [
    "\"asdfg\"+\"hjkl\""
   ]
  },
  {
   "cell_type": "code",
   "execution_count": 2,
   "metadata": {},
   "outputs": [
    {
     "data": {
      "text/plain": [
       "'asdfghjkl'"
      ]
     },
     "execution_count": 2,
     "metadata": {},
     "output_type": "execute_result"
    }
   ],
   "source": [
    "\"asdfg\".concat(\"hjkl\")"
   ]
  },
  {
   "cell_type": "markdown",
   "metadata": {},
   "source": [
    "让我么来测测哪个快"
   ]
  },
  {
   "cell_type": "markdown",
   "metadata": {},
   "source": [
    "待测代码 `strconcat.js`:\n",
    "\n",
    "```js\n",
    "export function str_plus(str1,str2) {\n",
    "    return str1+str2\n",
    "}\n",
    "export function str_concat(str1,str2) {\n",
    "    return str1.concat(str2)\n",
    "}\n",
    "\n",
    "```"
   ]
  },
  {
   "cell_type": "markdown",
   "metadata": {},
   "source": [
    "测试代码`strconcat.benchmark.js`:\n",
    "\n",
    "```js\n",
    "import {str_plus,str_concat} from \"./strconcat\"\n",
    "import Benchmark from 'benchmark'\n",
    "let str1 = \"asdfg\"\n",
    "let str2 = \"hjkl\"\n",
    "\n",
    "let suite = new Benchmark.Suite\n",
    "// 添加测试\n",
    "suite\n",
    ".add('+', function() {\n",
    "  str_plus(str1,str2)\n",
    "})\n",
    ".add('concat', function() {\n",
    "  str_concat(str1,str2)\n",
    "})\n",
    "// 每个测试跑完后，输出信息\n",
    ".on('cycle', function(event) {\n",
    "  console.log(String(event.target))\n",
    "})\n",
    ".on('complete', function() {\n",
    "  console.log('Fastest is ' + this.filter('fastest').map('name'))\n",
    "})\n",
    "// 这里的 async 不是 mocha 测试那个 async 的意思，这个选项与它的时间计算有关，默认勾上就好了。\n",
    ".run({ 'async': true })\n",
    "\n",
    "```"
   ]
  },
  {
   "cell_type": "markdown",
   "metadata": {},
   "source": [
    "之后再直接用`babel-node`运行即可"
   ]
  },
  {
   "cell_type": "markdown",
   "metadata": {},
   "source": [
    "# 在交互环境中测试\n",
    "\n",
    "我们同样可以在`babel-node`或者我们的`jupyter notebook`中做测试"
   ]
  },
  {
   "cell_type": "code",
   "execution_count": 3,
   "metadata": {},
   "outputs": [],
   "source": [
    "function str_plus(str1,str2) {\n",
    "    return str1+str2\n",
    "}\n",
    "function str_concat(str1,str2) {\n",
    "    return str1.concat(str2)\n",
    "}"
   ]
  },
  {
   "cell_type": "code",
   "execution_count": 4,
   "metadata": {},
   "outputs": [
    {
     "data": {
      "text/plain": [
       "Suite {\n",
       "  '0':\n",
       "   Benchmark {\n",
       "     name: '+',\n",
       "     options:\n",
       "      { async: false,\n",
       "        defer: false,\n",
       "        delay: 0.005,\n",
       "        id: undefined,\n",
       "        initCount: 1,\n",
       "        maxTime: 5,\n",
       "        minSamples: 5,\n",
       "        minTime: 0,\n",
       "        name: undefined,\n",
       "        onAbort: undefined,\n",
       "        onComplete: undefined,\n",
       "        onCycle: undefined,\n",
       "        onError: undefined,\n",
       "        onReset: undefined,\n",
       "        onStart: undefined },\n",
       "     async: false,\n",
       "     defer: false,\n",
       "     delay: 0.005,\n",
       "     initCount: 1,\n",
       "     maxTime: 5,\n",
       "     minSamples: 5,\n",
       "     minTime: 0,\n",
       "     id: 1,\n",
       "     fn: [Function],\n",
       "     stats:\n",
       "      { moe: 0,\n",
       "        rme: 0,\n",
       "        sem: 0,\n",
       "        deviation: 0,\n",
       "        mean: 0,\n",
       "        sample: [],\n",
       "        variance: 0 },\n",
       "     times: { cycle: 0, elapsed: 0, period: 0, timeStamp: 0 },\n",
       "     _timerId:\n",
       "      Timeout {\n",
       "        _called: false,\n",
       "        _idleTimeout: 5,\n",
       "        _idlePrev: [TimersList],\n",
       "        _idleNext: [TimersList],\n",
       "        _idleStart: 11585,\n",
       "        _onTimeout: [Function],\n",
       "        _timerArgs: undefined,\n",
       "        _repeat: null,\n",
       "        _destroyed: false,\n",
       "        [Symbol(unrefed)]: false,\n",
       "        [Symbol(asyncId)]: 29,\n",
       "        [Symbol(triggerId)]: 26 } },\n",
       "  '1':\n",
       "   Benchmark {\n",
       "     name: 'concat',\n",
       "     options:\n",
       "      { async: false,\n",
       "        defer: false,\n",
       "        delay: 0.005,\n",
       "        id: undefined,\n",
       "        initCount: 1,\n",
       "        maxTime: 5,\n",
       "        minSamples: 5,\n",
       "        minTime: 0,\n",
       "        name: undefined,\n",
       "        onAbort: undefined,\n",
       "        onComplete: undefined,\n",
       "        onCycle: undefined,\n",
       "        onError: undefined,\n",
       "        onReset: undefined,\n",
       "        onStart: undefined },\n",
       "     async: false,\n",
       "     defer: false,\n",
       "     delay: 0.005,\n",
       "     initCount: 1,\n",
       "     maxTime: 5,\n",
       "     minSamples: 5,\n",
       "     minTime: 0,\n",
       "     id: 2,\n",
       "     fn: [Function],\n",
       "     stats:\n",
       "      { moe: 0,\n",
       "        rme: 0,\n",
       "        sem: 0,\n",
       "        deviation: 0,\n",
       "        mean: 0,\n",
       "        sample: [],\n",
       "        variance: 0 },\n",
       "     times: { cycle: 0, elapsed: 0, period: 0, timeStamp: 0 } },\n",
       "  name: undefined,\n",
       "  options: { name: undefined },\n",
       "  length: 2,\n",
       "  events: { cycle: [ [Function] ], complete: [ [Function] ] },\n",
       "  running: true }"
      ]
     },
     "execution_count": 4,
     "metadata": {},
     "output_type": "execute_result"
    },
    {
     "name": "stdout",
     "output_type": "stream",
     "text": [
      "+ x 66,246,030 ops/sec ±2.41% (83 runs sampled)\n",
      "concat x 70,009,103 ops/sec ±1.13% (90 runs sampled)\n",
      "Fastest is concat\n"
     ]
    }
   ],
   "source": [
    "import Benchmark from 'benchmark'\n",
    "let str1 = \"asdfg\"\n",
    "let str2 = \"hjkl\"\n",
    "\n",
    "var suite = new Benchmark.Suite\n",
    "\n",
    "try{\n",
    "    // 添加测试\n",
    "suite\n",
    ".add('+', function() {\n",
    "  str_plus(str1,str2)\n",
    "})\n",
    ".add('concat', function() {\n",
    "  str_concat(str1,str2)\n",
    "})\n",
    "// 每个测试跑完后，输出信息\n",
    ".on('cycle', function(event) {\n",
    "  console.log(String(event.target))\n",
    "})\n",
    ".on('complete', function() {\n",
    "  console.log('Fastest is ' + this.filter('fastest').map('name'))\n",
    "})\n",
    "// 这里的 async 不是 mocha 测试那个 async 的意思，这个选项与它的时间计算有关，默认勾上就好了。\n",
    ".run({ 'async': true })\n",
    "} catch(err) {\n",
    "    console.log(err)\n",
    "}\n"
   ]
  },
  {
   "cell_type": "markdown",
   "metadata": {},
   "source": [
    "可见其实+运算符还是蛮好,而concat运行更快"
   ]
  },
  {
   "cell_type": "markdown",
   "metadata": {},
   "source": [
    "## 内存使用情况\n",
    "\n",
    "\n",
    "一般的后台开发语言中,内存使用的大小几乎没有限制.但是,V8最初是为浏览器打造的,在V8下64位系统可以操纵1.4GB内存,32位系统可以操纵0.7GB内存.在这样的限制下,node几乎不能直接操纵大内存.\n",
    "\n",
    "node的process对象提供了对内存使用的快照接口`process.memoryUsage()`"
   ]
  },
  {
   "cell_type": "code",
   "execution_count": 11,
   "metadata": {},
   "outputs": [
    {
     "data": {
      "text/plain": [
       "{ rss: 31166464,\n",
       "  heapTotal: 18690048,\n",
       "  heapUsed: 13056152,\n",
       "  external: 8859 }"
      ]
     },
     "execution_count": 11,
     "metadata": {},
     "output_type": "execute_result"
    }
   ],
   "source": [
    "process.memoryUsage()"
   ]
  },
  {
   "cell_type": "markdown",
   "metadata": {},
   "source": [
    "其中\n",
    "+ rss:resident set size，进程的常驻内存,是给这个进程分配了多少物理内存(占总分配内存的一部分) 这些物理内存中包含堆，栈，和代码段\n",
    "+ heapTotal: 已经申请到的堆内存\n",
    "+ heapUsed: 当前堆内存使用量\n",
    "+ external: 代表V8管理的绑定到Javascript的C++对象的内存使用情况.\n",
    "\n",
    "几乎和C语言一样,对象,字符串,闭包等存于堆内存.变量存于栈内存.实际的JavaScript源代码存于代码段内存."
   ]
  },
  {
   "cell_type": "code",
   "execution_count": 12,
   "metadata": {},
   "outputs": [
    {
     "data": {
      "text/plain": [
       "{ rss: 31199232,\n",
       "  heapTotal: 18690048,\n",
       "  heapUsed: 13089784,\n",
       "  external: 8895 }"
      ]
     },
     "execution_count": 12,
     "metadata": {},
     "output_type": "execute_result"
    }
   ],
   "source": [
    "process.memoryUsage()"
   ]
  },
  {
   "cell_type": "markdown",
   "metadata": {},
   "source": [
    "因此要看一段代码用了多少内存,开头结尾处计算rss+heapUsed的差即可"
   ]
  },
  {
   "cell_type": "code",
   "execution_count": 15,
   "metadata": {},
   "outputs": [
    {
     "name": "stdout",
     "output_type": "stream",
     "text": [
      "200\n"
     ]
    }
   ],
   "source": [
    "let before = process.memoryUsage()\n",
    "let before_used = before.rss+before.heapUsed\n",
    "for (let i=0;i<10000;i++){\n",
    "    \n",
    "}\n",
    "let after = process.memoryUsage()\n",
    "let after_used = after.rss+after.heapUsed\n",
    "console.log(after_used-before_used)"
   ]
  },
  {
   "cell_type": "code",
   "execution_count": null,
   "metadata": {},
   "outputs": [],
   "source": []
  }
 ],
 "metadata": {
  "kernelspec": {
   "display_name": "jp-Babel (Node.js)",
   "language": "babel",
   "name": "babel"
  },
  "language_info": {
   "file_extension": ".js",
   "mimetype": "application/javascript",
   "name": "javascript",
   "version": "13.8.0"
  }
 },
 "nbformat": 4,
 "nbformat_minor": 1
}
