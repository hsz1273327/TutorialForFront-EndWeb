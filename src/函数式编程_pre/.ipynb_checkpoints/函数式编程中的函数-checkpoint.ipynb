{
 "cells": [
  {
   "cell_type": "markdown",
   "metadata": {},
   "source": [
    "# 函数式编程中的函数\n",
    "\n",
    "函数式编程自然是围绕函数展开的,不是所有编程语言中都可以应用函数式编程,我们用js来介绍函数式也是因为js天生支持."
   ]
  },
  {
   "cell_type": "markdown",
   "metadata": {},
   "source": [
    "## 数学上的函数\n",
    "\n",
    "数学上函数是不同数值之间的特殊关系:每一个输入值返回且只返回一个输出值.换句话说,函数只是两种数值之间的关系:输入和输出.尽管每个输入都只会有一个输出,但不同的输入却可以有相同的输出."
   ]
  },
  {
   "cell_type": "markdown",
   "metadata": {},
   "source": [
    "## 函数是一等公民\n",
    "\n",
    "所谓的函数是一等公民其含义是函数是一种普通类型的数据,和数字,字符串这些一样可以被赋值给变量,被复制,可以作为参数或者返回值.实际上这个概念在很多古老的程序语言中是不存在的.\n"
   ]
  },
  {
   "cell_type": "markdown",
   "metadata": {},
   "source": [
    "## 纯函数\n",
    "\n",
    "首先我们要厘清纯函数的概念:\n",
    "\n",
    "> 纯函数是这样一种函数,即相同的输入,永远会得到相同的输出,而且没有任何可观察的副作用\n",
    "\n",
    "\n",
    "比如数组的`slice`和`splice`,这两个函数的作用并无二致,他们符合纯函数概念的第一条;但是注意它们各自的方式却大不同.我们说`slice`符合纯函数的定义是因为对相同的输入它保证能返回相同的输出;而`splice`却会嚼烂调用它的那个数组然后再吐出来.这就会产生可观察到的副作用,即这个数组永久地改变了."
   ]
  },
  {
   "cell_type": "code",
   "execution_count": 1,
   "metadata": {},
   "outputs": [],
   "source": [
    "let xs = [1,2,3,4,5]"
   ]
  },
  {
   "cell_type": "code",
   "execution_count": 2,
   "metadata": {},
   "outputs": [
    {
     "data": {
      "text/plain": [
       "[ 1, 2, 3 ]"
      ]
     },
     "execution_count": 2,
     "metadata": {},
     "output_type": "execute_result"
    }
   ],
   "source": [
    "xs.slice(0,3)"
   ]
  },
  {
   "cell_type": "code",
   "execution_count": 3,
   "metadata": {},
   "outputs": [
    {
     "data": {
      "text/plain": [
       "[ 1, 2, 3 ]"
      ]
     },
     "execution_count": 3,
     "metadata": {},
     "output_type": "execute_result"
    }
   ],
   "source": [
    "xs.splice(0,3)"
   ]
  },
  {
   "cell_type": "code",
   "execution_count": 4,
   "metadata": {},
   "outputs": [
    {
     "data": {
      "text/plain": [
       "[ 4, 5 ]"
      ]
     },
     "execution_count": 4,
     "metadata": {},
     "output_type": "execute_result"
    }
   ],
   "source": [
    "xs//由不纯的splice带来的副作用"
   ]
  },
  {
   "cell_type": "markdown",
   "metadata": {},
   "source": [
    "函数式编程希望函数都是无副作用的,这样可保证不会带来不必要的麻烦.我们来看一个非常常见的不纯的函数写法:"
   ]
  },
  {
   "cell_type": "code",
   "execution_count": 5,
   "metadata": {},
   "outputs": [],
   "source": [
    "let minimum = 21\n",
    "\n",
    "function checkAge(age) {\n",
    "  return age >= minimum\n",
    "}"
   ]
  },
  {
   "cell_type": "markdown",
   "metadata": {},
   "source": [
    "这个函数用来检测年龄是否符合要求,但这个最小年龄标准却并不在函数内部定义而是由外部的变量提供,这种引入外部变量是复杂度的罪魁祸首.我们将其改造成纯函数"
   ]
  },
  {
   "cell_type": "code",
   "execution_count": 1,
   "metadata": {},
   "outputs": [],
   "source": [
    "const checkAge = (age)=> {\n",
    "    let minimum = 21\n",
    "    return age >= minimum\n",
    "}"
   ]
  },
  {
   "cell_type": "markdown",
   "metadata": {},
   "source": [
    "### 副作用\n",
    "\n",
    "让我们来仔细研究一下\"副作用\"以便加深理解.那么我们在纯函数定义中提到的万分邪恶的副作用到底是什么?\"作用\"我们可以理解为一切除结果计算之外发生的事情.\n",
    "\"作用\"本身并没什么坏处,而且在本书后面的章节你随处可见它的身影.\"副作用\"的关键部分在于\"副\".就像一潭死水中的\"水\"本身并不是幼虫的培养器,\"死\"才是生成虫群的原因.同理副作用中的\"副\"是滋生bug的温床.\n",
    "\n",
    "> 副作用是在计算结果的过程中系统状态的一种变化,或者与外部世界进行的可观察的交互\n",
    "\n",
    "副作用可能包含但不限于:\n",
    "+ 更改文件系统\n",
    "+ 往数据库插入记录\n",
    "+ 发送一个 http 请求\n",
    "+ 可变数据\n",
    "+ 打印/log\n",
    "+ 获取用户输入\n",
    "+ DOM 查询\n",
    "+ 访问系统状态\n",
    "...\n",
    "\n",
    "概括来讲只要是跟函数外部环境发生的交互就都是副作用--这一点可能会让你怀疑无副作用编程的可行性.函数式编程的哲学就是假定副作用是造成不正当行为的主要原因.\n",
    "\n",
    "这并不是说，要禁止使用一切副作用,而是说要让它们在可控的范围内发生.后面讲到`functor`和`monad`的时候我们会学习如何控制它们,目前还是尽量远离这些阴险的函数为好.\n",
    "\n",
    "副作用让一个函数变得不纯是有道理的:从定义上来说纯函数必须要能够根据相同的输入返回相同的输出;如果函数需要跟外部事物打交道,那么就无法保证这一点了.\n",
    "\n",
    "我们来仔细了解下为何要坚持这种`相同输入得到相同输出`原则."
   ]
  },
  {
   "cell_type": "code",
   "execution_count": null,
   "metadata": {},
   "outputs": [],
   "source": []
  }
 ],
 "metadata": {
  "kernelspec": {
   "display_name": "jp-Babel (Node.js)",
   "language": "babel",
   "name": "babel"
  },
  "language_info": {
   "file_extension": ".js",
   "mimetype": "application/javascript",
   "name": "javascript",
   "version": "13.8.0"
  }
 },
 "nbformat": 4,
 "nbformat_minor": 2
}
