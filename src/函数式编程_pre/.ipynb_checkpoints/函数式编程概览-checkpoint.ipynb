{
 "cells": [
  {
   "cell_type": "markdown",
   "metadata": {},
   "source": [
    "# 函数式编程概览\n",
    "\n",
    "函数式编程本身不是新鲜概念,在计算机出现初期就已经存在.和面向过程的编程范式(包括面向对象)相比它是数学理论的衍生物而非工程实践的产物.\n",
    "\n",
    "因此在思维方式上就完全不同:\n",
    "\n",
    "+ 工程实践的产物往往是由大量经验,测试,实验中的实践总结而来,即理论产生的思维方式是归纳抽象.解决问题的思维方式是自顶向下的分解问题\n",
    "    + 解决问题的思维框架:\n",
    "        1. 分析归纳需求\n",
    "        2. 根据需求分解问题\n",
    "        3. 解决问题\n",
    "    + 理论产生的思维框架\n",
    "        1. 实践中积累工程经验试错\n",
    "        2. 归纳错误原因总结成功经验\n",
    "\n",
    "+ 数学理论的衍生物则是由公理体系推导而来,理论产生的思维方式是演绎法得来,因此解决问题的思维方式是自底向上的组合问题.之所以说它是衍生物是因为本质上函数式编程只是一种数学方法,只是碰巧它能用来写程序.\n",
    "    + 解决问题的思维框架:\n",
    "        1. 定义最基本的原子操作\n",
    "        2. 定义基本的组合规则\n",
    "        3. 把这些原子以各种方法组合起来以解决问题\n",
    "    + 理论产生的思维框架\n",
    "        1. 假设理论\n",
    "        2. 由公理体系推导证明\n",
    "\n",
    "## 丑话说前面\n",
    "\n",
    "函数式编程的思维方式难以理解,神秘,高大上,也不接地气.而且关键的是它并不是必要技能,与其说是一种编程范式其实更多的是一种思维方式训练.\n",
    "而且对找工作,写项目其实也不是必须(我写的似乎都是这种东西).这也意味着这部分感兴趣就学不感兴趣就不学完全没有影响.\n",
    "\n",
    "## 那学它干嘛!\n",
    "\n",
    "简单说它是现行主流面向过程的编程范式(包括面向对象)的很好补充.面向过程的编程范式是面相需求的,需求是这套体系的核心,没有明确的需求就没有办法拆分需求,没法为需求和自需求定义接口,自然也没法为接口实现设计单元测试.\n",
    "而在完全摸不透需求时怎么办?不妨试试函数式编程思想.确定一些基本的范畴和对应的规则,然后在遇到需求后自由的将他们组合起来试着解决问题.如果不行就试着再加几个新的范畴和对应规则.\n",
    "\n",
    "面相对象当然有其优越性--学习门槛低,代码直白便于理解维护.但自然它也有其劣势--抽象程度低,内部状态变化难以追踪.我们来看下面一个例子:"
   ]
  },
  {
   "cell_type": "markdown",
   "metadata": {},
   "source": [
    "> 聚群\n",
    "\n",
    "这里例子在[mostly-adequate-guide](https://github.com/MostlyAdequate/mostly-adequate-guide)这本书中可以找到.\n",
    "\n",
    "海鸥群合并则变成了一个更大的海鸥群,繁殖则增加了海鸥群的数量,增加的数量就是它们繁殖出来的海鸥的数量.我们来模拟下用面相对象的方式实现\n"
   ]
  },
  {
   "cell_type": "code",
   "execution_count": 1,
   "metadata": {},
   "outputs": [],
   "source": [
    "/* 海鸥群 */\n",
    "class Flock{\n",
    "    /* 初始胡海鸥群的规模 */\n",
    "    constructor(seagulls) {\n",
    "        this.seagulls = seagulls\n",
    "    }\n",
    "    /* 两个海鸥群合并*/\n",
    "    conjoin(other) {\n",
    "      this.seagulls += other.seagulls\n",
    "      return this\n",
    "    }\n",
    "    /* 两个海鸥群繁殖*/\n",
    "    breed(other) {\n",
    "      this.seagulls = this.seagulls * other.seagulls\n",
    "      return this\n",
    "    }\n",
    "}"
   ]
  },
  {
   "cell_type": "code",
   "execution_count": 2,
   "metadata": {},
   "outputs": [],
   "source": [
    "let flock_a = new Flock(4);\n",
    "let flock_b = new Flock(2);\n",
    "let flock_c = new Flock(0);"
   ]
  },
  {
   "cell_type": "code",
   "execution_count": 3,
   "metadata": {},
   "outputs": [],
   "source": [
    "let result = flock_a.conjoin(flock_c).breed(flock_b).conjoin(flock_a.breed(flock_b)).seagulls"
   ]
  },
  {
   "cell_type": "code",
   "execution_count": 4,
   "metadata": {},
   "outputs": [
    {
     "data": {
      "text/plain": [
       "32"
      ]
     },
     "execution_count": 4,
     "metadata": {},
     "output_type": "execute_result"
    }
   ],
   "source": [
    "result"
   ]
  },
  {
   "cell_type": "markdown",
   "metadata": {},
   "source": [
    "实际上上面的结果是错的,为什么呢?`flock_a`在运算过程中永久地改变了，所以得出了错误的结果.正确的结果是`2*(4+0)+4*2 =16`."
   ]
  },
  {
   "cell_type": "markdown",
   "metadata": {},
   "source": [
    "我们用函数式的写法来实现这个需求"
   ]
  },
  {
   "cell_type": "code",
   "execution_count": 5,
   "metadata": {},
   "outputs": [],
   "source": [
    "const conjoin = (flock_x, flock_y) => flock_x + flock_y \n",
    "const breed = (flock_x, flock_y) => flock_x * flock_y\n",
    "\n",
    "const flock_a_1 = 4\n",
    "const flock_b_1 = 2\n",
    "const flock_c_1 = 0"
   ]
  },
  {
   "cell_type": "code",
   "execution_count": 7,
   "metadata": {},
   "outputs": [],
   "source": [
    "const result_1 = conjoin(breed(flock_b_1, conjoin(flock_a_1, flock_c_1)), breed(flock_a_1, flock_b_1));"
   ]
  },
  {
   "cell_type": "code",
   "execution_count": 8,
   "metadata": {},
   "outputs": [
    {
     "data": {
      "text/plain": [
       "16"
      ]
     },
     "execution_count": 8,
     "metadata": {},
     "output_type": "execute_result"
    }
   ],
   "source": [
    "result_1"
   ]
  },
  {
   "cell_type": "markdown",
   "metadata": {},
   "source": [
    "可以发现实际上就是加法和乘法而已,于是上面一个实际问题被我们抽象建模成了一个数学问题.既然是加和乘,那就满足交换律结合律同一律分配律,于是我们可以减化计算式:`flock_b * (flock_a + flock_a)也就是2*(4+4)`"
   ]
  },
  {
   "cell_type": "markdown",
   "metadata": {},
   "source": [
    "这个例子可以看出面向对象和函数式的本质区别--面向对象是概括描述,函数式则是建模."
   ]
  }
 ],
 "metadata": {
  "kernelspec": {
   "display_name": "jp-Babel (Node.js)",
   "language": "babel",
   "name": "babel"
  },
  "language_info": {
   "file_extension": ".js",
   "mimetype": "application/javascript",
   "name": "javascript",
   "version": "13.8.0"
  }
 },
 "nbformat": 4,
 "nbformat_minor": 2
}
