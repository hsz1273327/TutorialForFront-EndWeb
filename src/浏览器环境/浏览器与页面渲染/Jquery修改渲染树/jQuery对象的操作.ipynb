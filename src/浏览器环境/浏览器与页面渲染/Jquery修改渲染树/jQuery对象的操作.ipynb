{
 "cells": [
  {
   "cell_type": "markdown",
   "metadata": {},
   "source": [
    "# jQuery对象的操作\n",
    "\n",
    "jQuery对象有固定的api用来操作里面的节点"
   ]
  },
  {
   "cell_type": "markdown",
   "metadata": {},
   "source": [
    "+ **查找**\n",
    "\n",
    "    + find()\n",
    "    \n",
    "        在对象节点内查找,里面的匹配规则和`$`一样,如:`$('ul.lang').find('#swift')`\n",
    "        \n",
    "    + parent()\n",
    "    \n",
    "        查找父节点,如:`$('#swift').parent('div.red')`\n",
    "        \n",
    "    + next()和prev()\n",
    "        \n",
    "        同级查找,如:`$('#swift').next()`\n",
    "        \n",
    "        \n",
    "    + first(),last()和slice()\n",
    "        \n",
    "        如你所见的就是获取节点了,要求jQuery里面不止一个元素\n",
    "    \n",
    "+ **高阶函数**\n",
    "\n",
    "    + filter()\n",
    "        \n",
    "        过滤,匹配规则还是一样,或者传入一个function定义过滤规则(this指代被绑定的DOM)\n",
    "        如:`$('ul.lang li').filter(function () {return this.innerHTML.indexOf('S') === 0; // 返回S开头的节点})`\n",
    "        \n",
    "        \n",
    "    + map()\n",
    "    \n",
    "        映射,高阶函数,用来为每个元素做操作,\n",
    "        如:`$('ul.lang li').map(function () {return this.innerHTML})`\n",
    "\n",
    "\n"
   ]
  },
  {
   "cell_type": "markdown",
   "metadata": {},
   "source": [
    "## 利用jQuery操作节点\n",
    "\n",
    "\n",
    "+ **修改**\n",
    "\n",
    "    + text()|无内容是获取文本内容,填入内容是修改文本内容\n",
    "    + html()|无内容是获取html内容,填入内容是修改html内容\n",
    "    \n",
    "    \n",
    "+ **样式表**\n",
    "\n",
    "    + css()|无内容是获取css样式内容,填入指定样式(如color)可以返回对应值,填入内容是修改css内容,一次修改一项,可以无限次使用\n",
    "    + hasClass('highlight')| 判断是否是某个class\n",
    "    + div.addClass('highlight')| 添加一个class\n",
    "    + div.removeClass('highlight')|移除一个class\n",
    "    \n",
    "    \n",
    "+ **隐藏显示dom**\n",
    "\n",
    "    + hide()| 隐藏\n",
    "    + show()|显示\n",
    "    \n",
    "    \n",
    "+ **获取DOM信息**|--\n",
    "\n",
    "    + width()|宽度,一样空的是返回,填入数值是设置\n",
    "    + height()|高度,一样空的是返回,填入数值是设置\n",
    "    + attr()|填入一个值判断存在不存在这一属性,两个值将第一个值作为属性第二个作为属性的值进行设置\n",
    "    + removeAttr()|移除属性\n",
    "    + prop()|类似attr(),HTML5规定有一种属性在DOM节点中可以没有值，只有出现与不出现两种这种属性prop返回布尔值,attr()返回值或者undefined\n",
    "    + is()|专门判断上面提到的那种属性是否存在\n",
    "    \n",
    "    \n",
    "+ **表单操作**\n",
    "\n",
    "    + val()|用于绑定在表单上,没有参数则返回现在的值,填入参数则填入或者更新值\n",
    "    \n",
    "+ **修改DOM结构**\n",
    "\n",
    "    + append()|把一个dom,jQuery对象或者function作为参数,用来生成一个节点并添加到当前节点DOM的最后面\n",
    "    + prepend()|把一个dom,jQuery对象或者function作为参数,用来生成一个节点并添加到当前节点DOM的最前面\n",
    "    + remove()|移除该节点(或者一串节点)"
   ]
  },
  {
   "cell_type": "markdown",
   "metadata": {},
   "source": [
    "HTML5规定有一种属性在DOM节点中可以没有值，只有出现与不出现两种这种属性,这种属性有:\n",
    "\n",
    "属性|值\n",
    "---|---\n",
    "checked|\"checked\"\n",
    "selected|\"selected\""
   ]
  }
 ],
 "metadata": {
  "kernelspec": {
   "display_name": "Python 3",
   "language": "python",
   "name": "python3"
  },
  "language_info": {
   "codemirror_mode": {
    "name": "ipython",
    "version": 3
   },
   "file_extension": ".py",
   "mimetype": "text/x-python",
   "name": "python",
   "nbconvert_exporter": "python",
   "pygments_lexer": "ipython3",
   "version": "3.6.4"
  }
 },
 "nbformat": 4,
 "nbformat_minor": 1
}
