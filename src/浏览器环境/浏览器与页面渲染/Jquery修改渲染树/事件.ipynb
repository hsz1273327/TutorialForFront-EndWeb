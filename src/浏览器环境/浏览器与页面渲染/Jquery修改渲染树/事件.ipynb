{
 "cells": [
  {
   "cell_type": "markdown",
   "metadata": {},
   "source": [
    "# 事件\n",
    "\n",
    "因为JavaScript在浏览器中以单线程模式运行，页面加载后，一旦页面上所有的JavaScript代码被执行完后，就只能依赖触发事件来执行JavaScript代码。\n",
    "\n",
    "浏览器在接收到用户的鼠标或键盘输入后，会自动在对应的DOM节点上触发相应的事件。如果该节点已经绑定了对应的JavaScript处理函数，该函数就会自动调用。\n",
    "\n",
    "由于不同的浏览器绑定事件的代码都不太一样，所以用jQuery来写代码，就屏蔽了不同浏览器的差异，我们总是编写相同的代码。"
   ]
  },
  {
   "cell_type": "markdown",
   "metadata": {},
   "source": [
    "jQuery对象通过绑定事件并传入回调函数来事件事件的响应,主要的事件有:\n",
    "\n",
    "\n",
    "事件方法|说明\n",
    "---|---\n",
    "**通用事件绑定**|--\n",
    "on(event_str,func)|将一个事件和毁掉函数绑定到一个jQuery对象\n",
    "**鼠标事件**|---\n",
    "click(func)|鼠标单击时触发\n",
    "dblclick(func)|鼠标双击时触发\n",
    "mouseenter(func)|鼠标进入时触发\n",
    "mouseleave(func)|鼠标移出时触发\n",
    "mousemove(func)|鼠标在DOM内部移动时触发\n",
    "hover(func)|鼠标进入和退出时触发两个函数，相当于`mouseenter加上mouseleave`\n",
    "**键盘事件**|键盘事件仅作用在当前焦点的DOM上，通常是`<input>和<textarea>`\n",
    "keydown(func)|键盘按下时触发\n",
    "keyup(func)|键盘松开时触发\n",
    "keypress(func)|按一次键后触发\n",
    "**其他事件**|--\n",
    "focus(func)|当DOM获得焦点时触发\n",
    "blur(func)|当DOM失去焦点时触发\n",
    "change(func)|当`<input>、<select>或<textarea>`的内容改变时触发\n",
    "submit(func)|当`<form>`提交时触发\n",
    "ready(func)|当页面被载入并且DOM树完成初始化后触发"
   ]
  },
  {
   "cell_type": "markdown",
   "metadata": {},
   "source": [
    "> 例子 通过点击一个按钮来改变颜色"
   ]
  },
  {
   "cell_type": "code",
   "execution_count": 5,
   "metadata": {},
   "outputs": [
    {
     "name": "stdout",
     "output_type": "stream",
     "text": [
      "Overwriting html/事件.html\n"
     ]
    }
   ],
   "source": [
    "%%writefile html/事件.html\n",
    "<!DOCTYPE HTML PUBLIC \"-//W3C//DTD HTML 4.01//EN\" \"http://www.w3.org/TR/html4/strict.dtd\";>\n",
    "<html>\n",
    "<head>\n",
    "    <meta http-equiv=\"Content-Type\" content=\"text/html; charset=UTF-8\">\n",
    "    <script src=\"../node_modules/babel-core/browser.min.js\"></script>\n",
    "    <script src=\"../node_modules/jquery/dist/jquery.min.js \"></script>\n",
    "    <title>事件触发</title>\n",
    "</head>\n",
    "<body>\n",
    "    <!-- HTML结构 -->\n",
    "    <div id=\"test-jquery\">\n",
    "        <p id=\"result\" >JavaScript</p>\n",
    "        <button id=\"button\">change style</button>\n",
    "    </div>\n",
    "    <script type=\"text/babel\">\n",
    "    var clickEvent = (jqobj,targetobj)=>{\n",
    "        jqobj.click(()=>{\n",
    "                targetobj.css(\"color\",\"red\").css(\"background-color\",\"#ffd351\")\n",
    "            })\n",
    "    }\n",
    "    var point = $(\"#button\")\n",
    "    var target = $(\"#result\")\n",
    "    clickEvent(point,target)\n",
    "    </script>\n",
    "</body>\n",
    "</html>\n"
   ]
  }
 ],
 "metadata": {
  "anaconda-cloud": {},
  "kernelspec": {
   "display_name": "Python 3",
   "language": "python",
   "name": "python3"
  },
  "language_info": {
   "codemirror_mode": {
    "name": "ipython",
    "version": 3
   },
   "file_extension": ".py",
   "mimetype": "text/x-python",
   "name": "python",
   "nbconvert_exporter": "python",
   "pygments_lexer": "ipython3",
   "version": "3.6.4"
  }
 },
 "nbformat": 4,
 "nbformat_minor": 1
}
