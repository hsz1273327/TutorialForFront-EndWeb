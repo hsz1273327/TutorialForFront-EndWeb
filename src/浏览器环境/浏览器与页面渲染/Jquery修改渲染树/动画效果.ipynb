{
 "cells": [
  {
   "cell_type": "markdown",
   "metadata": {},
   "source": [
    "# 动画效果\n",
    "\n",
    "用JavaScript实现动画，原理非常简单：我们只需要以固定的时间间隔（例如，0.1秒），每次把DOM元素的CSS样式修改一点（例如，高宽各增加10%），看起来就像动画了。\n",
    "\n",
    "但是要用JavaScript手动实现动画效果，需要编写非常复杂的代码。如果想要把动画效果用函数封装起来便于复用，那考虑的事情就更多了。\n",
    "\n",
    "使用jQuery实现动画，代码已经简单得不能再简化了：只需要一行代码！\n",
    "\n",
    "jQuery内置的几种动画样式：\n",
    "\n",
    "\n",
    "+ `show()/ hide()/toggle()`方法\n",
    "\n",
    "    从左上角开始动画,/隐藏/显示\n",
    "    \n",
    "    可以使number型,1000表示1秒,也可以是字符串fast/slow字样,toggle()表示如果是显示状态就隐藏,如果是隐藏状态就显示\n",
    "    \n",
    "    \n",
    "+ `slideUp()/ slideDown()/slideToggle()`\n",
    "\n",
    "    类似上面,只是窗帘式,从上向下\n",
    "    \n",
    "    \n",
    "+ `fadeIn()/fadeOut()/fadeToggle()/fadeTo()`\n",
    "\n",
    "    类似上面的,但是是淡化效果\n",
    "    \n",
    "    fadeTo() 方法允许渐变为给定的不透明度（值介于 0 与 1 之间)\n",
    "    \n",
    "    \n",
    "+ `animate({params},speed,callback)`\n",
    "\n",
    "    自定义动画\n",
    "    \n",
    "    一个css最终状态的Object或者再加一个function,在动画结束时会被调用\n",
    "    \n",
    "    \n",
    "+ `stop(stopAll,goToEnd)`\n",
    "\n",
    "    停止动画效果\n",
    "    \n",
    "    可选的 stopAll 参数规定是否应该清除动画队列。默认是 false，即仅停止活动的动画，允许任何排入队列的动画向后执行。可选的 goToEnd 参数规定是否立即完成当前动画。默认是 false。\n",
    "    \n",
    "    \n",
    "+ `delay()`\n",
    "\n",
    "    延迟\n",
    "\n",
    "\n",
    "注意jQuery没有实现对background-color的动画效果，用animate()设置background-color会没有效果。这种情况下可以使用CSS3的transition实现动画效果。"
   ]
  },
  {
   "cell_type": "markdown",
   "metadata": {},
   "source": [
    "## 链接\n",
    "\n",
    "如需链接一个动作，您只需简单地把该动作追加到之前的动作上,配合delay()这样就可以做连续的复杂动画效果了."
   ]
  },
  {
   "cell_type": "markdown",
   "metadata": {},
   "source": [
    "> 例:把一张图片做成点一下就淡化消失然后再出现的动作"
   ]
  },
  {
   "cell_type": "code",
   "execution_count": 7,
   "metadata": {},
   "outputs": [
    {
     "name": "stdout",
     "output_type": "stream",
     "text": [
      "Overwriting html/动画.html\n"
     ]
    }
   ],
   "source": [
    "%%writefile html/动画.html\n",
    "<!DOCTYPE HTML PUBLIC \"-//W3C//DTD HTML 4.01//EN\" \"http://www.w3.org/TR/html4/strict.dtd\";>\n",
    "<html>\n",
    "<head>\n",
    "    <meta http-equiv=\"Content-Type\" content=\"text/html; charset=UTF-8\">\n",
    "    \n",
    "    <script src=\"../node_modules/jquery/dist/jquery.min.js \"></script>\n",
    "    <title>animation</title>\n",
    "</head>\n",
    "<body>\n",
    "    <!-- HTML结构 -->\n",
    "    <div id=\"test-jquery\">\n",
    "        <img id=\"img\" src=\"../source/img/jftw.jpg\" alt=\"解放台湾!\"/>\n",
    "    </div>\n",
    "    <script src=\"../source/js/animation.js\"></script>\n",
    "</body>\n",
    "</html>\n",
    "\n"
   ]
  },
  {
   "cell_type": "code",
   "execution_count": 16,
   "metadata": {},
   "outputs": [
    {
     "name": "stdout",
     "output_type": "stream",
     "text": [
      "Overwriting source/js/animation.js\n"
     ]
    }
   ],
   "source": [
    "%%writefile source/js/animation.js\n",
    "\n",
    "function animation(point,target){\n",
    "    point.click(function(){\n",
    "        var i = 0\n",
    "        while (i<5){\n",
    "            target.css(\"color\",\"red\")\n",
    "                .fadeTo(\"slow\",0.15)\n",
    "                .delay(500)\n",
    "                .fadeTo(\"slow\",0.85)\n",
    "                .delay(500)\n",
    "            i+=1\n",
    "        }\n",
    "    })\n",
    "}\n",
    "var point = $(\"#img\")\n",
    "var target = $(\"#img\")\n",
    "animation(point,target)"
   ]
  }
 ],
 "metadata": {
  "anaconda-cloud": {},
  "kernelspec": {
   "display_name": "Python 3",
   "language": "python",
   "name": "python3"
  },
  "language_info": {
   "codemirror_mode": {
    "name": "ipython",
    "version": 3
   },
   "file_extension": ".py",
   "mimetype": "text/x-python",
   "name": "python",
   "nbconvert_exporter": "python",
   "pygments_lexer": "ipython3",
   "version": "3.6.4"
  }
 },
 "nbformat": 4,
 "nbformat_minor": 1
}
