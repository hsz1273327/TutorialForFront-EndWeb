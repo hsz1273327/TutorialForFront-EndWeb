{
 "cells": [
  {
   "cell_type": "markdown",
   "metadata": {},
   "source": [
    "# 选择器与过滤器\n",
    "\n",
    "jQuery是最著名的js前端库,它有许多现成的实现,可以让前端人员不用费心思考那些不同浏览器呀不同平台呀之类的细节问题\n",
    "\n",
    "操作DOM的时候最基础的就是操作节点,jQuery提供了简单方便的操作来实现之前的查找节点任务\n"
   ]
  },
  {
   "cell_type": "markdown",
   "metadata": {},
   "source": [
    "## 选择器\n",
    "\n",
    "jQuery用`$`表示jQuery库,同时给他一个参数他就可以进行查找工作\n",
    "\n",
    "所有的查找返回的都是一个jQuery对象,jQuery对象类似数组，它的每个元素都是一个引用了DOM节点的对象,如果一个都没找到,那就返回一个空的jQuery对象\n",
    "\n",
    "表达式|说明\n",
    "---|---\n",
    "`$('#a')`|找到id是a的节点,并返回一个jQuery对象\n",
    "`$('.a')`|找到class是a的节点\n",
    "`$('a')`|找到`<a>`节点\n",
    "`$('[name=a]')`|找到有属性name是a的节点,当属性中包含特殊字符时则用双引号引起来\n",
    "`$('[name^=a]')`|找到有属性name是以a开头的节点\n",
    "`$('[name$=a]')`|找到有属性name是以a结尾的节点\n",
    "\n",
    "> 选择器可以组合,\n",
    "\n",
    "比如:\n",
    "\n",
    "    $('p[name=a]')\n",
    "    \n",
    "是说要找name属性是a的`<p>`标签.各种组合可以随意搭配\n",
    "\n",
    "\n",
    "> 选择器可以用`,`表示或的关系,从而把符合多种选择条件的都放进去,\n",
    "\n",
    "比如\n",
    "\n",
    "    $('p[name^=a],p[name$=a]')\n",
    "    \n",
    "表示name属性是以a开头或以a结尾的`<p>`标签"
   ]
  },
  {
   "cell_type": "markdown",
   "metadata": {},
   "source": [
    ">选择器可以固定层级\n",
    "\n",
    "如果两个DOM元素具有层级关系，就可以用`$('ancestor descendant')`来选择，层级之间用空格隔开。\n",
    "\n",
    "比如:\n",
    "\n",
    "    $('div[name=a1] p[name$=a]')\n",
    "    \n",
    "表示在name属性是a1的div标签中的所有name属性是以a结尾的p标签\n",
    "\n",
    "\n",
    "也可以用自选择器`$('parent>child')`来做选择\n",
    "\n",
    "自选择器固定了层级关系是父子关系,也就是一个节点必须是拎一个的直属子节点\n",
    "\n",
    "    $('div[name=a1]>p[name$=a]')\n",
    "    \n",
    "    "
   ]
  },
  {
   "cell_type": "markdown",
   "metadata": {},
   "source": [
    "## 过滤器\n",
    "\n",
    "过滤器用来过滤由选择器选出来的节点,用`:`表示过滤器\n",
    "\n",
    "\n",
    "常用的普通标签的过滤器:\n",
    "\n",
    "\n",
    "过滤器|说明\n",
    "---|---\n",
    "`$('ul.lang li:first-child')`|仅选出第一个\n",
    "`$('ul.lang li:last-child')`| 仅选出最后一个\n",
    "`$('ul.lang li:nth-child(2)')`| 选出第N个元素，N从1开始\n",
    "`$('ul.lang li:nth-child(even)')`| 选出序号为偶数的元素\n",
    "`$('ul.lang li:nth-child(odd)')`| 选出序号为奇数的元素\n",
    "`$('div:visible')`| 所有可见的div\n",
    "`$('div:hidden')`| 所有隐藏的div\n",
    "\n",
    "\n",
    "常用的表单的过滤器:\n",
    "\n",
    "过滤器|说明\n",
    "---|---\n",
    "input|可以选择`<input>，<textarea>，<select>和<button>`\n",
    "file|可以选择`<input type=\"file\">`，和`input[type=file]`一样\n",
    "checkbox|可以选择复选框，和`input[type=checkbox]`一样\n",
    "radio|可以选择单选框，和`input[type=radio]`一样\n",
    "focus|可以选择当前输入焦点的元素，例如把光标放到一个`<input>`上，用`$('input:focus')`就可以选出\n",
    "checked|选择当前勾上的单选框和复选框，用这个选择器可以立刻获得用户选择的项目\n",
    "enabled|可以选择可以正常输入的`<input>、<select>`等，也就是没有灰掉的输入\n",
    "disabled|和:enabled正好相反，选择那些不能输入的"
   ]
  },
  {
   "cell_type": "code",
   "execution_count": 2,
   "metadata": {},
   "outputs": [
    {
     "name": "stdout",
     "output_type": "stream",
     "text": [
      "Overwriting src/选择器.html\n"
     ]
    }
   ],
   "source": [
    "%%writefile src/选择器.html\n",
    "\n",
    "<!DOCTYPE HTML PUBLIC \"-//W3C//DTD HTML 4.01//EN\" \"http://www.w3.org/TR/html4/strict.dtd\";>\n",
    "<html>\n",
    "<head>\n",
    "    <meta http-equiv=\"Content-Type\" content=\"text/html; charset=UTF-8\">\n",
    "    <title>Untitled Document</title>\n",
    "</head>\n",
    "<body>\n",
    "    <!-- HTML结构 -->\n",
    "    <div id=\"test-jquery\">\n",
    "        <p id=\"para-1\" class=\"color-red\">JavaScript</p>\n",
    "        <p id=\"para-2\" class=\"color-green\">Haskell</p>\n",
    "        <p class=\"color-red color-green\">Erlang</p>\n",
    "        <p name=\"name\" class=\"color-black\">Python</p>\n",
    "        <form class=\"test-form\" target=\"_blank\" action=\"#0\" onsubmit=\"return false;\">\n",
    "            <legend>注册新用户</legend>\n",
    "            <fieldset>\n",
    "                <p><label>名字: <input name=\"name\"></label></p>\n",
    "                <p><label>邮件: <input name=\"email\"></label></p>\n",
    "                <p><label>口令: <input name=\"password\" type=\"password\"></label></p>\n",
    "                <p><button type=\"submit\">注册</button></p>\n",
    "            </fieldset>\n",
    "        </form>\n",
    "    </div>\n",
    "</body>\n",
    "</html>\n"
   ]
  }
 ],
 "metadata": {
  "anaconda-cloud": {},
  "kernelspec": {
   "display_name": "Python 3",
   "language": "python",
   "name": "python3"
  },
  "language_info": {
   "codemirror_mode": {
    "name": "ipython",
    "version": 3
   },
   "file_extension": ".py",
   "mimetype": "text/x-python",
   "name": "python",
   "nbconvert_exporter": "python",
   "pygments_lexer": "ipython3",
   "version": "3.6.4"
  }
 },
 "nbformat": 4,
 "nbformat_minor": 1
}
